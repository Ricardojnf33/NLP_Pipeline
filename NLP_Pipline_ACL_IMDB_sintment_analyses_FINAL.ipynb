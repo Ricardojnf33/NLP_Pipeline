{
  "cells": [
    {
      "cell_type": "markdown",
      "metadata": {
        "id": "view-in-github",
        "colab_type": "text"
      },
      "source": [
        "<a href=\"https://colab.research.google.com/github/Ricardojnf33/NLP_Pipline_ACL_IMDB_sentiment_analyses/blob/main/NLP_Pipline_ACL_IMDB_sintment_analyses_FINAL.ipynb\" target=\"_parent\"><img src=\"https://colab.research.google.com/assets/colab-badge.svg\" alt=\"Open In Colab\"/></a>"
      ]
    },
    {
      "cell_type": "code",
      "execution_count": null,
      "metadata": {
        "id": "18KVit-yyPXM",
        "colab": {
          "base_uri": "https://localhost:8080/"
        },
        "outputId": "32fbfc6d-11ac-4034-b15a-f471429562ac"
      },
      "outputs": [
        {
          "output_type": "stream",
          "name": "stdout",
          "text": [
            "[nltk_data] Downloading package wordnet to /root/nltk_data...\n",
            "[nltk_data]   Package wordnet is already up-to-date!\n"
          ]
        }
      ],
      "source": [
        "import os\n",
        "from glob import glob\n",
        "from os import path\n",
        "import numpy as np\n",
        "import pandas as pd\n",
        "import seaborn as sns\n",
        "from sklearn.metrics import pairwise_distances\n",
        "from sklearn.metrics import confusion_matrix, classification_report\n",
        "\n",
        "import matplotlib.pyplot as plt\n",
        "from sklearn.metrics import confusion_matrix\n",
        "from sklearn.ensemble import RandomForestClassifier\n",
        "from sklearn.decomposition import PCA\n",
        "from wordcloud import WordCloud\n",
        "\n",
        "from sklearn.decomposition import TruncatedSVD\n",
        "from sklearn.feature_extraction.text import TfidfTransformer\n",
        "from sklearn.feature_extraction.text import CountVectorizer\n",
        "from sklearn.metrics import precision_recall_fscore_support as score\n",
        "from sklearn.metrics import precision_score, recall_score, f1_score, accuracy_score\n",
        "from sklearn.metrics import accuracy_score\n",
        "\n",
        "import string\n",
        "\n",
        "from wordcloud import WordCloud, STOPWORDS\n",
        "from sklearn.feature_extraction.text import TfidfVectorizer\n",
        "import nltk\n",
        "nltk.download('wordnet')\n",
        "from nltk.stem import WordNetLemmatizer\n",
        "from sklearn.naive_bayes import MultinomialNB\n",
        "from sklearn.tree import DecisionTreeClassifier\n",
        "from sklearn.model_selection import train_test_split\n",
        "from sklearn.metrics import confusion_matrix\n",
        "from sklearn.metrics import classification_report\n",
        "\n",
        "import re\n",
        "import pickle\n",
        "\n",
        "from sklearn import svm\n",
        "from sklearn import metrics\n",
        "\n",
        "from nltk import word_tokenize\n",
        "from sklearn.naive_bayes import MultinomialNB\n",
        "from sklearn.model_selection import train_test_split\n",
        "from sklearn.model_selection import cross_val_predict\n",
        "from sklearn.model_selection import cross_val_score, KFold\n",
        "from sklearn.feature_extraction.text import CountVectorizer\n",
        "\n",
        "from pysummarization.nlpbase.auto_abstractor import AutoAbstractor\n",
        "from pysummarization.tokenizabledoc.simple_tokenizer import SimpleTokenizer\n",
        "from pysummarization.abstractabledoc.top_n_rank_abstractor import TopNRankAbstractor"
      ]
    },
    {
      "cell_type": "code",
      "execution_count": null,
      "metadata": {
        "colab": {
          "base_uri": "https://localhost:8080/"
        },
        "id": "ocKMqN1i-6Qx",
        "outputId": "24ac050f-af5d-4113-e58f-a199d068e67b"
      },
      "outputs": [
        {
          "output_type": "stream",
          "name": "stdout",
          "text": [
            "fatal: destination path 'NLP_Pipline_ACL_IMDB_sentiment_analyses' already exists and is not an empty directory.\n"
          ]
        }
      ],
      "source": [
        "!git clone https://github.com/Ricardojnf33/NLP_Pipline_ACL_IMDB_sentiment_analyses.git"
      ]
    },
    {
      "cell_type": "markdown",
      "metadata": {
        "id": "aIjAvcEFJqwI"
      },
      "source": [
        "# Setup"
      ]
    },
    {
      "cell_type": "markdown",
      "metadata": {
        "id": "otZZThoiJyFX"
      },
      "source": [
        "## Path - train"
      ]
    },
    {
      "cell_type": "code",
      "execution_count": null,
      "metadata": {
        "id": "43CfJ-q3JkXE"
      },
      "outputs": [],
      "source": [
        "# train dataset\n",
        "input_path1 = '/content/NLP_Pipline_ACL_IMDB_sentiment_analyses/train'\n",
        "# CSV output\n",
        "output_path1 = '/content/ACL_IMDB_train.csv'"
      ]
    },
    {
      "cell_type": "markdown",
      "metadata": {
        "id": "aGSNfsCfKDfN"
      },
      "source": [
        "## Obter lista de \"Paths\" de arquivos de texto"
      ]
    },
    {
      "cell_type": "code",
      "execution_count": null,
      "metadata": {
        "colab": {
          "base_uri": "https://localhost:8080/"
        },
        "id": "KLMJvK4wJkUX",
        "outputId": "aeb446a6-b09a-4b2a-e3c4-043671c8ea29"
      },
      "outputs": [
        {
          "output_type": "stream",
          "name": "stdout",
          "text": [
            "Files found (positive reviews):  12500\n",
            "Files found (negative reviews):  12500\n"
          ]
        }
      ],
      "source": [
        "txt_path1_pos = glob( input_path1 + '/pos/*.txt') \n",
        "txt_path1_neg = glob( input_path1 + '/neg/*.txt')\n",
        "print(\"Files found (positive reviews): \", len(txt_path1_pos))\n",
        "print(\"Files found (negative reviews): \", len(txt_path1_neg))"
      ]
    },
    {
      "cell_type": "markdown",
      "metadata": {
        "id": "8HqqTVTCLRaR"
      },
      "source": [
        "## Funções auxiliares"
      ]
    },
    {
      "cell_type": "code",
      "execution_count": null,
      "metadata": {
        "id": "_3U6ZLLyJkRz"
      },
      "outputs": [],
      "source": [
        "def get_text_from_file(path):\n",
        "    with open(path, 'r') as file:\n",
        "        return file.read()"
      ]
    },
    {
      "cell_type": "markdown",
      "metadata": {
        "id": "QfiDAl0JLb8J"
      },
      "source": [
        "# Criação do DataFrame\n",
        "\n",
        "Os valores da coluna de classe são derivados dos nomes das subpastas no \"input_path\".\n",
        "\n",
        "A coluna de imagem contém o \"path\" relativo para as imagens nas subpastas."
      ]
    },
    {
      "cell_type": "code",
      "execution_count": null,
      "metadata": {
        "colab": {
          "base_uri": "https://localhost:8080/",
          "height": 206
        },
        "id": "UI66pw2nJkPd",
        "outputId": "bf53744c-5779-476e-cede-1d084a989a38"
      },
      "outputs": [
        {
          "output_type": "execute_result",
          "data": {
            "text/html": [
              "\n",
              "  <div id=\"df-9624ab02-82c4-43b0-b252-ada9fa63493d\">\n",
              "    <div class=\"colab-df-container\">\n",
              "      <div>\n",
              "<style scoped>\n",
              "    .dataframe tbody tr th:only-of-type {\n",
              "        vertical-align: middle;\n",
              "    }\n",
              "\n",
              "    .dataframe tbody tr th {\n",
              "        vertical-align: top;\n",
              "    }\n",
              "\n",
              "    .dataframe thead th {\n",
              "        text-align: right;\n",
              "    }\n",
              "</style>\n",
              "<table border=\"1\" class=\"dataframe\">\n",
              "  <thead>\n",
              "    <tr style=\"text-align: right;\">\n",
              "      <th></th>\n",
              "      <th>review</th>\n",
              "      <th>sentiment</th>\n",
              "    </tr>\n",
              "  </thead>\n",
              "  <tbody>\n",
              "    <tr>\n",
              "      <th>8992</th>\n",
              "      <td>The film starts to slowly when we got to the c...</td>\n",
              "      <td>negative</td>\n",
              "    </tr>\n",
              "    <tr>\n",
              "      <th>9488</th>\n",
              "      <td>Have to be honest and say that I haven't seen ...</td>\n",
              "      <td>positive</td>\n",
              "    </tr>\n",
              "    <tr>\n",
              "      <th>4433</th>\n",
              "      <td>Almost from the word go this film is poor and ...</td>\n",
              "      <td>negative</td>\n",
              "    </tr>\n",
              "    <tr>\n",
              "      <th>104</th>\n",
              "      <td>Linda Lovelace was the victim of a sadistic wo...</td>\n",
              "      <td>negative</td>\n",
              "    </tr>\n",
              "    <tr>\n",
              "      <th>8222</th>\n",
              "      <td>Have not seen this 1958 film in a very long ti...</td>\n",
              "      <td>positive</td>\n",
              "    </tr>\n",
              "  </tbody>\n",
              "</table>\n",
              "</div>\n",
              "      <button class=\"colab-df-convert\" onclick=\"convertToInteractive('df-9624ab02-82c4-43b0-b252-ada9fa63493d')\"\n",
              "              title=\"Convert this dataframe to an interactive table.\"\n",
              "              style=\"display:none;\">\n",
              "        \n",
              "  <svg xmlns=\"http://www.w3.org/2000/svg\" height=\"24px\"viewBox=\"0 0 24 24\"\n",
              "       width=\"24px\">\n",
              "    <path d=\"M0 0h24v24H0V0z\" fill=\"none\"/>\n",
              "    <path d=\"M18.56 5.44l.94 2.06.94-2.06 2.06-.94-2.06-.94-.94-2.06-.94 2.06-2.06.94zm-11 1L8.5 8.5l.94-2.06 2.06-.94-2.06-.94L8.5 2.5l-.94 2.06-2.06.94zm10 10l.94 2.06.94-2.06 2.06-.94-2.06-.94-.94-2.06-.94 2.06-2.06.94z\"/><path d=\"M17.41 7.96l-1.37-1.37c-.4-.4-.92-.59-1.43-.59-.52 0-1.04.2-1.43.59L10.3 9.45l-7.72 7.72c-.78.78-.78 2.05 0 2.83L4 21.41c.39.39.9.59 1.41.59.51 0 1.02-.2 1.41-.59l7.78-7.78 2.81-2.81c.8-.78.8-2.07 0-2.86zM5.41 20L4 18.59l7.72-7.72 1.47 1.35L5.41 20z\"/>\n",
              "  </svg>\n",
              "      </button>\n",
              "      \n",
              "  <style>\n",
              "    .colab-df-container {\n",
              "      display:flex;\n",
              "      flex-wrap:wrap;\n",
              "      gap: 12px;\n",
              "    }\n",
              "\n",
              "    .colab-df-convert {\n",
              "      background-color: #E8F0FE;\n",
              "      border: none;\n",
              "      border-radius: 50%;\n",
              "      cursor: pointer;\n",
              "      display: none;\n",
              "      fill: #1967D2;\n",
              "      height: 32px;\n",
              "      padding: 0 0 0 0;\n",
              "      width: 32px;\n",
              "    }\n",
              "\n",
              "    .colab-df-convert:hover {\n",
              "      background-color: #E2EBFA;\n",
              "      box-shadow: 0px 1px 2px rgba(60, 64, 67, 0.3), 0px 1px 3px 1px rgba(60, 64, 67, 0.15);\n",
              "      fill: #174EA6;\n",
              "    }\n",
              "\n",
              "    [theme=dark] .colab-df-convert {\n",
              "      background-color: #3B4455;\n",
              "      fill: #D2E3FC;\n",
              "    }\n",
              "\n",
              "    [theme=dark] .colab-df-convert:hover {\n",
              "      background-color: #434B5C;\n",
              "      box-shadow: 0px 1px 3px 1px rgba(0, 0, 0, 0.15);\n",
              "      filter: drop-shadow(0px 1px 2px rgba(0, 0, 0, 0.3));\n",
              "      fill: #FFFFFF;\n",
              "    }\n",
              "  </style>\n",
              "\n",
              "      <script>\n",
              "        const buttonEl =\n",
              "          document.querySelector('#df-9624ab02-82c4-43b0-b252-ada9fa63493d button.colab-df-convert');\n",
              "        buttonEl.style.display =\n",
              "          google.colab.kernel.accessAllowed ? 'block' : 'none';\n",
              "\n",
              "        async function convertToInteractive(key) {\n",
              "          const element = document.querySelector('#df-9624ab02-82c4-43b0-b252-ada9fa63493d');\n",
              "          const dataTable =\n",
              "            await google.colab.kernel.invokeFunction('convertToInteractive',\n",
              "                                                     [key], {});\n",
              "          if (!dataTable) return;\n",
              "\n",
              "          const docLinkHtml = 'Like what you see? Visit the ' +\n",
              "            '<a target=\"_blank\" href=https://colab.research.google.com/notebooks/data_table.ipynb>data table notebook</a>'\n",
              "            + ' to learn more about interactive tables.';\n",
              "          element.innerHTML = '';\n",
              "          dataTable['output_type'] = 'display_data';\n",
              "          await google.colab.output.renderOutput(dataTable, element);\n",
              "          const docLink = document.createElement('div');\n",
              "          docLink.innerHTML = docLinkHtml;\n",
              "          element.appendChild(docLink);\n",
              "        }\n",
              "      </script>\n",
              "    </div>\n",
              "  </div>\n",
              "  "
            ],
            "text/plain": [
              "                                                 review sentiment\n",
              "8992  The film starts to slowly when we got to the c...  negative\n",
              "9488  Have to be honest and say that I haven't seen ...  positive\n",
              "4433  Almost from the word go this film is poor and ...  negative\n",
              "104   Linda Lovelace was the victim of a sadistic wo...  negative\n",
              "8222  Have not seen this 1958 film in a very long ti...  positive"
            ]
          },
          "metadata": {},
          "execution_count": 6
        }
      ],
      "source": [
        "# Create dataframe containing positive reviews\n",
        "df_pos = pd.DataFrame({'review': txt_path1_pos})\n",
        "df_pos.insert(loc=1, column='sentiment', value= 'positive')\n",
        "# Create dataframe containing negative reviews\n",
        "df_neg = pd.DataFrame({'review': txt_path1_neg})\n",
        "df_neg.insert(loc=1, column='sentiment', value= 'negative')\n",
        "# Concatenate dataframes containing positive and negative reviews\n",
        "df = pd.concat([df_pos, df_neg])\n",
        "# Replace path with review text\n",
        "df['review'] = df['review'].apply(lambda path: get_text_from_file(path))\n",
        "# Shuffle the rows to ensure that both examples of both clases are displayed in the Dataset previw on the Platform.\n",
        "df = df.sample(frac=1.0, random_state=1)\n",
        "df.head()"
      ]
    },
    {
      "cell_type": "markdown",
      "metadata": {
        "id": "fKt6yKYrMJ-9"
      },
      "source": [
        "# Cálculo da forma ideal da coluna de revisão na plataforma\n",
        "Adicione uma coluna que contenha o número de palavras em cada revisão."
      ]
    },
    {
      "cell_type": "code",
      "execution_count": null,
      "metadata": {
        "colab": {
          "base_uri": "https://localhost:8080/",
          "height": 206
        },
        "id": "2XzodzQUJkKT",
        "outputId": "932a0353-829e-4b4d-d9b7-7bc2e7b9e38a"
      },
      "outputs": [
        {
          "output_type": "execute_result",
          "data": {
            "text/html": [
              "\n",
              "  <div id=\"df-32ed7b35-55bc-4d69-baa2-27eb06e1d484\">\n",
              "    <div class=\"colab-df-container\">\n",
              "      <div>\n",
              "<style scoped>\n",
              "    .dataframe tbody tr th:only-of-type {\n",
              "        vertical-align: middle;\n",
              "    }\n",
              "\n",
              "    .dataframe tbody tr th {\n",
              "        vertical-align: top;\n",
              "    }\n",
              "\n",
              "    .dataframe thead th {\n",
              "        text-align: right;\n",
              "    }\n",
              "</style>\n",
              "<table border=\"1\" class=\"dataframe\">\n",
              "  <thead>\n",
              "    <tr style=\"text-align: right;\">\n",
              "      <th></th>\n",
              "      <th>review</th>\n",
              "      <th>sentiment</th>\n",
              "      <th>word_count</th>\n",
              "    </tr>\n",
              "  </thead>\n",
              "  <tbody>\n",
              "    <tr>\n",
              "      <th>8992</th>\n",
              "      <td>The film starts to slowly when we got to the c...</td>\n",
              "      <td>negative</td>\n",
              "      <td>157</td>\n",
              "    </tr>\n",
              "    <tr>\n",
              "      <th>9488</th>\n",
              "      <td>Have to be honest and say that I haven't seen ...</td>\n",
              "      <td>positive</td>\n",
              "      <td>73</td>\n",
              "    </tr>\n",
              "    <tr>\n",
              "      <th>4433</th>\n",
              "      <td>Almost from the word go this film is poor and ...</td>\n",
              "      <td>negative</td>\n",
              "      <td>227</td>\n",
              "    </tr>\n",
              "    <tr>\n",
              "      <th>104</th>\n",
              "      <td>Linda Lovelace was the victim of a sadistic wo...</td>\n",
              "      <td>negative</td>\n",
              "      <td>114</td>\n",
              "    </tr>\n",
              "    <tr>\n",
              "      <th>8222</th>\n",
              "      <td>Have not seen this 1958 film in a very long ti...</td>\n",
              "      <td>positive</td>\n",
              "      <td>155</td>\n",
              "    </tr>\n",
              "  </tbody>\n",
              "</table>\n",
              "</div>\n",
              "      <button class=\"colab-df-convert\" onclick=\"convertToInteractive('df-32ed7b35-55bc-4d69-baa2-27eb06e1d484')\"\n",
              "              title=\"Convert this dataframe to an interactive table.\"\n",
              "              style=\"display:none;\">\n",
              "        \n",
              "  <svg xmlns=\"http://www.w3.org/2000/svg\" height=\"24px\"viewBox=\"0 0 24 24\"\n",
              "       width=\"24px\">\n",
              "    <path d=\"M0 0h24v24H0V0z\" fill=\"none\"/>\n",
              "    <path d=\"M18.56 5.44l.94 2.06.94-2.06 2.06-.94-2.06-.94-.94-2.06-.94 2.06-2.06.94zm-11 1L8.5 8.5l.94-2.06 2.06-.94-2.06-.94L8.5 2.5l-.94 2.06-2.06.94zm10 10l.94 2.06.94-2.06 2.06-.94-2.06-.94-.94-2.06-.94 2.06-2.06.94z\"/><path d=\"M17.41 7.96l-1.37-1.37c-.4-.4-.92-.59-1.43-.59-.52 0-1.04.2-1.43.59L10.3 9.45l-7.72 7.72c-.78.78-.78 2.05 0 2.83L4 21.41c.39.39.9.59 1.41.59.51 0 1.02-.2 1.41-.59l7.78-7.78 2.81-2.81c.8-.78.8-2.07 0-2.86zM5.41 20L4 18.59l7.72-7.72 1.47 1.35L5.41 20z\"/>\n",
              "  </svg>\n",
              "      </button>\n",
              "      \n",
              "  <style>\n",
              "    .colab-df-container {\n",
              "      display:flex;\n",
              "      flex-wrap:wrap;\n",
              "      gap: 12px;\n",
              "    }\n",
              "\n",
              "    .colab-df-convert {\n",
              "      background-color: #E8F0FE;\n",
              "      border: none;\n",
              "      border-radius: 50%;\n",
              "      cursor: pointer;\n",
              "      display: none;\n",
              "      fill: #1967D2;\n",
              "      height: 32px;\n",
              "      padding: 0 0 0 0;\n",
              "      width: 32px;\n",
              "    }\n",
              "\n",
              "    .colab-df-convert:hover {\n",
              "      background-color: #E2EBFA;\n",
              "      box-shadow: 0px 1px 2px rgba(60, 64, 67, 0.3), 0px 1px 3px 1px rgba(60, 64, 67, 0.15);\n",
              "      fill: #174EA6;\n",
              "    }\n",
              "\n",
              "    [theme=dark] .colab-df-convert {\n",
              "      background-color: #3B4455;\n",
              "      fill: #D2E3FC;\n",
              "    }\n",
              "\n",
              "    [theme=dark] .colab-df-convert:hover {\n",
              "      background-color: #434B5C;\n",
              "      box-shadow: 0px 1px 3px 1px rgba(0, 0, 0, 0.15);\n",
              "      filter: drop-shadow(0px 1px 2px rgba(0, 0, 0, 0.3));\n",
              "      fill: #FFFFFF;\n",
              "    }\n",
              "  </style>\n",
              "\n",
              "      <script>\n",
              "        const buttonEl =\n",
              "          document.querySelector('#df-32ed7b35-55bc-4d69-baa2-27eb06e1d484 button.colab-df-convert');\n",
              "        buttonEl.style.display =\n",
              "          google.colab.kernel.accessAllowed ? 'block' : 'none';\n",
              "\n",
              "        async function convertToInteractive(key) {\n",
              "          const element = document.querySelector('#df-32ed7b35-55bc-4d69-baa2-27eb06e1d484');\n",
              "          const dataTable =\n",
              "            await google.colab.kernel.invokeFunction('convertToInteractive',\n",
              "                                                     [key], {});\n",
              "          if (!dataTable) return;\n",
              "\n",
              "          const docLinkHtml = 'Like what you see? Visit the ' +\n",
              "            '<a target=\"_blank\" href=https://colab.research.google.com/notebooks/data_table.ipynb>data table notebook</a>'\n",
              "            + ' to learn more about interactive tables.';\n",
              "          element.innerHTML = '';\n",
              "          dataTable['output_type'] = 'display_data';\n",
              "          await google.colab.output.renderOutput(dataTable, element);\n",
              "          const docLink = document.createElement('div');\n",
              "          docLink.innerHTML = docLinkHtml;\n",
              "          element.appendChild(docLink);\n",
              "        }\n",
              "      </script>\n",
              "    </div>\n",
              "  </div>\n",
              "  "
            ],
            "text/plain": [
              "                                                 review sentiment  word_count\n",
              "8992  The film starts to slowly when we got to the c...  negative         157\n",
              "9488  Have to be honest and say that I haven't seen ...  positive          73\n",
              "4433  Almost from the word go this film is poor and ...  negative         227\n",
              "104   Linda Lovelace was the victim of a sadistic wo...  negative         114\n",
              "8222  Have not seen this 1958 film in a very long ti...  positive         155"
            ]
          },
          "metadata": {},
          "execution_count": 7
        }
      ],
      "source": [
        "df_stat = df.copy()\n",
        "df_stat['word_count'] = df['review'].apply(lambda txt: len(txt.split(' ')))\n",
        "df_stat.head()"
      ]
    },
    {
      "cell_type": "markdown",
      "metadata": {
        "id": "JsgsgL4pMjd1"
      },
      "source": [
        "###A plataforma irá truncar textos de revisão que tenham uma contagem de palavras que exceda o comprimento do vetor (forma). Um vetor longo normalmente dará um desempenho melhor, mas o modelo levará mais tempo para treinar."
      ]
    },
    {
      "cell_type": "code",
      "execution_count": null,
      "metadata": {
        "colab": {
          "base_uri": "https://localhost:8080/",
          "height": 386
        },
        "id": "LWX2xd8QMFp4",
        "outputId": "973dbcbb-319e-4b9c-9f12-0130a284b721"
      },
      "outputs": [
        {
          "output_type": "stream",
          "name": "stderr",
          "text": [
            "/usr/local/lib/python3.7/dist-packages/seaborn/distributions.py:2619: FutureWarning: `distplot` is a deprecated function and will be removed in a future version. Please adapt your code to use either `displot` (a figure-level function with similar flexibility) or `kdeplot` (an axes-level function for kernel density plots).\n",
            "  warnings.warn(msg, FutureWarning)\n",
            "/usr/local/lib/python3.7/dist-packages/seaborn/distributions.py:2103: FutureWarning: The `axis` variable is no longer used and will be removed. Instead, assign variables directly to `x` or `y`.\n",
            "  warnings.warn(msg, FutureWarning)\n"
          ]
        },
        {
          "output_type": "stream",
          "name": "stdout",
          "text": [
            "Minimum word count required to include all words in 95.0% of the reviews: 598.0\n"
          ]
        },
        {
          "output_type": "display_data",
          "data": {
            "image/png": "[encoded data removed]",
            "text/plain": [
              "<Figure size 432x288 with 1 Axes>"
            ]
          },
          "metadata": {
            "needs_background": "light"
          }
        }
      ],
      "source": [
        "q=0.95\n",
        "x = df_stat['word_count']\n",
        "sns.distplot(x, hist=False, rug=True);\n",
        "print('Minimum word count required to include all words in {}% of the reviews: {}'.format(q*100, x.quantile(q)))"
      ]
    },
    {
      "cell_type": "code",
      "source": [
        "movies_data_wc = pd.concat([df_stat, df])"
      ],
      "metadata": {
        "id": "4yIDsftc4HHd"
      },
      "execution_count": null,
      "outputs": []
    },
    {
      "cell_type": "code",
      "source": [
        "movies_data_wc"
      ],
      "metadata": {
        "colab": {
          "base_uri": "https://localhost:8080/",
          "height": 423
        },
        "id": "G-O8NSjoZ75_",
        "outputId": "2469eb77-1d97-404b-ead2-ac5a519e6d1d"
      },
      "execution_count": null,
      "outputs": [
        {
          "output_type": "execute_result",
          "data": {
            "text/html": [
              "\n",
              "  <div id=\"df-da497e25-0935-4a32-9854-4498cb11f23a\">\n",
              "    <div class=\"colab-df-container\">\n",
              "      <div>\n",
              "<style scoped>\n",
              "    .dataframe tbody tr th:only-of-type {\n",
              "        vertical-align: middle;\n",
              "    }\n",
              "\n",
              "    .dataframe tbody tr th {\n",
              "        vertical-align: top;\n",
              "    }\n",
              "\n",
              "    .dataframe thead th {\n",
              "        text-align: right;\n",
              "    }\n",
              "</style>\n",
              "<table border=\"1\" class=\"dataframe\">\n",
              "  <thead>\n",
              "    <tr style=\"text-align: right;\">\n",
              "      <th></th>\n",
              "      <th>review</th>\n",
              "      <th>sentiment</th>\n",
              "      <th>word_count</th>\n",
              "    </tr>\n",
              "  </thead>\n",
              "  <tbody>\n",
              "    <tr>\n",
              "      <th>8992</th>\n",
              "      <td>The film starts to slowly when we got to the c...</td>\n",
              "      <td>negative</td>\n",
              "      <td>157.0</td>\n",
              "    </tr>\n",
              "    <tr>\n",
              "      <th>9488</th>\n",
              "      <td>Have to be honest and say that I haven't seen ...</td>\n",
              "      <td>positive</td>\n",
              "      <td>73.0</td>\n",
              "    </tr>\n",
              "    <tr>\n",
              "      <th>4433</th>\n",
              "      <td>Almost from the word go this film is poor and ...</td>\n",
              "      <td>negative</td>\n",
              "      <td>227.0</td>\n",
              "    </tr>\n",
              "    <tr>\n",
              "      <th>104</th>\n",
              "      <td>Linda Lovelace was the victim of a sadistic wo...</td>\n",
              "      <td>negative</td>\n",
              "      <td>114.0</td>\n",
              "    </tr>\n",
              "    <tr>\n",
              "      <th>8222</th>\n",
              "      <td>Have not seen this 1958 film in a very long ti...</td>\n",
              "      <td>positive</td>\n",
              "      <td>155.0</td>\n",
              "    </tr>\n",
              "    <tr>\n",
              "      <th>...</th>\n",
              "      <td>...</td>\n",
              "      <td>...</td>\n",
              "      <td>...</td>\n",
              "    </tr>\n",
              "    <tr>\n",
              "      <th>10955</th>\n",
              "      <td>Deliverance is a stunning thriller, every bit ...</td>\n",
              "      <td>positive</td>\n",
              "      <td>NaN</td>\n",
              "    </tr>\n",
              "    <tr>\n",
              "      <th>4789</th>\n",
              "      <td>I know that the real story of Little Richard i...</td>\n",
              "      <td>negative</td>\n",
              "      <td>NaN</td>\n",
              "    </tr>\n",
              "    <tr>\n",
              "      <th>5192</th>\n",
              "      <td>Here is proof of why Mary Pickford was `Americ...</td>\n",
              "      <td>positive</td>\n",
              "      <td>NaN</td>\n",
              "    </tr>\n",
              "    <tr>\n",
              "      <th>12172</th>\n",
              "      <td>I remember first watching Sabrina when it came...</td>\n",
              "      <td>positive</td>\n",
              "      <td>NaN</td>\n",
              "    </tr>\n",
              "    <tr>\n",
              "      <th>235</th>\n",
              "      <td>By 1945, and after a string of solid WWII prop...</td>\n",
              "      <td>positive</td>\n",
              "      <td>NaN</td>\n",
              "    </tr>\n",
              "  </tbody>\n",
              "</table>\n",
              "<p>50000 rows × 3 columns</p>\n",
              "</div>\n",
              "      <button class=\"colab-df-convert\" onclick=\"convertToInteractive('df-da497e25-0935-4a32-9854-4498cb11f23a')\"\n",
              "              title=\"Convert this dataframe to an interactive table.\"\n",
              "              style=\"display:none;\">\n",
              "        \n",
              "  <svg xmlns=\"http://www.w3.org/2000/svg\" height=\"24px\"viewBox=\"0 0 24 24\"\n",
              "       width=\"24px\">\n",
              "    <path d=\"M0 0h24v24H0V0z\" fill=\"none\"/>\n",
              "    <path d=\"M18.56 5.44l.94 2.06.94-2.06 2.06-.94-2.06-.94-.94-2.06-.94 2.06-2.06.94zm-11 1L8.5 8.5l.94-2.06 2.06-.94-2.06-.94L8.5 2.5l-.94 2.06-2.06.94zm10 10l.94 2.06.94-2.06 2.06-.94-2.06-.94-.94-2.06-.94 2.06-2.06.94z\"/><path d=\"M17.41 7.96l-1.37-1.37c-.4-.4-.92-.59-1.43-.59-.52 0-1.04.2-1.43.59L10.3 9.45l-7.72 7.72c-.78.78-.78 2.05 0 2.83L4 21.41c.39.39.9.59 1.41.59.51 0 1.02-.2 1.41-.59l7.78-7.78 2.81-2.81c.8-.78.8-2.07 0-2.86zM5.41 20L4 18.59l7.72-7.72 1.47 1.35L5.41 20z\"/>\n",
              "  </svg>\n",
              "      </button>\n",
              "      \n",
              "  <style>\n",
              "    .colab-df-container {\n",
              "      display:flex;\n",
              "      flex-wrap:wrap;\n",
              "      gap: 12px;\n",
              "    }\n",
              "\n",
              "    .colab-df-convert {\n",
              "      background-color: #E8F0FE;\n",
              "      border: none;\n",
              "      border-radius: 50%;\n",
              "      cursor: pointer;\n",
              "      display: none;\n",
              "      fill: #1967D2;\n",
              "      height: 32px;\n",
              "      padding: 0 0 0 0;\n",
              "      width: 32px;\n",
              "    }\n",
              "\n",
              "    .colab-df-convert:hover {\n",
              "      background-color: #E2EBFA;\n",
              "      box-shadow: 0px 1px 2px rgba(60, 64, 67, 0.3), 0px 1px 3px 1px rgba(60, 64, 67, 0.15);\n",
              "      fill: #174EA6;\n",
              "    }\n",
              "\n",
              "    [theme=dark] .colab-df-convert {\n",
              "      background-color: #3B4455;\n",
              "      fill: #D2E3FC;\n",
              "    }\n",
              "\n",
              "    [theme=dark] .colab-df-convert:hover {\n",
              "      background-color: #434B5C;\n",
              "      box-shadow: 0px 1px 3px 1px rgba(0, 0, 0, 0.15);\n",
              "      filter: drop-shadow(0px 1px 2px rgba(0, 0, 0, 0.3));\n",
              "      fill: #FFFFFF;\n",
              "    }\n",
              "  </style>\n",
              "\n",
              "      <script>\n",
              "        const buttonEl =\n",
              "          document.querySelector('#df-da497e25-0935-4a32-9854-4498cb11f23a button.colab-df-convert');\n",
              "        buttonEl.style.display =\n",
              "          google.colab.kernel.accessAllowed ? 'block' : 'none';\n",
              "\n",
              "        async function convertToInteractive(key) {\n",
              "          const element = document.querySelector('#df-da497e25-0935-4a32-9854-4498cb11f23a');\n",
              "          const dataTable =\n",
              "            await google.colab.kernel.invokeFunction('convertToInteractive',\n",
              "                                                     [key], {});\n",
              "          if (!dataTable) return;\n",
              "\n",
              "          const docLinkHtml = 'Like what you see? Visit the ' +\n",
              "            '<a target=\"_blank\" href=https://colab.research.google.com/notebooks/data_table.ipynb>data table notebook</a>'\n",
              "            + ' to learn more about interactive tables.';\n",
              "          element.innerHTML = '';\n",
              "          dataTable['output_type'] = 'display_data';\n",
              "          await google.colab.output.renderOutput(dataTable, element);\n",
              "          const docLink = document.createElement('div');\n",
              "          docLink.innerHTML = docLinkHtml;\n",
              "          element.appendChild(docLink);\n",
              "        }\n",
              "      </script>\n",
              "    </div>\n",
              "  </div>\n",
              "  "
            ],
            "text/plain": [
              "                                                  review sentiment  word_count\n",
              "8992   The film starts to slowly when we got to the c...  negative       157.0\n",
              "9488   Have to be honest and say that I haven't seen ...  positive        73.0\n",
              "4433   Almost from the word go this film is poor and ...  negative       227.0\n",
              "104    Linda Lovelace was the victim of a sadistic wo...  negative       114.0\n",
              "8222   Have not seen this 1958 film in a very long ti...  positive       155.0\n",
              "...                                                  ...       ...         ...\n",
              "10955  Deliverance is a stunning thriller, every bit ...  positive         NaN\n",
              "4789   I know that the real story of Little Richard i...  negative         NaN\n",
              "5192   Here is proof of why Mary Pickford was `Americ...  positive         NaN\n",
              "12172  I remember first watching Sabrina when it came...  positive         NaN\n",
              "235    By 1945, and after a string of solid WWII prop...  positive         NaN\n",
              "\n",
              "[50000 rows x 3 columns]"
            ]
          },
          "metadata": {},
          "execution_count": 10
        }
      ]
    },
    {
      "cell_type": "markdown",
      "metadata": {
        "id": "eBGqddgoMAdE"
      },
      "source": [
        "## Criação de CSV de Output train"
      ]
    },
    {
      "cell_type": "code",
      "execution_count": null,
      "metadata": {
        "id": "-shoLk2Lt6Y4"
      },
      "outputs": [],
      "source": [
        "movies_data_wc.to_csv(output_path1, index = None, header=True)"
      ]
    },
    {
      "cell_type": "markdown",
      "source": [
        "## Carregando CSV train"
      ],
      "metadata": {
        "id": "U83gwunPHhxc"
      }
    },
    {
      "cell_type": "code",
      "execution_count": null,
      "metadata": {
        "id": "yircU0XBH-7h"
      },
      "outputs": [],
      "source": [
        "movies_data = pd.read_csv(output_path1)"
      ]
    },
    {
      "cell_type": "code",
      "execution_count": null,
      "metadata": {
        "id": "5fe4S2rAtAu9"
      },
      "outputs": [],
      "source": [
        "#Concat word_count\n",
        "#movies_data_wc = pd.concat([df_stat, movies_data])"
      ]
    },
    {
      "cell_type": "markdown",
      "metadata": {
        "id": "aO7rAlUrS9EP"
      },
      "source": [
        "# Explorando os Dados"
      ]
    },
    {
      "cell_type": "code",
      "execution_count": null,
      "metadata": {
        "colab": {
          "base_uri": "https://localhost:8080/",
          "height": 206
        },
        "id": "BohdPL18S4Bg",
        "outputId": "64d89bc7-6ea6-40c5-f5e4-1c80bba86b2c"
      },
      "outputs": [
        {
          "output_type": "execute_result",
          "data": {
            "text/html": [
              "\n",
              "  <div id=\"df-10f7dcb3-db25-4beb-a81a-704ba08786df\">\n",
              "    <div class=\"colab-df-container\">\n",
              "      <div>\n",
              "<style scoped>\n",
              "    .dataframe tbody tr th:only-of-type {\n",
              "        vertical-align: middle;\n",
              "    }\n",
              "\n",
              "    .dataframe tbody tr th {\n",
              "        vertical-align: top;\n",
              "    }\n",
              "\n",
              "    .dataframe thead th {\n",
              "        text-align: right;\n",
              "    }\n",
              "</style>\n",
              "<table border=\"1\" class=\"dataframe\">\n",
              "  <thead>\n",
              "    <tr style=\"text-align: right;\">\n",
              "      <th></th>\n",
              "      <th>review</th>\n",
              "      <th>sentiment</th>\n",
              "      <th>word_count</th>\n",
              "    </tr>\n",
              "  </thead>\n",
              "  <tbody>\n",
              "    <tr>\n",
              "      <th>0</th>\n",
              "      <td>The film starts to slowly when we got to the c...</td>\n",
              "      <td>negative</td>\n",
              "      <td>157.0</td>\n",
              "    </tr>\n",
              "    <tr>\n",
              "      <th>1</th>\n",
              "      <td>Have to be honest and say that I haven't seen ...</td>\n",
              "      <td>positive</td>\n",
              "      <td>73.0</td>\n",
              "    </tr>\n",
              "    <tr>\n",
              "      <th>2</th>\n",
              "      <td>Almost from the word go this film is poor and ...</td>\n",
              "      <td>negative</td>\n",
              "      <td>227.0</td>\n",
              "    </tr>\n",
              "    <tr>\n",
              "      <th>3</th>\n",
              "      <td>Linda Lovelace was the victim of a sadistic wo...</td>\n",
              "      <td>negative</td>\n",
              "      <td>114.0</td>\n",
              "    </tr>\n",
              "    <tr>\n",
              "      <th>4</th>\n",
              "      <td>Have not seen this 1958 film in a very long ti...</td>\n",
              "      <td>positive</td>\n",
              "      <td>155.0</td>\n",
              "    </tr>\n",
              "  </tbody>\n",
              "</table>\n",
              "</div>\n",
              "      <button class=\"colab-df-convert\" onclick=\"convertToInteractive('df-10f7dcb3-db25-4beb-a81a-704ba08786df')\"\n",
              "              title=\"Convert this dataframe to an interactive table.\"\n",
              "              style=\"display:none;\">\n",
              "        \n",
              "  <svg xmlns=\"http://www.w3.org/2000/svg\" height=\"24px\"viewBox=\"0 0 24 24\"\n",
              "       width=\"24px\">\n",
              "    <path d=\"M0 0h24v24H0V0z\" fill=\"none\"/>\n",
              "    <path d=\"M18.56 5.44l.94 2.06.94-2.06 2.06-.94-2.06-.94-.94-2.06-.94 2.06-2.06.94zm-11 1L8.5 8.5l.94-2.06 2.06-.94-2.06-.94L8.5 2.5l-.94 2.06-2.06.94zm10 10l.94 2.06.94-2.06 2.06-.94-2.06-.94-.94-2.06-.94 2.06-2.06.94z\"/><path d=\"M17.41 7.96l-1.37-1.37c-.4-.4-.92-.59-1.43-.59-.52 0-1.04.2-1.43.59L10.3 9.45l-7.72 7.72c-.78.78-.78 2.05 0 2.83L4 21.41c.39.39.9.59 1.41.59.51 0 1.02-.2 1.41-.59l7.78-7.78 2.81-2.81c.8-.78.8-2.07 0-2.86zM5.41 20L4 18.59l7.72-7.72 1.47 1.35L5.41 20z\"/>\n",
              "  </svg>\n",
              "      </button>\n",
              "      \n",
              "  <style>\n",
              "    .colab-df-container {\n",
              "      display:flex;\n",
              "      flex-wrap:wrap;\n",
              "      gap: 12px;\n",
              "    }\n",
              "\n",
              "    .colab-df-convert {\n",
              "      background-color: #E8F0FE;\n",
              "      border: none;\n",
              "      border-radius: 50%;\n",
              "      cursor: pointer;\n",
              "      display: none;\n",
              "      fill: #1967D2;\n",
              "      height: 32px;\n",
              "      padding: 0 0 0 0;\n",
              "      width: 32px;\n",
              "    }\n",
              "\n",
              "    .colab-df-convert:hover {\n",
              "      background-color: #E2EBFA;\n",
              "      box-shadow: 0px 1px 2px rgba(60, 64, 67, 0.3), 0px 1px 3px 1px rgba(60, 64, 67, 0.15);\n",
              "      fill: #174EA6;\n",
              "    }\n",
              "\n",
              "    [theme=dark] .colab-df-convert {\n",
              "      background-color: #3B4455;\n",
              "      fill: #D2E3FC;\n",
              "    }\n",
              "\n",
              "    [theme=dark] .colab-df-convert:hover {\n",
              "      background-color: #434B5C;\n",
              "      box-shadow: 0px 1px 3px 1px rgba(0, 0, 0, 0.15);\n",
              "      filter: drop-shadow(0px 1px 2px rgba(0, 0, 0, 0.3));\n",
              "      fill: #FFFFFF;\n",
              "    }\n",
              "  </style>\n",
              "\n",
              "      <script>\n",
              "        const buttonEl =\n",
              "          document.querySelector('#df-10f7dcb3-db25-4beb-a81a-704ba08786df button.colab-df-convert');\n",
              "        buttonEl.style.display =\n",
              "          google.colab.kernel.accessAllowed ? 'block' : 'none';\n",
              "\n",
              "        async function convertToInteractive(key) {\n",
              "          const element = document.querySelector('#df-10f7dcb3-db25-4beb-a81a-704ba08786df');\n",
              "          const dataTable =\n",
              "            await google.colab.kernel.invokeFunction('convertToInteractive',\n",
              "                                                     [key], {});\n",
              "          if (!dataTable) return;\n",
              "\n",
              "          const docLinkHtml = 'Like what you see? Visit the ' +\n",
              "            '<a target=\"_blank\" href=https://colab.research.google.com/notebooks/data_table.ipynb>data table notebook</a>'\n",
              "            + ' to learn more about interactive tables.';\n",
              "          element.innerHTML = '';\n",
              "          dataTable['output_type'] = 'display_data';\n",
              "          await google.colab.output.renderOutput(dataTable, element);\n",
              "          const docLink = document.createElement('div');\n",
              "          docLink.innerHTML = docLinkHtml;\n",
              "          element.appendChild(docLink);\n",
              "        }\n",
              "      </script>\n",
              "    </div>\n",
              "  </div>\n",
              "  "
            ],
            "text/plain": [
              "                                              review sentiment  word_count\n",
              "0  The film starts to slowly when we got to the c...  negative       157.0\n",
              "1  Have to be honest and say that I haven't seen ...  positive        73.0\n",
              "2  Almost from the word go this film is poor and ...  negative       227.0\n",
              "3  Linda Lovelace was the victim of a sadistic wo...  negative       114.0\n",
              "4  Have not seen this 1958 film in a very long ti...  positive       155.0"
            ]
          },
          "metadata": {},
          "execution_count": 14
        }
      ],
      "source": [
        "movies_data.head()"
      ]
    },
    {
      "cell_type": "code",
      "execution_count": null,
      "metadata": {
        "colab": {
          "base_uri": "https://localhost:8080/",
          "height": 206
        },
        "id": "wRuF8-sBS_v2",
        "outputId": "55466662-b878-4df8-99f0-48ec03354cf2"
      },
      "outputs": [
        {
          "output_type": "execute_result",
          "data": {
            "text/html": [
              "\n",
              "  <div id=\"df-648f0361-1b43-4f44-aadd-008ead8b1181\">\n",
              "    <div class=\"colab-df-container\">\n",
              "      <div>\n",
              "<style scoped>\n",
              "    .dataframe tbody tr th:only-of-type {\n",
              "        vertical-align: middle;\n",
              "    }\n",
              "\n",
              "    .dataframe tbody tr th {\n",
              "        vertical-align: top;\n",
              "    }\n",
              "\n",
              "    .dataframe thead th {\n",
              "        text-align: right;\n",
              "    }\n",
              "</style>\n",
              "<table border=\"1\" class=\"dataframe\">\n",
              "  <thead>\n",
              "    <tr style=\"text-align: right;\">\n",
              "      <th></th>\n",
              "      <th>review</th>\n",
              "      <th>sentiment</th>\n",
              "      <th>word_count</th>\n",
              "    </tr>\n",
              "  </thead>\n",
              "  <tbody>\n",
              "    <tr>\n",
              "      <th>49995</th>\n",
              "      <td>Deliverance is a stunning thriller, every bit ...</td>\n",
              "      <td>positive</td>\n",
              "      <td>NaN</td>\n",
              "    </tr>\n",
              "    <tr>\n",
              "      <th>49996</th>\n",
              "      <td>I know that the real story of Little Richard i...</td>\n",
              "      <td>negative</td>\n",
              "      <td>NaN</td>\n",
              "    </tr>\n",
              "    <tr>\n",
              "      <th>49997</th>\n",
              "      <td>Here is proof of why Mary Pickford was `Americ...</td>\n",
              "      <td>positive</td>\n",
              "      <td>NaN</td>\n",
              "    </tr>\n",
              "    <tr>\n",
              "      <th>49998</th>\n",
              "      <td>I remember first watching Sabrina when it came...</td>\n",
              "      <td>positive</td>\n",
              "      <td>NaN</td>\n",
              "    </tr>\n",
              "    <tr>\n",
              "      <th>49999</th>\n",
              "      <td>By 1945, and after a string of solid WWII prop...</td>\n",
              "      <td>positive</td>\n",
              "      <td>NaN</td>\n",
              "    </tr>\n",
              "  </tbody>\n",
              "</table>\n",
              "</div>\n",
              "      <button class=\"colab-df-convert\" onclick=\"convertToInteractive('df-648f0361-1b43-4f44-aadd-008ead8b1181')\"\n",
              "              title=\"Convert this dataframe to an interactive table.\"\n",
              "              style=\"display:none;\">\n",
              "        \n",
              "  <svg xmlns=\"http://www.w3.org/2000/svg\" height=\"24px\"viewBox=\"0 0 24 24\"\n",
              "       width=\"24px\">\n",
              "    <path d=\"M0 0h24v24H0V0z\" fill=\"none\"/>\n",
              "    <path d=\"M18.56 5.44l.94 2.06.94-2.06 2.06-.94-2.06-.94-.94-2.06-.94 2.06-2.06.94zm-11 1L8.5 8.5l.94-2.06 2.06-.94-2.06-.94L8.5 2.5l-.94 2.06-2.06.94zm10 10l.94 2.06.94-2.06 2.06-.94-2.06-.94-.94-2.06-.94 2.06-2.06.94z\"/><path d=\"M17.41 7.96l-1.37-1.37c-.4-.4-.92-.59-1.43-.59-.52 0-1.04.2-1.43.59L10.3 9.45l-7.72 7.72c-.78.78-.78 2.05 0 2.83L4 21.41c.39.39.9.59 1.41.59.51 0 1.02-.2 1.41-.59l7.78-7.78 2.81-2.81c.8-.78.8-2.07 0-2.86zM5.41 20L4 18.59l7.72-7.72 1.47 1.35L5.41 20z\"/>\n",
              "  </svg>\n",
              "      </button>\n",
              "      \n",
              "  <style>\n",
              "    .colab-df-container {\n",
              "      display:flex;\n",
              "      flex-wrap:wrap;\n",
              "      gap: 12px;\n",
              "    }\n",
              "\n",
              "    .colab-df-convert {\n",
              "      background-color: #E8F0FE;\n",
              "      border: none;\n",
              "      border-radius: 50%;\n",
              "      cursor: pointer;\n",
              "      display: none;\n",
              "      fill: #1967D2;\n",
              "      height: 32px;\n",
              "      padding: 0 0 0 0;\n",
              "      width: 32px;\n",
              "    }\n",
              "\n",
              "    .colab-df-convert:hover {\n",
              "      background-color: #E2EBFA;\n",
              "      box-shadow: 0px 1px 2px rgba(60, 64, 67, 0.3), 0px 1px 3px 1px rgba(60, 64, 67, 0.15);\n",
              "      fill: #174EA6;\n",
              "    }\n",
              "\n",
              "    [theme=dark] .colab-df-convert {\n",
              "      background-color: #3B4455;\n",
              "      fill: #D2E3FC;\n",
              "    }\n",
              "\n",
              "    [theme=dark] .colab-df-convert:hover {\n",
              "      background-color: #434B5C;\n",
              "      box-shadow: 0px 1px 3px 1px rgba(0, 0, 0, 0.15);\n",
              "      filter: drop-shadow(0px 1px 2px rgba(0, 0, 0, 0.3));\n",
              "      fill: #FFFFFF;\n",
              "    }\n",
              "  </style>\n",
              "\n",
              "      <script>\n",
              "        const buttonEl =\n",
              "          document.querySelector('#df-648f0361-1b43-4f44-aadd-008ead8b1181 button.colab-df-convert');\n",
              "        buttonEl.style.display =\n",
              "          google.colab.kernel.accessAllowed ? 'block' : 'none';\n",
              "\n",
              "        async function convertToInteractive(key) {\n",
              "          const element = document.querySelector('#df-648f0361-1b43-4f44-aadd-008ead8b1181');\n",
              "          const dataTable =\n",
              "            await google.colab.kernel.invokeFunction('convertToInteractive',\n",
              "                                                     [key], {});\n",
              "          if (!dataTable) return;\n",
              "\n",
              "          const docLinkHtml = 'Like what you see? Visit the ' +\n",
              "            '<a target=\"_blank\" href=https://colab.research.google.com/notebooks/data_table.ipynb>data table notebook</a>'\n",
              "            + ' to learn more about interactive tables.';\n",
              "          element.innerHTML = '';\n",
              "          dataTable['output_type'] = 'display_data';\n",
              "          await google.colab.output.renderOutput(dataTable, element);\n",
              "          const docLink = document.createElement('div');\n",
              "          docLink.innerHTML = docLinkHtml;\n",
              "          element.appendChild(docLink);\n",
              "        }\n",
              "      </script>\n",
              "    </div>\n",
              "  </div>\n",
              "  "
            ],
            "text/plain": [
              "                                                  review sentiment  word_count\n",
              "49995  Deliverance is a stunning thriller, every bit ...  positive         NaN\n",
              "49996  I know that the real story of Little Richard i...  negative         NaN\n",
              "49997  Here is proof of why Mary Pickford was `Americ...  positive         NaN\n",
              "49998  I remember first watching Sabrina when it came...  positive         NaN\n",
              "49999  By 1945, and after a string of solid WWII prop...  positive         NaN"
            ]
          },
          "metadata": {},
          "execution_count": 15
        }
      ],
      "source": [
        "movies_data.tail()"
      ]
    },
    {
      "cell_type": "markdown",
      "metadata": {
        "id": "SU9D-y1LVVuA"
      },
      "source": [
        "#### Como os Reviews se parecem?"
      ]
    },
    {
      "cell_type": "code",
      "execution_count": null,
      "metadata": {
        "colab": {
          "base_uri": "https://localhost:8080/",
          "height": 122
        },
        "id": "qWPr8FkeUMZA",
        "outputId": "36b9ec0f-0b4a-493a-bd3e-e80e37e96458"
      },
      "outputs": [
        {
          "output_type": "execute_result",
          "data": {
            "application/vnd.google.colaboratory.intrinsic+json": {
              "type": "string"
            },
            "text/plain": [
              "\"The film starts to slowly when we got to the cinema we thought it looked quite good but after about 5 mins we were all bored out of our minds and wondering what kind of film we had come to see, i don't like this film and wouldn't recommend it to anyone, the best part of the night was when the alarm and lights came back on because the project broke down because we thought we could all go home. this has to be one of the worst films i have ever seen we were all bored out of or minds and most of the people in the cinema actually RAN out of the doors at the end because it was so rubbish. i am surprised that no one walked out earlier than that. if you go and see it make sure you something to keep you busy, better still Don't go and see it at all.\""
            ]
          },
          "metadata": {},
          "execution_count": 16
        }
      ],
      "source": [
        "movies_data.review.loc[0]"
      ]
    },
    {
      "cell_type": "code",
      "execution_count": null,
      "metadata": {
        "colab": {
          "base_uri": "https://localhost:8080/",
          "height": 140
        },
        "id": "Gw67nIifVeRc",
        "outputId": "9efa1d61-fcd9-4035-cd68-4797530c6b6f"
      },
      "outputs": [
        {
          "output_type": "execute_result",
          "data": {
            "application/vnd.google.colaboratory.intrinsic+json": {
              "type": "string"
            },
            "text/plain": [
              "'By 1945, and after a string of solid WWII propaganda pieces, Errol Flynn’s hold over U.S. box office had started to decline so, in spite of the increased burden of waning looks, he embarked on a series of films pertaining to that genre which had earlier made his name: the swashbuckler. The first of these was a good one actually – ADVENTURES OF DON JUAN (1948) – but it also proved to be his last big-budget Hollywood starring vehicle. The rest of his sword-wielding days were spent wandering all over Europe: in England for KIM (1950), THE MASTER OF BALLANTRAE (1953) and THE DARK AVENGER (1955), in France for ADVENTURES OF CAPTAIN FABIAN (1951) and Italy for the aborted THE STORY OF WILLIAM TELL (1953) and the little-seen CROSSED SWORDS (1954). However, Hollywood did beckon him one last time to his old seafaring ways – albeit for a modestly-budgeted Universal picture rather than a Warner Brothers ‘A’ production to which he had been accustomed when at his peak… <br /><br />Still, the glorious Technicolor cinematography leaps off the screen here and, while an older and flabbier Flynn may look like the pale shadow of his former self, his red-headed leading lady Maureen O’Hara has a field day as a tomboyish buccaneer leader who deep down craves romance and wants to be treated like a lady. Anthony Quinn was still a few years away from his larger-than-life starring vehicles, so here he is typically seen as the baddie – the pirate captain Roc Brasiliano, a role he attacks with gusto. Like THE BLACK SHIELD OF FALWORTH (1954) – a viewing of which preceded this one – AGAINST ALL FLAGS takes me back to my cherished childhood days of constant TV viewing when vintage Hollywood movies were the order of the day on both the local and neighboring Italian channels.<br /><br />For all I know, this might well have been the very first pirate movie I’ve ever seen and I cringe at the thought of today’s generation of youngsters supposedly believing that the grossly overblown PIRATES OF THE CARIBBEAN trilogy is what buccaneering is all about! As I said earlier, AGAINST ALL FLAGS might not be the finest pirate yarn ever brought to the screen but it’s a solid example of this prolific genre all the same. Nowadays, the amorous persistence of the child-like Indian princess (Alice Kelley) towards her pirate captor Flynn may strike one as being awfully silly but the rest of it – despite clearly not scaling the heights of THE SEA HAWK (1940) and THE BLACK SWAN (1942), to mention the finest seafaring ventures of its respective stars – is briskly paced and reasonably engaging. Incidentally, the film would later go on to be remade as THE KING’S PIRATE (1967) with Doug McClure! <br /><br />For what it’s worth, the unprecedented box office success of that unappetizing modern franchise is most probably what induced reluctant movie studios to dust off their catalogue swashbuckling titles and release them on DVD and, as a matter of fact, AGAINST ALL FLAGS itself was the one gem in a poorly-thought out “Pirates Of The Golden Age Movie Collection” set from Universal which also consisted of obscure dross like BUCCANEER’S GIRL (1950; with Yvonne De Carlo), DOULE CROSSBONES (1951; with Donald O’Connor) and YANKEE BUCCANEER (1952; with Jeff Chandler)! Value for money, perhaps but, so far, I have only acquired the Errol Flynn flick from other sources; even so, if the mood strikes me in future, I might wish to lay my hands on similar marine adventures like Edward Dmytyk’s MUTINY (1952), the afore-mentioned YANKEE BUCCANEER and PIRATES OF TORTUGA (1961).'"
            ]
          },
          "metadata": {},
          "execution_count": 17
        }
      ],
      "source": [
        "movies_data.review.loc[24999]"
      ]
    },
    {
      "cell_type": "markdown",
      "metadata": {
        "id": "4xdHQD1AXG-o"
      },
      "source": [
        "#### Qual a duração dos Reviews ? Qual o Reviews mais longo? Reviews mais curta?"
      ]
    },
    {
      "cell_type": "code",
      "execution_count": null,
      "metadata": {
        "id": "Q9XGDVC9XA83"
      },
      "outputs": [],
      "source": [
        "movies_data.dropna( inplace=True)"
      ]
    },
    {
      "cell_type": "code",
      "execution_count": null,
      "metadata": {
        "colab": {
          "base_uri": "https://localhost:8080/"
        },
        "id": "UegQ7e60v8Ay",
        "outputId": "c5185433-e2ef-4fed-9032-5b7a27631979"
      },
      "outputs": [
        {
          "output_type": "execute_result",
          "data": {
            "text/plain": [
              "review        25000\n",
              "sentiment     25000\n",
              "word_count    25000\n",
              "dtype: int64"
            ]
          },
          "metadata": {},
          "execution_count": 19
        }
      ],
      "source": [
        "movies_data.count()"
      ]
    },
    {
      "cell_type": "code",
      "execution_count": null,
      "metadata": {
        "id": "REJCrvmHXJsK"
      },
      "outputs": [],
      "source": [
        "movies_data['word_count_length'] = movies_data.review.apply(len)"
      ]
    },
    {
      "cell_type": "code",
      "execution_count": null,
      "metadata": {
        "colab": {
          "base_uri": "https://localhost:8080/"
        },
        "id": "kqUjK-MYXPnQ",
        "outputId": "6ab8ff2a-24ef-4dd6-e41b-d821bdc1a525"
      },
      "outputs": [
        {
          "output_type": "execute_result",
          "data": {
            "text/plain": [
              "1325.06964"
            ]
          },
          "metadata": {},
          "execution_count": 21
        }
      ],
      "source": [
        "movies_data['word_count_length'].mean()"
      ]
    },
    {
      "cell_type": "code",
      "execution_count": null,
      "metadata": {
        "colab": {
          "base_uri": "https://localhost:8080/"
        },
        "id": "mXkf1vzQXUGo",
        "outputId": "bedda66a-2e6c-4a59-b371-ce59dec67863"
      },
      "outputs": [
        {
          "output_type": "execute_result",
          "data": {
            "text/plain": [
              "52"
            ]
          },
          "metadata": {},
          "execution_count": 22
        }
      ],
      "source": [
        "movies_data['word_count_length'].min()"
      ]
    },
    {
      "cell_type": "code",
      "execution_count": null,
      "metadata": {
        "colab": {
          "base_uri": "https://localhost:8080/"
        },
        "id": "7_vADMwQXUEK",
        "outputId": "e2d955ae-4e16-42e9-f3f4-f68cba969595"
      },
      "outputs": [
        {
          "output_type": "execute_result",
          "data": {
            "text/plain": [
              "13704"
            ]
          },
          "metadata": {},
          "execution_count": 23
        }
      ],
      "source": [
        "movies_data['word_count_length'].max()"
      ]
    },
    {
      "cell_type": "code",
      "execution_count": null,
      "metadata": {
        "colab": {
          "base_uri": "https://localhost:8080/",
          "height": 282
        },
        "id": "YcpqnZQPXUBo",
        "outputId": "53a36bef-9125-4e13-a753-028cf5d87968"
      },
      "outputs": [
        {
          "output_type": "execute_result",
          "data": {
            "text/plain": [
              "<matplotlib.axes._subplots.AxesSubplot at 0x7f8431e566d0>"
            ]
          },
          "metadata": {},
          "execution_count": 24
        },
        {
          "output_type": "display_data",
          "data": {
            "image/png": "[encoded data removed]",
            "text/plain": [
              "<Figure size 432x288 with 1 Axes>"
            ]
          },
          "metadata": {
            "needs_background": "light"
          }
        }
      ],
      "source": [
        "movies_data.word_count_length.plot.hist()"
      ]
    },
    {
      "cell_type": "markdown",
      "metadata": {
        "id": "eXRiQMPAXpaF"
      },
      "source": [
        "##### Quais são as palavras mais frequentes nos reviews? Nos reviews de um sentimento específico?"
      ]
    },
    {
      "cell_type": "code",
      "execution_count": null,
      "metadata": {
        "id": "Eb5RsbMyvuSB"
      },
      "outputs": [],
      "source": [
        "# get data directory (using getcwd() is needed to support running example in generated IPython notebook)\n",
        "d = path.dirname(__file__) if \"__file__\" in locals() else os.getcwd()\n",
        "\n",
        "# Read the whole text.\n",
        "text = open(path.join(d, output_path1)).read()\n",
        "\n",
        "# Generate a word cloud image\n",
        "wordcloud = WordCloud(stopwords=STOPWORDS).generate(str(text))"
      ]
    },
    {
      "cell_type": "code",
      "execution_count": null,
      "metadata": {
        "colab": {
          "base_uri": "https://localhost:8080/",
          "height": 215
        },
        "id": "OTT7tglaxRVW",
        "outputId": "d8332245-703f-4a4e-9944-f5d10570c400"
      },
      "outputs": [
        {
          "output_type": "execute_result",
          "data": {
            "text/plain": [
              "(-0.5, 399.5, 199.5, -0.5)"
            ]
          },
          "metadata": {},
          "execution_count": 26
        },
        {
          "output_type": "display_data",
          "data": {
            "image/png": "[encoded data removed]",
            "text/plain": [
              "<Figure size 432x288 with 1 Axes>"
            ]
          },
          "metadata": {
            "needs_background": "light"
          }
        }
      ],
      "source": [
        "# Display the generated image:\n",
        "# the matplotlib way:\n",
        "\n",
        "plt.imshow(wordcloud, interpolation='bilinear')\n",
        "plt.axis(\"off\")"
      ]
    },
    {
      "cell_type": "markdown",
      "metadata": {
        "id": "ACVMUHJAYPu1"
      },
      "source": [
        "# Limpeza e Pré-processamento de Dados\n",
        "#### Removendo as descrições mais curtas"
      ]
    },
    {
      "cell_type": "code",
      "execution_count": null,
      "metadata": {
        "id": "hCX50y2hXT5r"
      },
      "outputs": [],
      "source": [
        "movies_data = movies_data.loc[movies_data[\"word_count_length\"] > 33]"
      ]
    },
    {
      "cell_type": "code",
      "execution_count": null,
      "metadata": {
        "colab": {
          "base_uri": "https://localhost:8080/"
        },
        "id": "wwz8u2wPXT3O",
        "outputId": "9bcccb90-473a-41a3-ad85-45bc563c5b2c"
      },
      "outputs": [
        {
          "output_type": "execute_result",
          "data": {
            "text/plain": [
              "52"
            ]
          },
          "metadata": {},
          "execution_count": 28
        }
      ],
      "source": [
        "movies_data.word_count_length.min()"
      ]
    },
    {
      "cell_type": "markdown",
      "metadata": {
        "id": "J1_3hdWfYgfJ"
      },
      "source": [
        "#### Removendo pontuação"
      ]
    },
    {
      "cell_type": "code",
      "execution_count": null,
      "metadata": {
        "id": "7gt35874XT0n"
      },
      "outputs": [],
      "source": [
        "exclude = set(string.punctuation)\n",
        "def remove_punctoation(row):\n",
        "  row.review = ''.join(ch for ch in row.review if ch not in exclude)\n",
        "  return row"
      ]
    },
    {
      "cell_type": "code",
      "execution_count": null,
      "metadata": {
        "id": "Z5dlFzvAXTyH"
      },
      "outputs": [],
      "source": [
        "movies_data = movies_data.apply(remove_punctoation, axis = 1)"
      ]
    },
    {
      "cell_type": "code",
      "execution_count": null,
      "metadata": {
        "id": "MLVRjjmKXTvv",
        "colab": {
          "base_uri": "https://localhost:8080/",
          "height": 206
        },
        "outputId": "4cf95fd5-418d-4395-e2fa-eea91e3263fd"
      },
      "outputs": [
        {
          "output_type": "execute_result",
          "data": {
            "text/html": [
              "\n",
              "  <div id=\"df-22cc3da5-b882-49a9-b4c3-47e6fd599724\">\n",
              "    <div class=\"colab-df-container\">\n",
              "      <div>\n",
              "<style scoped>\n",
              "    .dataframe tbody tr th:only-of-type {\n",
              "        vertical-align: middle;\n",
              "    }\n",
              "\n",
              "    .dataframe tbody tr th {\n",
              "        vertical-align: top;\n",
              "    }\n",
              "\n",
              "    .dataframe thead th {\n",
              "        text-align: right;\n",
              "    }\n",
              "</style>\n",
              "<table border=\"1\" class=\"dataframe\">\n",
              "  <thead>\n",
              "    <tr style=\"text-align: right;\">\n",
              "      <th></th>\n",
              "      <th>review</th>\n",
              "      <th>sentiment</th>\n",
              "      <th>word_count</th>\n",
              "      <th>word_count_length</th>\n",
              "    </tr>\n",
              "  </thead>\n",
              "  <tbody>\n",
              "    <tr>\n",
              "      <th>24995</th>\n",
              "      <td>Deliverance is a stunning thriller every bit a...</td>\n",
              "      <td>positive</td>\n",
              "      <td>515.0</td>\n",
              "      <td>3010</td>\n",
              "    </tr>\n",
              "    <tr>\n",
              "      <th>24996</th>\n",
              "      <td>I know that the real story of Little Richard i...</td>\n",
              "      <td>negative</td>\n",
              "      <td>56.0</td>\n",
              "      <td>314</td>\n",
              "    </tr>\n",
              "    <tr>\n",
              "      <th>24997</th>\n",
              "      <td>Here is proof of why Mary Pickford was America...</td>\n",
              "      <td>positive</td>\n",
              "      <td>263.0</td>\n",
              "      <td>1484</td>\n",
              "    </tr>\n",
              "    <tr>\n",
              "      <th>24998</th>\n",
              "      <td>I remember first watching Sabrina when it came...</td>\n",
              "      <td>positive</td>\n",
              "      <td>143.0</td>\n",
              "      <td>735</td>\n",
              "    </tr>\n",
              "    <tr>\n",
              "      <th>24999</th>\n",
              "      <td>By 1945 and after a string of solid WWII propa...</td>\n",
              "      <td>positive</td>\n",
              "      <td>608.0</td>\n",
              "      <td>3566</td>\n",
              "    </tr>\n",
              "  </tbody>\n",
              "</table>\n",
              "</div>\n",
              "      <button class=\"colab-df-convert\" onclick=\"convertToInteractive('df-22cc3da5-b882-49a9-b4c3-47e6fd599724')\"\n",
              "              title=\"Convert this dataframe to an interactive table.\"\n",
              "              style=\"display:none;\">\n",
              "        \n",
              "  <svg xmlns=\"http://www.w3.org/2000/svg\" height=\"24px\"viewBox=\"0 0 24 24\"\n",
              "       width=\"24px\">\n",
              "    <path d=\"M0 0h24v24H0V0z\" fill=\"none\"/>\n",
              "    <path d=\"M18.56 5.44l.94 2.06.94-2.06 2.06-.94-2.06-.94-.94-2.06-.94 2.06-2.06.94zm-11 1L8.5 8.5l.94-2.06 2.06-.94-2.06-.94L8.5 2.5l-.94 2.06-2.06.94zm10 10l.94 2.06.94-2.06 2.06-.94-2.06-.94-.94-2.06-.94 2.06-2.06.94z\"/><path d=\"M17.41 7.96l-1.37-1.37c-.4-.4-.92-.59-1.43-.59-.52 0-1.04.2-1.43.59L10.3 9.45l-7.72 7.72c-.78.78-.78 2.05 0 2.83L4 21.41c.39.39.9.59 1.41.59.51 0 1.02-.2 1.41-.59l7.78-7.78 2.81-2.81c.8-.78.8-2.07 0-2.86zM5.41 20L4 18.59l7.72-7.72 1.47 1.35L5.41 20z\"/>\n",
              "  </svg>\n",
              "      </button>\n",
              "      \n",
              "  <style>\n",
              "    .colab-df-container {\n",
              "      display:flex;\n",
              "      flex-wrap:wrap;\n",
              "      gap: 12px;\n",
              "    }\n",
              "\n",
              "    .colab-df-convert {\n",
              "      background-color: #E8F0FE;\n",
              "      border: none;\n",
              "      border-radius: 50%;\n",
              "      cursor: pointer;\n",
              "      display: none;\n",
              "      fill: #1967D2;\n",
              "      height: 32px;\n",
              "      padding: 0 0 0 0;\n",
              "      width: 32px;\n",
              "    }\n",
              "\n",
              "    .colab-df-convert:hover {\n",
              "      background-color: #E2EBFA;\n",
              "      box-shadow: 0px 1px 2px rgba(60, 64, 67, 0.3), 0px 1px 3px 1px rgba(60, 64, 67, 0.15);\n",
              "      fill: #174EA6;\n",
              "    }\n",
              "\n",
              "    [theme=dark] .colab-df-convert {\n",
              "      background-color: #3B4455;\n",
              "      fill: #D2E3FC;\n",
              "    }\n",
              "\n",
              "    [theme=dark] .colab-df-convert:hover {\n",
              "      background-color: #434B5C;\n",
              "      box-shadow: 0px 1px 3px 1px rgba(0, 0, 0, 0.15);\n",
              "      filter: drop-shadow(0px 1px 2px rgba(0, 0, 0, 0.3));\n",
              "      fill: #FFFFFF;\n",
              "    }\n",
              "  </style>\n",
              "\n",
              "      <script>\n",
              "        const buttonEl =\n",
              "          document.querySelector('#df-22cc3da5-b882-49a9-b4c3-47e6fd599724 button.colab-df-convert');\n",
              "        buttonEl.style.display =\n",
              "          google.colab.kernel.accessAllowed ? 'block' : 'none';\n",
              "\n",
              "        async function convertToInteractive(key) {\n",
              "          const element = document.querySelector('#df-22cc3da5-b882-49a9-b4c3-47e6fd599724');\n",
              "          const dataTable =\n",
              "            await google.colab.kernel.invokeFunction('convertToInteractive',\n",
              "                                                     [key], {});\n",
              "          if (!dataTable) return;\n",
              "\n",
              "          const docLinkHtml = 'Like what you see? Visit the ' +\n",
              "            '<a target=\"_blank\" href=https://colab.research.google.com/notebooks/data_table.ipynb>data table notebook</a>'\n",
              "            + ' to learn more about interactive tables.';\n",
              "          element.innerHTML = '';\n",
              "          dataTable['output_type'] = 'display_data';\n",
              "          await google.colab.output.renderOutput(dataTable, element);\n",
              "          const docLink = document.createElement('div');\n",
              "          docLink.innerHTML = docLinkHtml;\n",
              "          element.appendChild(docLink);\n",
              "        }\n",
              "      </script>\n",
              "    </div>\n",
              "  </div>\n",
              "  "
            ],
            "text/plain": [
              "                                                  review sentiment  \\\n",
              "24995  Deliverance is a stunning thriller every bit a...  positive   \n",
              "24996  I know that the real story of Little Richard i...  negative   \n",
              "24997  Here is proof of why Mary Pickford was America...  positive   \n",
              "24998  I remember first watching Sabrina when it came...  positive   \n",
              "24999  By 1945 and after a string of solid WWII propa...  positive   \n",
              "\n",
              "       word_count  word_count_length  \n",
              "24995       515.0               3010  \n",
              "24996        56.0                314  \n",
              "24997       263.0               1484  \n",
              "24998       143.0                735  \n",
              "24999       608.0               3566  "
            ]
          },
          "metadata": {},
          "execution_count": 31
        }
      ],
      "source": [
        "movies_data.tail()"
      ]
    },
    {
      "cell_type": "markdown",
      "metadata": {
        "id": "LK3N5QsfZmtF"
      },
      "source": [
        "#### Lemmatisation\n",
        "##### https://www.geeksforgeeks.org/python-lemmatization-with-nltk/\n",
        "##### É o processo de agrupar as diferentes formas flexionadas de uma palavra para que possam ser analisadas como um único item. A \"Lemmatisation\" é semelhante à \"stemming\", mas traz contexto para as palavras. Por isso, liga palavras com significados semelhantes a uma palavra).\n",
        "##### O pré-processamento de texto inclui tanto Stemming quanto Lematization. Muitas vezes as pessoas acham esses dois termos confusos. Alguns tratam esses dois como iguais. Na verdade, a lematização é preferível ao Stemming porque a Lematization faz a análise morfológica das palavras.\n"
      ]
    },
    {
      "cell_type": "code",
      "execution_count": null,
      "metadata": {
        "id": "bR2hUHzKZcg1"
      },
      "outputs": [],
      "source": [
        "lemmatizer = WordNetLemmatizer()\n",
        "def lemmatize_text(row):\n",
        "  row.review = \" \".join(lemmatizer.lemmatize(word) for word in row.review.split())\n",
        "  return row"
      ]
    },
    {
      "cell_type": "code",
      "execution_count": null,
      "metadata": {
        "id": "LF8zrkd-Z_1v"
      },
      "outputs": [],
      "source": [
        "movies_data = movies_data.apply(lemmatize_text, axis = 1)"
      ]
    },
    {
      "cell_type": "code",
      "execution_count": null,
      "metadata": {
        "id": "U5spEDgjaAO4",
        "colab": {
          "base_uri": "https://localhost:8080/",
          "height": 206
        },
        "outputId": "4318162d-dcc6-40da-bab2-a7f507fff884"
      },
      "outputs": [
        {
          "output_type": "execute_result",
          "data": {
            "text/html": [
              "\n",
              "  <div id=\"df-da982cdb-eb97-429e-a511-70736d15e0e4\">\n",
              "    <div class=\"colab-df-container\">\n",
              "      <div>\n",
              "<style scoped>\n",
              "    .dataframe tbody tr th:only-of-type {\n",
              "        vertical-align: middle;\n",
              "    }\n",
              "\n",
              "    .dataframe tbody tr th {\n",
              "        vertical-align: top;\n",
              "    }\n",
              "\n",
              "    .dataframe thead th {\n",
              "        text-align: right;\n",
              "    }\n",
              "</style>\n",
              "<table border=\"1\" class=\"dataframe\">\n",
              "  <thead>\n",
              "    <tr style=\"text-align: right;\">\n",
              "      <th></th>\n",
              "      <th>review</th>\n",
              "      <th>sentiment</th>\n",
              "      <th>word_count</th>\n",
              "      <th>word_count_length</th>\n",
              "    </tr>\n",
              "  </thead>\n",
              "  <tbody>\n",
              "    <tr>\n",
              "      <th>0</th>\n",
              "      <td>The film start to slowly when we got to the ci...</td>\n",
              "      <td>negative</td>\n",
              "      <td>157.0</td>\n",
              "      <td>750</td>\n",
              "    </tr>\n",
              "    <tr>\n",
              "      <th>1</th>\n",
              "      <td>Have to be honest and say that I havent seen m...</td>\n",
              "      <td>positive</td>\n",
              "      <td>73.0</td>\n",
              "      <td>440</td>\n",
              "    </tr>\n",
              "    <tr>\n",
              "      <th>2</th>\n",
              "      <td>Almost from the word go this film is poor and ...</td>\n",
              "      <td>negative</td>\n",
              "      <td>227.0</td>\n",
              "      <td>1196</td>\n",
              "    </tr>\n",
              "    <tr>\n",
              "      <th>3</th>\n",
              "      <td>Linda Lovelace wa the victim of a sadistic wom...</td>\n",
              "      <td>negative</td>\n",
              "      <td>114.0</td>\n",
              "      <td>651</td>\n",
              "    </tr>\n",
              "    <tr>\n",
              "      <th>4</th>\n",
              "      <td>Have not seen this 1958 film in a very long ti...</td>\n",
              "      <td>positive</td>\n",
              "      <td>155.0</td>\n",
              "      <td>819</td>\n",
              "    </tr>\n",
              "  </tbody>\n",
              "</table>\n",
              "</div>\n",
              "      <button class=\"colab-df-convert\" onclick=\"convertToInteractive('df-da982cdb-eb97-429e-a511-70736d15e0e4')\"\n",
              "              title=\"Convert this dataframe to an interactive table.\"\n",
              "              style=\"display:none;\">\n",
              "        \n",
              "  <svg xmlns=\"http://www.w3.org/2000/svg\" height=\"24px\"viewBox=\"0 0 24 24\"\n",
              "       width=\"24px\">\n",
              "    <path d=\"M0 0h24v24H0V0z\" fill=\"none\"/>\n",
              "    <path d=\"M18.56 5.44l.94 2.06.94-2.06 2.06-.94-2.06-.94-.94-2.06-.94 2.06-2.06.94zm-11 1L8.5 8.5l.94-2.06 2.06-.94-2.06-.94L8.5 2.5l-.94 2.06-2.06.94zm10 10l.94 2.06.94-2.06 2.06-.94-2.06-.94-.94-2.06-.94 2.06-2.06.94z\"/><path d=\"M17.41 7.96l-1.37-1.37c-.4-.4-.92-.59-1.43-.59-.52 0-1.04.2-1.43.59L10.3 9.45l-7.72 7.72c-.78.78-.78 2.05 0 2.83L4 21.41c.39.39.9.59 1.41.59.51 0 1.02-.2 1.41-.59l7.78-7.78 2.81-2.81c.8-.78.8-2.07 0-2.86zM5.41 20L4 18.59l7.72-7.72 1.47 1.35L5.41 20z\"/>\n",
              "  </svg>\n",
              "      </button>\n",
              "      \n",
              "  <style>\n",
              "    .colab-df-container {\n",
              "      display:flex;\n",
              "      flex-wrap:wrap;\n",
              "      gap: 12px;\n",
              "    }\n",
              "\n",
              "    .colab-df-convert {\n",
              "      background-color: #E8F0FE;\n",
              "      border: none;\n",
              "      border-radius: 50%;\n",
              "      cursor: pointer;\n",
              "      display: none;\n",
              "      fill: #1967D2;\n",
              "      height: 32px;\n",
              "      padding: 0 0 0 0;\n",
              "      width: 32px;\n",
              "    }\n",
              "\n",
              "    .colab-df-convert:hover {\n",
              "      background-color: #E2EBFA;\n",
              "      box-shadow: 0px 1px 2px rgba(60, 64, 67, 0.3), 0px 1px 3px 1px rgba(60, 64, 67, 0.15);\n",
              "      fill: #174EA6;\n",
              "    }\n",
              "\n",
              "    [theme=dark] .colab-df-convert {\n",
              "      background-color: #3B4455;\n",
              "      fill: #D2E3FC;\n",
              "    }\n",
              "\n",
              "    [theme=dark] .colab-df-convert:hover {\n",
              "      background-color: #434B5C;\n",
              "      box-shadow: 0px 1px 3px 1px rgba(0, 0, 0, 0.15);\n",
              "      filter: drop-shadow(0px 1px 2px rgba(0, 0, 0, 0.3));\n",
              "      fill: #FFFFFF;\n",
              "    }\n",
              "  </style>\n",
              "\n",
              "      <script>\n",
              "        const buttonEl =\n",
              "          document.querySelector('#df-da982cdb-eb97-429e-a511-70736d15e0e4 button.colab-df-convert');\n",
              "        buttonEl.style.display =\n",
              "          google.colab.kernel.accessAllowed ? 'block' : 'none';\n",
              "\n",
              "        async function convertToInteractive(key) {\n",
              "          const element = document.querySelector('#df-da982cdb-eb97-429e-a511-70736d15e0e4');\n",
              "          const dataTable =\n",
              "            await google.colab.kernel.invokeFunction('convertToInteractive',\n",
              "                                                     [key], {});\n",
              "          if (!dataTable) return;\n",
              "\n",
              "          const docLinkHtml = 'Like what you see? Visit the ' +\n",
              "            '<a target=\"_blank\" href=https://colab.research.google.com/notebooks/data_table.ipynb>data table notebook</a>'\n",
              "            + ' to learn more about interactive tables.';\n",
              "          element.innerHTML = '';\n",
              "          dataTable['output_type'] = 'display_data';\n",
              "          await google.colab.output.renderOutput(dataTable, element);\n",
              "          const docLink = document.createElement('div');\n",
              "          docLink.innerHTML = docLinkHtml;\n",
              "          element.appendChild(docLink);\n",
              "        }\n",
              "      </script>\n",
              "    </div>\n",
              "  </div>\n",
              "  "
            ],
            "text/plain": [
              "                                              review sentiment  word_count  \\\n",
              "0  The film start to slowly when we got to the ci...  negative       157.0   \n",
              "1  Have to be honest and say that I havent seen m...  positive        73.0   \n",
              "2  Almost from the word go this film is poor and ...  negative       227.0   \n",
              "3  Linda Lovelace wa the victim of a sadistic wom...  negative       114.0   \n",
              "4  Have not seen this 1958 film in a very long ti...  positive       155.0   \n",
              "\n",
              "   word_count_length  \n",
              "0                750  \n",
              "1                440  \n",
              "2               1196  \n",
              "3                651  \n",
              "4                819  "
            ]
          },
          "metadata": {},
          "execution_count": 34
        }
      ],
      "source": [
        "movies_data.head()"
      ]
    },
    {
      "cell_type": "markdown",
      "metadata": {
        "id": "mKg71rrbak_9"
      },
      "source": [
        "# Convertendo Dados em Vetores"
      ]
    },
    {
      "cell_type": "markdown",
      "metadata": {
        "id": "mjns-P-layuj"
      },
      "source": [
        "#### Count Vectorizer\n",
        "#### https://scikit-learn.org/stable/modules/generated/sklearn.feature_extraction.text.TfidfVectorizer.html"
      ]
    },
    {
      "cell_type": "code",
      "execution_count": null,
      "metadata": {
        "id": "vPlkSDdpaEht"
      },
      "outputs": [],
      "source": [
        "#vectorizer = CountVectorizer(lowercase = True, stop_words=STOPWORDS, max_features= 2000)\n",
        "#count_vectors = vectorizer.fit_transform(movies_data_wc.review)"
      ]
    },
    {
      "cell_type": "code",
      "execution_count": null,
      "metadata": {
        "id": "I4eFkDoyaEe6"
      },
      "outputs": [],
      "source": [
        "#count_vectors.toarray()\n",
        "#count_vect = CountVectorizer(stop_words=None, min_df=.001, max_df=.95, max_features=1000)"
      ]
    },
    {
      "cell_type": "code",
      "execution_count": null,
      "metadata": {
        "id": "LhCIXntiuRHx",
        "colab": {
          "base_uri": "https://localhost:8080/"
        },
        "outputId": "2ac5d560-5f49-42d9-c3bf-f7d5ebab7c0f"
      },
      "outputs": [
        {
          "output_type": "execute_result",
          "data": {
            "text/plain": [
              "CountVectorizer(stop_words='english')"
            ]
          },
          "metadata": {},
          "execution_count": 37
        }
      ],
      "source": [
        "count_vect = CountVectorizer(stop_words='english')\n",
        "count_vect.fit(movies_data.review)"
      ]
    },
    {
      "cell_type": "code",
      "execution_count": null,
      "metadata": {
        "id": "qHZpkgV3uRDl",
        "colab": {
          "base_uri": "https://localhost:8080/"
        },
        "outputId": "7bc130c6-cbd9-4753-c391-3be1ed52bea9"
      },
      "outputs": [
        {
          "output_type": "stream",
          "name": "stdout",
          "text": [
            "Tamanho do vocabulário:  115536\n",
            "Quantidade total de palavras:  6674225880\n"
          ]
        }
      ],
      "source": [
        "print('Tamanho do vocabulário: ', len(count_vect.vocabulary_))\n",
        "counter = 0\n",
        "for _, count in count_vect.vocabulary_.items():\n",
        "    counter += count\n",
        "    \n",
        "print('Quantidade total de palavras: ', counter)"
      ]
    },
    {
      "cell_type": "code",
      "execution_count": null,
      "metadata": {
        "id": "kDpEO-nDuQvi",
        "colab": {
          "base_uri": "https://localhost:8080/"
        },
        "outputId": "f9a4e17d-7ddb-4473-df66-806bd4adfe06"
      },
      "outputs": [
        {
          "output_type": "stream",
          "name": "stdout",
          "text": [
            "film 37775\n",
            "start 96987\n",
            "slowly 94137\n",
            "got 43578\n",
            "cinema 19786\n",
            "thought 102816\n",
            "looked 60514\n",
            "quite 82310\n",
            "good 43245\n",
            "min 65757\n",
            "bored 13815\n",
            "mind 65768\n",
            "wondering 113319\n",
            "kind 56348\n",
            "come 21323\n",
            "dont 30095\n",
            "like 59507\n",
            "wouldnt 113766\n",
            "recommend 83784\n",
            "best 11658\n",
            "night 70375\n"
          ]
        }
      ],
      "source": [
        "for i, (token, count) in enumerate(count_vect.vocabulary_.items()):\n",
        "    if i > 20:\n",
        "        break\n",
        "    print(token, count)"
      ]
    },
    {
      "cell_type": "code",
      "source": [
        "# Write DataFrame to CSV File with new params.\n",
        "movies_data.to_csv(output_path1,mode='w+')"
      ],
      "metadata": {
        "id": "pg-5r-jNPyyZ"
      },
      "execution_count": null,
      "outputs": []
    },
    {
      "cell_type": "markdown",
      "source": [
        "#Path 2"
      ],
      "metadata": {
        "id": "uBDALWdQbSV5"
      }
    },
    {
      "cell_type": "code",
      "source": [
        "# Raw dataset\n",
        "#input_path2 = './content/data_train.csv'\n",
        "# CSV output\n",
        "#output_path2 = './data_ACL_IMDB_train.csv'"
      ],
      "metadata": {
        "id": "dUeTyyCLJDzk"
      },
      "execution_count": null,
      "outputs": []
    },
    {
      "cell_type": "markdown",
      "source": [
        "# Obter base de treino"
      ],
      "metadata": {
        "id": "lkAbkp4pEpMK"
      }
    },
    {
      "cell_type": "code",
      "source": [
        "dftrain = pd.read_csv(output_path1)"
      ],
      "metadata": {
        "id": "BVlvdh-oEoWK"
      },
      "execution_count": null,
      "outputs": []
    },
    {
      "cell_type": "code",
      "source": [
        "dftrain['sentiment_boolean'] = dftrain['sentiment'].map({'positive': True, 'negative': False})"
      ],
      "metadata": {
        "id": "sVXE8Y04P1uF"
      },
      "execution_count": null,
      "outputs": []
    },
    {
      "cell_type": "code",
      "source": [
        "#d = {'positive': True, 'negative': False}\n",
        "#dftrain[\"sentiment\"].map(d)"
      ],
      "metadata": {
        "id": "5IrAcu8MU4YZ"
      },
      "execution_count": null,
      "outputs": []
    },
    {
      "cell_type": "code",
      "source": [
        "#d"
      ],
      "metadata": {
        "id": "lAXoIi_iXZjw"
      },
      "execution_count": null,
      "outputs": []
    },
    {
      "cell_type": "code",
      "source": [
        "#movies_data_train = d\n",
        "#movies_data_train = movies_data_train[movies_data_train.sentiment == 'False']"
      ],
      "metadata": {
        "id": "bzHE5j_XElJJ"
      },
      "execution_count": null,
      "outputs": []
    },
    {
      "cell_type": "code",
      "source": [
        "dftrain"
      ],
      "metadata": {
        "colab": {
          "base_uri": "https://localhost:8080/",
          "height": 423
        },
        "id": "1QyeU3jYWIHn",
        "outputId": "d175fbb5-56fa-48d8-8914-08afcee356a6"
      },
      "execution_count": null,
      "outputs": [
        {
          "output_type": "execute_result",
          "data": {
            "text/html": [
              "\n",
              "  <div id=\"df-da1a88bc-de4d-44f2-8824-8c32210e7fbf\">\n",
              "    <div class=\"colab-df-container\">\n",
              "      <div>\n",
              "<style scoped>\n",
              "    .dataframe tbody tr th:only-of-type {\n",
              "        vertical-align: middle;\n",
              "    }\n",
              "\n",
              "    .dataframe tbody tr th {\n",
              "        vertical-align: top;\n",
              "    }\n",
              "\n",
              "    .dataframe thead th {\n",
              "        text-align: right;\n",
              "    }\n",
              "</style>\n",
              "<table border=\"1\" class=\"dataframe\">\n",
              "  <thead>\n",
              "    <tr style=\"text-align: right;\">\n",
              "      <th></th>\n",
              "      <th>Unnamed: 0</th>\n",
              "      <th>review</th>\n",
              "      <th>sentiment</th>\n",
              "      <th>word_count</th>\n",
              "      <th>word_count_length</th>\n",
              "      <th>sentiment_boolean</th>\n",
              "    </tr>\n",
              "  </thead>\n",
              "  <tbody>\n",
              "    <tr>\n",
              "      <th>0</th>\n",
              "      <td>0</td>\n",
              "      <td>The film start to slowly when we got to the ci...</td>\n",
              "      <td>negative</td>\n",
              "      <td>157.0</td>\n",
              "      <td>750</td>\n",
              "      <td>False</td>\n",
              "    </tr>\n",
              "    <tr>\n",
              "      <th>1</th>\n",
              "      <td>1</td>\n",
              "      <td>Have to be honest and say that I havent seen m...</td>\n",
              "      <td>positive</td>\n",
              "      <td>73.0</td>\n",
              "      <td>440</td>\n",
              "      <td>True</td>\n",
              "    </tr>\n",
              "    <tr>\n",
              "      <th>2</th>\n",
              "      <td>2</td>\n",
              "      <td>Almost from the word go this film is poor and ...</td>\n",
              "      <td>negative</td>\n",
              "      <td>227.0</td>\n",
              "      <td>1196</td>\n",
              "      <td>False</td>\n",
              "    </tr>\n",
              "    <tr>\n",
              "      <th>3</th>\n",
              "      <td>3</td>\n",
              "      <td>Linda Lovelace wa the victim of a sadistic wom...</td>\n",
              "      <td>negative</td>\n",
              "      <td>114.0</td>\n",
              "      <td>651</td>\n",
              "      <td>False</td>\n",
              "    </tr>\n",
              "    <tr>\n",
              "      <th>4</th>\n",
              "      <td>4</td>\n",
              "      <td>Have not seen this 1958 film in a very long ti...</td>\n",
              "      <td>positive</td>\n",
              "      <td>155.0</td>\n",
              "      <td>819</td>\n",
              "      <td>True</td>\n",
              "    </tr>\n",
              "    <tr>\n",
              "      <th>...</th>\n",
              "      <td>...</td>\n",
              "      <td>...</td>\n",
              "      <td>...</td>\n",
              "      <td>...</td>\n",
              "      <td>...</td>\n",
              "      <td>...</td>\n",
              "    </tr>\n",
              "    <tr>\n",
              "      <th>24995</th>\n",
              "      <td>24995</td>\n",
              "      <td>Deliverance is a stunning thriller every bit a...</td>\n",
              "      <td>positive</td>\n",
              "      <td>515.0</td>\n",
              "      <td>3010</td>\n",
              "      <td>True</td>\n",
              "    </tr>\n",
              "    <tr>\n",
              "      <th>24996</th>\n",
              "      <td>24996</td>\n",
              "      <td>I know that the real story of Little Richard i...</td>\n",
              "      <td>negative</td>\n",
              "      <td>56.0</td>\n",
              "      <td>314</td>\n",
              "      <td>False</td>\n",
              "    </tr>\n",
              "    <tr>\n",
              "      <th>24997</th>\n",
              "      <td>24997</td>\n",
              "      <td>Here is proof of why Mary Pickford wa Americas...</td>\n",
              "      <td>positive</td>\n",
              "      <td>263.0</td>\n",
              "      <td>1484</td>\n",
              "      <td>True</td>\n",
              "    </tr>\n",
              "    <tr>\n",
              "      <th>24998</th>\n",
              "      <td>24998</td>\n",
              "      <td>I remember first watching Sabrina when it came...</td>\n",
              "      <td>positive</td>\n",
              "      <td>143.0</td>\n",
              "      <td>735</td>\n",
              "      <td>True</td>\n",
              "    </tr>\n",
              "    <tr>\n",
              "      <th>24999</th>\n",
              "      <td>24999</td>\n",
              "      <td>By 1945 and after a string of solid WWII propa...</td>\n",
              "      <td>positive</td>\n",
              "      <td>608.0</td>\n",
              "      <td>3566</td>\n",
              "      <td>True</td>\n",
              "    </tr>\n",
              "  </tbody>\n",
              "</table>\n",
              "<p>25000 rows × 6 columns</p>\n",
              "</div>\n",
              "      <button class=\"colab-df-convert\" onclick=\"convertToInteractive('df-da1a88bc-de4d-44f2-8824-8c32210e7fbf')\"\n",
              "              title=\"Convert this dataframe to an interactive table.\"\n",
              "              style=\"display:none;\">\n",
              "        \n",
              "  <svg xmlns=\"http://www.w3.org/2000/svg\" height=\"24px\"viewBox=\"0 0 24 24\"\n",
              "       width=\"24px\">\n",
              "    <path d=\"M0 0h24v24H0V0z\" fill=\"none\"/>\n",
              "    <path d=\"M18.56 5.44l.94 2.06.94-2.06 2.06-.94-2.06-.94-.94-2.06-.94 2.06-2.06.94zm-11 1L8.5 8.5l.94-2.06 2.06-.94-2.06-.94L8.5 2.5l-.94 2.06-2.06.94zm10 10l.94 2.06.94-2.06 2.06-.94-2.06-.94-.94-2.06-.94 2.06-2.06.94z\"/><path d=\"M17.41 7.96l-1.37-1.37c-.4-.4-.92-.59-1.43-.59-.52 0-1.04.2-1.43.59L10.3 9.45l-7.72 7.72c-.78.78-.78 2.05 0 2.83L4 21.41c.39.39.9.59 1.41.59.51 0 1.02-.2 1.41-.59l7.78-7.78 2.81-2.81c.8-.78.8-2.07 0-2.86zM5.41 20L4 18.59l7.72-7.72 1.47 1.35L5.41 20z\"/>\n",
              "  </svg>\n",
              "      </button>\n",
              "      \n",
              "  <style>\n",
              "    .colab-df-container {\n",
              "      display:flex;\n",
              "      flex-wrap:wrap;\n",
              "      gap: 12px;\n",
              "    }\n",
              "\n",
              "    .colab-df-convert {\n",
              "      background-color: #E8F0FE;\n",
              "      border: none;\n",
              "      border-radius: 50%;\n",
              "      cursor: pointer;\n",
              "      display: none;\n",
              "      fill: #1967D2;\n",
              "      height: 32px;\n",
              "      padding: 0 0 0 0;\n",
              "      width: 32px;\n",
              "    }\n",
              "\n",
              "    .colab-df-convert:hover {\n",
              "      background-color: #E2EBFA;\n",
              "      box-shadow: 0px 1px 2px rgba(60, 64, 67, 0.3), 0px 1px 3px 1px rgba(60, 64, 67, 0.15);\n",
              "      fill: #174EA6;\n",
              "    }\n",
              "\n",
              "    [theme=dark] .colab-df-convert {\n",
              "      background-color: #3B4455;\n",
              "      fill: #D2E3FC;\n",
              "    }\n",
              "\n",
              "    [theme=dark] .colab-df-convert:hover {\n",
              "      background-color: #434B5C;\n",
              "      box-shadow: 0px 1px 3px 1px rgba(0, 0, 0, 0.15);\n",
              "      filter: drop-shadow(0px 1px 2px rgba(0, 0, 0, 0.3));\n",
              "      fill: #FFFFFF;\n",
              "    }\n",
              "  </style>\n",
              "\n",
              "      <script>\n",
              "        const buttonEl =\n",
              "          document.querySelector('#df-da1a88bc-de4d-44f2-8824-8c32210e7fbf button.colab-df-convert');\n",
              "        buttonEl.style.display =\n",
              "          google.colab.kernel.accessAllowed ? 'block' : 'none';\n",
              "\n",
              "        async function convertToInteractive(key) {\n",
              "          const element = document.querySelector('#df-da1a88bc-de4d-44f2-8824-8c32210e7fbf');\n",
              "          const dataTable =\n",
              "            await google.colab.kernel.invokeFunction('convertToInteractive',\n",
              "                                                     [key], {});\n",
              "          if (!dataTable) return;\n",
              "\n",
              "          const docLinkHtml = 'Like what you see? Visit the ' +\n",
              "            '<a target=\"_blank\" href=https://colab.research.google.com/notebooks/data_table.ipynb>data table notebook</a>'\n",
              "            + ' to learn more about interactive tables.';\n",
              "          element.innerHTML = '';\n",
              "          dataTable['output_type'] = 'display_data';\n",
              "          await google.colab.output.renderOutput(dataTable, element);\n",
              "          const docLink = document.createElement('div');\n",
              "          docLink.innerHTML = docLinkHtml;\n",
              "          element.appendChild(docLink);\n",
              "        }\n",
              "      </script>\n",
              "    </div>\n",
              "  </div>\n",
              "  "
            ],
            "text/plain": [
              "       Unnamed: 0                                             review  \\\n",
              "0               0  The film start to slowly when we got to the ci...   \n",
              "1               1  Have to be honest and say that I havent seen m...   \n",
              "2               2  Almost from the word go this film is poor and ...   \n",
              "3               3  Linda Lovelace wa the victim of a sadistic wom...   \n",
              "4               4  Have not seen this 1958 film in a very long ti...   \n",
              "...           ...                                                ...   \n",
              "24995       24995  Deliverance is a stunning thriller every bit a...   \n",
              "24996       24996  I know that the real story of Little Richard i...   \n",
              "24997       24997  Here is proof of why Mary Pickford wa Americas...   \n",
              "24998       24998  I remember first watching Sabrina when it came...   \n",
              "24999       24999  By 1945 and after a string of solid WWII propa...   \n",
              "\n",
              "      sentiment  word_count  word_count_length  sentiment_boolean  \n",
              "0      negative       157.0                750              False  \n",
              "1      positive        73.0                440               True  \n",
              "2      negative       227.0               1196              False  \n",
              "3      negative       114.0                651              False  \n",
              "4      positive       155.0                819               True  \n",
              "...         ...         ...                ...                ...  \n",
              "24995  positive       515.0               3010               True  \n",
              "24996  negative        56.0                314              False  \n",
              "24997  positive       263.0               1484               True  \n",
              "24998  positive       143.0                735               True  \n",
              "24999  positive       608.0               3566               True  \n",
              "\n",
              "[25000 rows x 6 columns]"
            ]
          },
          "metadata": {},
          "execution_count": 47
        }
      ]
    },
    {
      "cell_type": "markdown",
      "source": [
        "### Iniciando a contagem de vocabulário da classe de interesse no train set"
      ],
      "metadata": {
        "id": "UrcsKhEgTM0g"
      }
    },
    {
      "cell_type": "code",
      "source": [
        "count_vect = CountVectorizer(stop_words=None, min_df=.001, max_df=.95, max_features=1000)\n",
        "count_vect.fit(dftrain.review)"
      ],
      "metadata": {
        "colab": {
          "base_uri": "https://localhost:8080/"
        },
        "id": "G5rkaye-L8X2",
        "outputId": "860e3a8e-7f69-4a40-e2b2-6a21186a2998"
      },
      "execution_count": null,
      "outputs": [
        {
          "output_type": "execute_result",
          "data": {
            "text/plain": [
              "CountVectorizer(max_df=0.95, max_features=1000, min_df=0.001)"
            ]
          },
          "metadata": {},
          "execution_count": 48
        }
      ]
    },
    {
      "cell_type": "code",
      "source": [
        "print('Tamanho do vocabulário: ', len(count_vect.vocabulary_))\n",
        "counter = 0\n",
        "for _, count in count_vect.vocabulary_.items():\n",
        "    counter += count\n",
        "    \n",
        "print('Quantidade total de palavras: ', counter)"
      ],
      "metadata": {
        "colab": {
          "base_uri": "https://localhost:8080/"
        },
        "id": "QEddYoBZX55D",
        "outputId": "fc8c5753-e418-4910-afb0-7bc80dc1cc4d"
      },
      "execution_count": null,
      "outputs": [
        {
          "output_type": "stream",
          "name": "stdout",
          "text": [
            "Tamanho do vocabulário:  1000\n",
            "Quantidade total de palavras:  499500\n"
          ]
        }
      ]
    },
    {
      "cell_type": "code",
      "source": [
        "for i, (token, count) in enumerate(count_vect.vocabulary_.items()):\n",
        "    if i > 33:\n",
        "        break\n",
        "    print(token, count)"
      ],
      "metadata": {
        "colab": {
          "base_uri": "https://localhost:8080/"
        },
        "id": "TcOQIEieX_oe",
        "outputId": "a0182792-c2e8-4e01-d451-9ffc1cd8a9cc"
      },
      "execution_count": null,
      "outputs": [
        {
          "output_type": "stream",
          "name": "stdout",
          "text": [
            "film 317\n",
            "start 801\n",
            "to 872\n",
            "when 950\n",
            "we 939\n",
            "got 371\n",
            "cinema 158\n",
            "thought 865\n",
            "it 451\n",
            "looked 508\n",
            "quite 684\n",
            "good 369\n",
            "but 128\n",
            "after 24\n",
            "about 7\n",
            "were 945\n",
            "all 31\n",
            "out 621\n",
            "of 597\n",
            "our 620\n",
            "mind 546\n",
            "what 947\n",
            "kind 472\n",
            "had 379\n",
            "come 167\n",
            "see 740\n",
            "dont 234\n",
            "like 498\n",
            "this 862\n",
            "wouldnt 982\n",
            "recommend 697\n",
            "anyone 51\n",
            "best 102\n",
            "part 627\n"
          ]
        }
      ]
    },
    {
      "cell_type": "markdown",
      "source": [
        "### Comparação do Vocabulário Global com o train Set"
      ],
      "metadata": {
        "id": "M3jNluKAYG30"
      }
    },
    {
      "cell_type": "code",
      "source": [
        "count_vect_global = CountVectorizer(stop_words=None, min_df=.001, max_df=.95, max_features=3000)\n",
        "\n",
        "count_vect_global.fit(dftrain.review)"
      ],
      "metadata": {
        "colab": {
          "base_uri": "https://localhost:8080/"
        },
        "id": "Eg-SrobRX5OD",
        "outputId": "76abeda6-3896-4044-e400-a6054f0df35f"
      },
      "execution_count": null,
      "outputs": [
        {
          "output_type": "execute_result",
          "data": {
            "text/plain": [
              "CountVectorizer(max_df=0.95, max_features=3000, min_df=0.001)"
            ]
          },
          "metadata": {},
          "execution_count": 51
        }
      ]
    },
    {
      "cell_type": "code",
      "source": [
        "print('Tamanho do vocabulário: ', len(count_vect_global.vocabulary_))\n",
        "counter = 0\n",
        "for _, count in count_vect_global.vocabulary_.items():\n",
        "    counter += count\n",
        "    \n",
        "print('Quantidade total de palavras: ', counter)"
      ],
      "metadata": {
        "id": "niUJ4MCPYV3W",
        "colab": {
          "base_uri": "https://localhost:8080/"
        },
        "outputId": "c7cf0186-ff04-4e2d-c1cd-b8206983ce57"
      },
      "execution_count": null,
      "outputs": [
        {
          "output_type": "stream",
          "name": "stdout",
          "text": [
            "Tamanho do vocabulário:  3000\n",
            "Quantidade total de palavras:  4498500\n"
          ]
        }
      ]
    },
    {
      "cell_type": "markdown",
      "source": [
        "### Criação de método para extrair as chaves do Dict que são os vocabulários"
      ],
      "metadata": {
        "id": "o9Yw9Q1HZFSu"
      }
    },
    {
      "cell_type": "code",
      "source": [
        "def getList(dict):\n",
        "    return list(dict.keys())\n",
        "\n",
        "targetList = getList(count_vect.vocabulary_)\n",
        "\n",
        "globalList = getList(count_vect_global.vocabulary_)"
      ],
      "metadata": {
        "id": "KRBFhIjMZC5l"
      },
      "execution_count": null,
      "outputs": []
    },
    {
      "cell_type": "code",
      "source": [
        "print(targetList)\n",
        "print(\" \")\n",
        "print(globalList)"
      ],
      "metadata": {
        "id": "2AFM9Fh_ZC23",
        "colab": {
          "base_uri": "https://localhost:8080/"
        },
        "outputId": "94f64992-59dc-4145-8bff-fdde0a917fc4"
      },
      "execution_count": null,
      "outputs": [
        {
          "output_type": "stream",
          "name": "stdout",
          "text": [
            "['film', 'start', 'to', 'when', 'we', 'got', 'cinema', 'thought', 'it', 'looked', 'quite', 'good', 'but', 'after', 'about', 'were', 'all', 'out', 'of', 'our', 'mind', 'what', 'kind', 'had', 'come', 'see', 'dont', 'like', 'this', 'wouldnt', 'recommend', 'anyone', 'best', 'part', 'night', 'wa', 'light', 'came', 'back', 'on', 'because', 'project', 'down', 'could', 'go', 'home', 'ha', 'be', 'one', 'worst', 'have', 'ever', 'seen', 'or', 'most', 'people', 'in', 'actually', 'at', 'end', 'so', 'am', 'surprised', 'that', 'no', 'earlier', 'than', 'if', 'you', 'make', 'sure', 'something', 'keep', 'better', 'still', 'say', 'havent', 'many', 'very', 'well', 'done', 'direction', 'cinematography', 'without', 'setting', 'used', 'world', 'which', 'main', 'character', 'memorable', 'image', 'from', 'stick', 'your', 'long', 'over', 'always', 'director', 'almost', 'word', 'is', 'poor', 'then', 'again', 'would', 'show', 'script', 'dialogue', 'really', 'doe', 'not', 'sometimes', 'case', 'more', 'le', 'should', 'been', 'also', 'by', 'scene', 'walk', 'think', 'might', 'lead', 'only', 'seem', 'waste', 'few', 'second', 'br', 'plot', 'strange', 'situation', 'comedy', 'seemed', 'idea', 'time', 'there', 'for', 'someone', 'with', 'here', 'itbr', 'okay', 'he', 'seems', 'play', 'beginning', 'wonder', 'given', 'just', 'filmed', 'told', 'finally', 'me', 'his', 'meant', 'put', 'joke', 'didnt', 'did', 'watching', 'friend', 'kept', 'going', 'get', 'victim', 'woman', 'understand', 'how', 'having', 'sex', 'dog', 'animal', 'can', 'found', 'entertaining', 'funny', 'who', 'into', 'making', 'these', 'know', 'some', 'will', 'comment', 'feel', 'type', 'fire', 'further', 'feeling', 'towards', 'society', 'sexual', 'human', 'being', 'call', 'however', 'way', 'before', 'enjoyed', 'playing', 'role', 'an', 'actual', 'named', 'brother', 'played', 'jack', 'set', 'her', 'eye', 'girl', 'cat', 'change', 'becomes', 'full', 'fall', 'love', 'story', 'tell', 'real', 'cannot', 'cry', 'begin', 'big', 'problem', 'between', 'decided', 'they', 'do', 'great', 'view', 'classic', 'others', 'are', 'two', 'close', 'sister', 'together', 'party', 'supposed', 'drug', 'third', 'country', 'rest', 'giving', 'up', 'hope', 'strong', 'message', 'power', 'mean', 'excellent', 'due', 'issue', 'want', 'talk', 'first', 'acting', 'top', 'look', 'perfect', 'little', 'around', 'she', 'fun', 'trouble', 'side', 'although', 'instead', 'bill', 'american', 'living', 'inside', 'while', 'same', 'return', 'through', 'each', 'day', 'their', 'spirit', 'other', 'thing', 'soundtrack', 'song', 'hear', 'alone', 'must', 'simple', 'life', 'yourself', 'realize', 'live', 'easy', 'believe', 'music', 'subject', 'group', 'called', 'wrong', 'last', 'name', 'voice', 'beautiful', 'add', 'much', 'filmbr', 'enjoy', 'wont', 'youll', 'talking', 'bad', 'may', 'similar', 'men', 'doing', 'overall', 'ask', 'question', 'far', 'maybe', 'none', 'until', 'never', 'die', 'ill', 'admit', 'my', 'mistake', 'made', 'tv', 'movie', 'off', 'minute', 'too', 'cast', 'job', 'definitely', 'flick', 'genre', 'violence', 'rating', 'nudity', 'absolutely', 'series', 'nothing', 'career', 'since', 'low', 'level', 'supporting', 'actress', 'robert', 'fantastic', 'usually', 'modern', 'lee', 'talented', 'actor', 'during', 'greatest', 'average', 'particularly', 'annoying', 'myself', 'any', 'money', 'cause', 'cut', 'as', 'rate', '10', 'feature', 'such', 'ten', 'despite', 'fact', 'writer', 'original', 'based', 'man', 'history', 'local', 'david', 'red', 'expecting', 'appear', 'run', 'across', 'screen', 'reason', 'line', 'probably', 'where', 'costume', 'theme', 'next', 'fan', 'book', 'certainly', 'dvd', 'hold', 'high', 'heard', 'watched', 'fear', 'started', 'mostly', 'terrible', 'whole', 'pretty', 'truth', 'felt', 'especially', 'room', 'let', 'isnt', 'writing', 'future', 'them', 'him', 'important', 'coming', 'term', 'imdb', 'moment', 'state', 'completely', 'present', 'themselves', 'crime', 'obvious', 'mention', 'find', 'near', 'read', 'screenplay', 'michael', 'missed', 'point', 'trying', 'sound', 'everyone', 'performance', 'saying', 'why', 'viewer', 'murder', 'ending', 'throughout', 'child', 'turn', 'true', 'god', 'couldnt', 'known', 'otherwise', 'video', 'quality', 'complete', 'lack', 'taking', 'sort', 'western', 'audience', 'rather', 'hour', 'those', 'interest', 'once', 'business', 'doesnt', 'television', 'right', 'its', 'shame', 'guy', 'dance', 'laugh', 'oh', 'least', 'beauty', 'gore', 'worth', 'house', 'order', 'unfortunately', 'boy', 'already', 'even', 'thats', 'dead', 'effort', 'white', 'buy', 'though', 'disappointed', 'review', 'opening', 'detail', 'wonderful', 'act', 'knew', 'experience', 'left', 'indeed', 'personal', 'art', 'herself', 'im', 'stage', 'truly', 'open', 'new', 'action', 'forward', 'superb', 'mr', 'id', 'wanted', 'killer', 'plan', 'highly', 'work', 'death', 'several', 'meet', 'nearly', 'taken', 'small', 'pay', 'attention', 'later', 'thriller', 'female', 'older', 'happened', 'city', 'took', 'worse', 'turned', 'attack', 'getting', 'bit', 'serious', 'watch', 'seeing', 'chance', 'basically', 'town', 'rock', 'looking', 'kill', 'wife', 'take', 'need', 'leave', 'gun', 'car', 'both', 'another', 'amount', 'course', 'arent', 'force', 'now', 'moving', 'care', 'deserves', 'apart', 'lame', 'fine', 'black', 'cop', 'stupid', 'hard', 'went', 'lot', 'hit', 'fairly', 'hot', 'entire', 'john', 'son', 'school', 'drama', 'late', 'credit', 'ive', 'sadly', 'cant', 'theres', 'awful', 'style', 'year', 'release', 'try', 'interesting', 'nature', 'fails', 'father', 'decent', 'perhaps', 'soon', 'along', 'casting', 'stop', 'production', 'theyre', 'previous', 'became', 'success', 'cute', 'yes', 'animation', 'perfectly', 'disney', 'killed', 'filmmaker', 'horror', 'every', 'doctor', 'easily', 'ridiculous', 'dialog', 'straight', 'accent', 'la', 'plain', 'budget', 'apparently', 'enough', 'obviously', 'sad', 'possibly', 'acted', 'special', 'location', 'value', 'police', 'street', 'half', 'focus', 'young', 'mess', 'shot', 'fit', 'title', 'zombie', 'appearance', 'exactly', 'note', 'cheesy', 'stuff', 'unlike', 'give', 'anything', 'masterpiece', 'expect', 'hell', 'wasnt', 'own', 'please', 'copy', 'under', 'guess', 'hand', 'itself', 'boring', 'piece', 'early', '80', 'bring', 'somehow', 'weird', 'past', 'old', 'eventually', 'air', 'kid', 'potential', 'suspense', 'worked', 'within', 'happen', 'form', 'storyline', 'else', 'interested', 'somewhat', 'dull', 'fantasy', 'version', 'stand', 'head', 'above', 'use', 'away', 'create', 'jane', 'whom', 'beyond', 'dark', 'secret', 'particular', 'youve', 'miss', 'simply', 'often', 'emotion', 'sense', 'dramatic', 'ago', 'check', 'hero', 'saw', 'attempt', 'tom', 'family', 'whose', 'documentary', 'lost', 'quickly', 'whether', 'seriously', 'dream', 'sequence', 'plus', 'move', 'nor', 'short', 'fight', 'daughter', 'missing', 'said', 'girlfriend', 'among', 'middle', 'follow', 'avoid', 'become', 'certain', 'appears', 'element', 'anyway', 'whats', 'premise', 'lady', 'creepy', 'ok', 'game', 'couple', 'killing', 'fast', 'five', 'humor', 'hilarious', 'portrayal', 'himself', 'hollywood', 'clearly', 'box', 'opinion', 'vampire', 'horrible', 'place', 'matter', 'example', 'japanese', 'soldier', 'talent', 'gone', 'effect', 'everything', 'yet', 'romance', 'happens', 'aspect', 'english', 'color', 'score', 'king', 'richard', 'footage', 'development', 'possible', 'viewing', 'total', 'three', 'remake', 'british', 'major', 'released', 'portrayed', 'amazing', 'youre', 'remember', '70', 'nice', 'star', 'against', 'surprise', 'either', 'usual', 'directing', 'evil', 'cool', 'married', 'brilliant', 'final', 'atmosphere', 'camera', 'directed', 'peter', 'bunch', 'written', 'shes', 'oscar', 'standard', 'background', 'weak', 'thinking', 'happy', 'four', 'famous', 'loved', 'team', 'save', 'clear', 'tried', 'unique', 'entertainment', 'wish', 'slow', 'extremely', 'person', 'different', 'relationship', 'including', 'liked', 'mother', 'crazy', 'heart', 'except', 'concept', 'manages', 'realistic', 'escape', 'upon', 'male', 'choice', 'sequel', 'incredibly', 'rent', 'sit', 'picture', 'parent', 'gave', 'mark', 'public', 'war', 'imagine', 'difficult', 'telling', 'body', 'plenty', 'poorly', 'showing', 'earth', 'using', 'able', 'huge', 'needed', 'crew', 'episode', 'running', 'predictable', '90', 'sorry', 'free', 'twist', 'class', '30', 'tale', 'space', 'result', 'today', 'cheap', 'america', 'figure', 'monster', 'scary', 'dr', 'brings', 'enjoyable', 'paul', 'unless', 'face', 'win', 'stay', 'help', 'political', 'us', 'hate', 'totally', 'working', 'george', 'typical', 'adult', 'leaf', 'ghost', 'christmas', 'shown', 'agree', 'favorite', 'company', 'doubt', 'break', 'member', 'front', 'involved', 'behind', 'comic', 'band', 'touch', 'silly', 'william', 'battle', 'adventure', 'forget', 'blood', 'fighting', 'general', 'dumb', 'pure', 'york', 'match', 'student', 'mystery', 'material', 'learn', 'expected', 'whatever', 'recently', 'husband', 'age', 'event', 'rich', 'scifi', 'romantic', 'deal', 'cover', 'joe', 'moviebr', 'outside', 'reality', '20', 'wait', 'editing', 'james', 'believable', 'musical', 'number', 'hes', 'gay', 'reading', 'producer', 'emotional', 'offer', 'badly', 'hardly', 'lover', 'brought', 'etc', 'theater', 'novel', 'studio', 'forced', 'single', 'incredible', 'pick', 'week', 'leading', 'villain', 'award', 'period', 'cartoon', 'crap', 'de', 'season', 'ben', 'french', 'powerful', 'baby', 'various', 'write', 'deep']\n",
            " \n",
            "['film', 'start', 'to', 'slowly', 'when', 'we', 'got', 'cinema', 'thought', 'it', 'looked', 'quite', 'good', 'but', 'after', 'about', 'were', 'all', 'bored', 'out', 'of', 'our', 'mind', 'wondering', 'what', 'kind', 'had', 'come', 'see', 'dont', 'like', 'this', 'wouldnt', 'recommend', 'anyone', 'best', 'part', 'night', 'wa', 'light', 'came', 'back', 'on', 'because', 'project', 'broke', 'down', 'could', 'go', 'home', 'ha', 'be', 'one', 'worst', 'have', 'ever', 'seen', 'or', 'most', 'people', 'in', 'actually', 'ran', 'door', 'at', 'end', 'so', 'rubbish', 'am', 'surprised', 'that', 'no', 'walked', 'earlier', 'than', 'if', 'you', 'make', 'sure', 'something', 'keep', 'busy', 'better', 'still', 'honest', 'say', 'havent', 'many', 'independent', 'very', 'well', 'done', 'direction', 'cinematography', 'engaging', 'without', 'becoming', 'angle', 'setting', 'lighting', 'used', 'successfully', 'created', 'world', 'which', 'main', 'character', 'trapped', 'haunting', 'memorable', 'image', 'from', 'stick', 'your', 'long', 'over', 'always', 'sign', 'director', 'almost', 'word', 'is', 'poor', 'lacking', 'then', 'again', 'would', 'struggle', 'show', 'script', 'dialogue', 'really', 'doe', 'not', 'flow', 'sometimes', 'case', 'more', 'le', 'should', 'been', 'also', 'by', 'odd', 'scene', 'eg', 'walk', 'think', 'might', 'lead', 'somewhere', 'only', 'seem', 'waste', 'few', 'second', 'lifebr', 'br', 'plot', 'strange', 'combination', 'gangster', 'situation', 'comedy', 'seemed', 'idea', 'time', 'there', 'for', 'someone', 'with', 'here', 'itbr', 'martin', 'freeman', 'okay', 'he', 'seems', 'play', 'beginning', 'wonder', 'given', 'just', 'filmed', 'told', 'finally', 'humour', 'reminds', 'me', 'quote', 'his', 'meant', 'humorous', 'put', 'joke', 'didnt', 'onebr', 'did', 'watching', 'friend', 'kept', 'hoping', 'going', 'get', 'victim', 'woman', 'understand', 'how', 'having', 'sex', 'dog', 'animal', 'abuse', 'can', 'found', 'entertaining', 'funny', 'prisoner', 'who', 'into', 'making', 'these', 'know', 'some', 'will', 'comment', 'feel', 'strongly', 'type', 'fire', 'further', 'feeling', 'towards', 'society', 'continues', 'portray', 'sexual', 'object', 'human', 'being', 'call', 'however', 'way', 'before', 'surface', 'greatly', 'enjoyed', 'kim', 'playing', 'role', 'an', 'actual', 'witch', 'aunt', 'named', 'brother', 'nick', 'played', 'jack', 'set', 'her', 'eye', 'stewart', 'girl', 'marry', 'performer', 'magic', 'spell', 'cat', 'change', 'intended', 'bride', 'becomes', 'full', 'fall', 'love', 'story', 'tell', 'real', 'cannot', 'cry', 'begin', 'prove', 'big', 'problem', 'between', 'decided', 'they', 'do', 'great', 'view', 'classic', 'others', 'are', 'two', 'close', 'sister', 'alice', 'together', 'party', 'decide', 'supposed', 'attempting', 'drug', 'third', 'country', 'disaster', 'rest', 'giving', 'up', 'hope', 'strong', 'message', 'power', 'friendship', 'mean', 'excellent', 'due', 'issue', 'want', 'talk', 'first', 'acting', 'top', 'look', 'perfect', 'little', 'rough', 'around', 'edge', 'she', 'fun', 'trouble', 'side', 'although', 'irritating', 'served', 'instead', 'bill', 'american', 'lawyer', 'living', 'inside', 'prison', 'while', 'same', 'natural', 'born', 'return', 'necessary', 'struggling', 'through', 'each', 'day', 'their', 'spirit', 'other', 'survive', 'thing', 'soundtrack', 'mood', 'song', 'hear', 'trailer', 'alone', 'must', 'desperate', 'simple', 'life', 'yourself', 'realize', 'lucky', 'live', 'easy', 'compared', 'believe', 'music', 'subject', 'group', 'called', 'wrong', 'last', 'name', 'voice', 'beautiful', 'add', 'much', 'filmbr', 'enjoy', 'stupidity', 'wont', 'youll', 'talking', 'bad', 'security', 'may', 'similar', 'circumstance', 'men', 'doing', 'foreign', 'brutal', 'herebr', 'overall', 'ask', 'question', 'far', 'tough', 'maybe', 'none', 'honestly', 'answer', 'until', 'lets', 'never', 'die', 'ill', 'admit', 'my', 'mistake', 'made', 'tv', 'movie', 'thrown', 'off', '40', 'minute', 'too', 'continuity', 'cast', 'exceptional', 'job', 'definitely', 'chick', 'flick', 'genre', 'violent', 'violence', 'rating', 'nudity', 'gratuitous', 'absolutely', 'guest', 'series', 'nothing', 'career', 'since', 'low', 'level', 'supporting', 'actress', 'robert', 'patrick', 'fantastic', 'usually', 'modern', 'lee', 'talented', 'respect', 'actor', 'during', 'range', 'ability', 'greatest', 'disappointment', 'regard', 'tracy', 'aside', 'below', 'average', 'particularly', 'attractive', 'annoying', 'myself', 'lifetime', 'program', 'paying', 'any', 'money', 'considering', 'cause', 'worthy', 'cut', 'as', 'rate', '10', 'feature', 'such', 'ten', 'south', 'african', 'insult', 'paid', 'produce', 'despite', 'fact', 'writer', 'original', 'addition', 'based', 'historical', 'man', 'leader', 'warrior', 'large', 'history', 'local', 'bottom', 'failed', 'henry', 'david', 'slave', 'red', 'expecting', 'appear', 'nowhere', 'run', 'across', 'screen', 'tiny', 'suit', 'apparent', 'reason', 'wouldve', 'bizarre', 'line', 'probably', 'beer', 'dress', 'where', 'costume', 'inspired', 'theme', 'next', 'blockbuster', 'massive', 'fan', 'book', 'certainly', 'favourite', 'bought', 'dvd', 'sheer', 'hold', 'high', 'heard', 'watched', 'fear', 'started', 'mostly', 'regarding', 'frankly', 'terrible', 'hearing', 'beat', 'whole', 'pretty', 'hurt', 'tension', 'exists', 'truth', 'felt', 'especially', 'room', 'let', 'spends', 'affair', 'julia', 'isnt', 'writing', 'future', 'build', 'belief', 'them', 'him', 'skip', 'essentially', 'important', 'coming', 'term', 'position', 'via', 'imdb', 'moment', 'state', 'completely', 'present', 'visit', 'themselves', 'crime', 'obvious', 'mention', 'initial', 'instance', 'find', 'mentioned', 'near', 'read', 'screenplay', 'rescue', 'michael', 'missed', 'point', 'trying', 'sound', 'track', 'everyone', 'dean', 'performance', 'saying', 'why', 'viewer', 'religious', 'murder', 'fiction', 'ending', 'surprising', 'fictional', 'spoiler', 'throughout', 'shocked', 'impact', 'child', 'handle', 'turn', 'true', 'god', 'mission', 'demon', 'suggest', 'couldnt', 'known', 'otherwise', 'adam', 'video', 'quality', 'complete', 'lack', 'memory', 'fbi', 'agent', 'christian', 'merely', 'taking', 'unexpected', 'ride', 'journey', 'shoot', 'sort', 'master', 'western', 'audience', 'likely', 'rather', 'culture', 'arm', 'hour', 'recommended', 'those', 'interest', 'india', 'once', 'prof', 'business', 'youd', 'hed', 'doesnt', 'television', 'welcome', 'personally', 'tim', 'right', 'its', 'shame', 'guy', 'wasted', 'unfunny', 'dance', 'laugh', 'oh', 'least', 'tired', 'pretentious', 'beauty', 'gore', 'worth', 'sleazy', 'remote', 'house', 'wood', 'order', 'unfortunately', 'boy', 'already', 'even', 'thats', 'consider', 'paper', 'dead', 'effort', 'saved', 'white', 'buy', 'though', 'disappointed', 'review', 'explain', 'opening', 'detail', 'wonderful', 'gordon', 'act', 'youth', 'energy', 'knew', 'experience', 'left', 'emotionally', 'indeed', 'continue', 'tragic', 'accident', 'personal', 'crisis', 'art', 'herself', 'im', 'fellow', 'stage', 'helping', 'arrives', 'drunk', 'gut', 'allbr', 'critic', 'path', 'truly', 'open', 'new', 'possibility', 'action', 'forward', 'superb', 'thank', 'mr', 'id', 'wanted', 'murphy', 'literally', 'killer', 'plan', 'knock', 'highly', 'everyday', 'lisa', 'normal', 'work', 'death', 'flight', 'several', 'meet', 'ordinary', 'reveals', 'include', 'key', 'succeeds', 'saving', 'nearly', 'cost', 'taken', 'small', 'pay', 'attention', 'later', 'thriller', 'hint', 'thanks', 'female', 'gonna', 'hey', 'dirty', 'harry', 'older', 'vacation', 'happened', 'city', 'took', 'worse', 'turned', 'rape', 'attack', 'getting', 'bit', 'serious', 'watch', 'prior', 'seeing', 'correct', 'chance', 'basically', 'williams', 'cage', 'town', 'rock', 'looking', 'meeting', 'bar', 'owner', 'wayne', 'brown', 'sum', 'hired', 'kill', 'wife', 'take', 'warn', 'decides', 'need', 'leave', 'identity', 'chase', 'shooting', 'gun', 'car', 'dennis', 'complicated', 'quick', 'knowing', 'both', 'danger', 'another', 'falling', 'steal', 'amount', 'safe', 'course', 'arent', 'catch', 'force', 'now', 'deserve', 'moving', 'train', 'care', 'deserves', 'starring', 'jim', 'johnson', 'matt', 'truck', 'driver', 'howard', 'apart', 'lame', 'fine', 'noir', 'black', 'criminal', 'professor', 'cop', 'thus', 'stupid', 'race', 'racist', 'shouldnt', 'enjoying', 'laughed', 'hard', 'went', 'screening', 'lot', 'hit', 'fairly', 'constant', 'hot', 'awesome', 'entire', 'john', 'son', 'wrote', 'school', 'drama', 'wow', 'late', 'saturday', 'credit', 'ive', 'finished', 'sadly', 'cant', 'spoil', 'theres', 'awful', 'style', 'substance', 'hasnt', 'dated', 'eight', 'year', 'release', 'try', 'interesting', 'nature', 'control', 'remotely', 'meaningful', 'argument', 'fails', 'stereotype', 'father', 'club', 'cooper', 'decent', 'keeping', 'pace', 'perhaps', 'information', 'soon', 'device', 'push', 'along', 'casting', 'numerous', 'hole', 'creative', 'fail', 'stop', 'production', 'younger', 'enjoyment', 'theyre', 'appeal', 'satisfying', 'heaven', 'animated', 'previous', 'don', 'land', 'became', 'success', 'cute', 'was', 'yes', 'animation', 'perfectly', 'touching', 'opened', 'date', 'produced', 'disney', 'charlie', 'killed', 'performed', 'jackson', 'german', 'filmmaker', 'managed', 'task', 'horror', 'impossible', 'ed', 'laughable', 'proud', 'embarrassed', 'international', 'nobody', 'lived', 'every', 'doctor', 'screenwriter', 'waiting', 'discovered', 'easily', 'willing', 'ridiculous', 'dialog', 'straight', 'accent', 'serial', 'la', 'innocent', 'drag', 'floor', 'plain', 'sight', 'partner', 'refuse', 'physically', 'budget', 'apparently', 'included', 'enough', 'paint', 'obviously', 'sad', 'european', 'possibly', 'acted', 'native', 'spent', 'special', 'location', 'value', 'fair', 'police', 'street', 'half', 'focus', 'officer', 'young', 'mess', 'shot', 'fit', 'latter', 'title', 'zombie', 'murdered', 'accept', 'logic', 'absurd', 'manage', 'appearance', 'exactly', 'makeup', 'fashion', 'model', 'ready', 'note', 'cheesy', 'noise', 'stuff', 'unlike', 'speak', 'give', 'opportunity', 'shower', 'golden', 'isbr', 'anything', 'shock', 'tune', 'masterpiece', 'expect', 'hell', 'wasnt', 'existence', 'own', 'please', 'eat', 'copy', 'under', 'island', 'guess', 'hand', 'ultimately', 'reveal', 'itself', 'pointless', 'boring', 'piece', 'garbage', 'yeah', 'early', '80', 'flashback', 'longer', 'teenage', 'caught', 'bring', 'string', 'neck', 'somehow', 'hidden', 'weird', 'trip', 'treasure', 'past', 'step', 'old', 'boat', 'boyfriend', 'eventually', 'air', 'mixed', 'kid', 'potential', 'suspense', 'forgotten', 'ended', 'worked', 'within', 'happen', 'filled', 'form', 'confusing', 'inept', 'storyline', 'advice', 'seek', 'worthwhile', 'beast', 'bmovie', 'else', 'interested', 'brain', '310', 'somewhat', 'dull', 'cable', 'station', 'computer', 'buff', 'noted', 'weekend', 'debut', 'pleasure', 'fantasy', 'generation', 'castle', 'fortunately', 'version', 'nicely', 'stand', 'head', 'above', 'length', 'justice', 'use', 'away', 'cutting', 'text', 'adding', 'lie', 'central', 'create', 'jane', 'cold', 'harsh', 'utterly', 'intelligent', 'whom', 'drawn', 'beyond', 'dangerous', 'contact', 'extraordinary', 'dark', 'secret', 'trial', 'remarkable', 'spoken', 'particular', 'passion', 'scale', 'youve', 'bond', 'handsome', 'miss', 'simply', 'ugly', 'often', 'emotion', 'sense', 'rare', 'dramatic', 'ago', 'bbc', 'jean', 'wide', 'sea', 'mrs', 'check', 'hero', 'saw', 'festival', 'science', 'author', 'brian', 'attempt', 'tom', 'twin', 'family', 'clever', 'whose', 'documentary', 'lost', 'lose', 'quickly', 'whether', 'seriously', 'dream', 'sequence', 'plus', 'roll', 'move', 'reminded', 'angry', 'werent', 'nor', 'sympathetic', 'comparison', 'disappointing', 'sucked', 'atrocious', 'short', 'pathetic', 'fight', 'manner', 'food', 'clothes', 'daughter', 'missing', 'stuck', 'said', 'suck', 'girlfriend', 'france', 'rank', 'among', 'promise', 'century', 'middle', 'normally', 'follow', 'following', 'consequence', 'suffers', 'trap', 'avoid', 'become', 'robin', 'nonexistent', 'contains', 'gag', 'certain', 'appears', 'element', 'relative', 'asks', 'anyway', 'whats', 'basic', 'slasher', 'premise', 'lady', 'creepy', 'heck', 'eating', 'ok', 'drinking', 'game', 'couple', 'random', 'killing', 'dude', 'psycho', 'fast', 'five', 'player', 'sleep', 'express', 'brothers', 'gross', 'heavily', 'humor', 'narrative', 'simon', 'hilarious', 'portrayal', 'himself', 'england', 'hollywood', 'clearly', 'received', 'positive', 'majority', 'box', 'office', 'faith', 'whenever', 'jeff', 'danny', 'anderson', 'surprisingly', 'opinion', 'interview', 'vampire', 'suffer', 'forever', 'horrible', 'campy', 'franchise', 'place', 'sounded', 'matter', 'example', 'japanese', 'soldier', 'dying', 'tone', 'former', 'goofy', 'guilty', 'talent', 'gone', 'effect', 'compare', 'pack', 'everything', 'yet', 'romance', 'exception', 'presented', 'happens', 'degree', 'aspect', 'english', 'inspiration', 'difference', 'color', 'score', 'praise', 'king', 'failure', 'reputation', 'freedom', 'wanting', 'richard', 'stranger', 'extra', 'footage', 'theatrical', 'added', 'serf', 'flaw', 'development', 'possible', 'fate', 'strength', 'viewing', 'artistic', 'merit', 'target', 'hopefully', 'driving', 'rule', 'remain', 'therefore', 'remains', 'total', 'contrast', 'jewish', 'mere', 'three', 'beloved', 'count', 'twice', 'remake', 'british', 'major', 'indian', 'released', 'sidney', 'starred', 'caine', 'dealing', 'authentic', 'portrayed', 'africa', 'generally', 'attitude', 'amazing', 'changed', 'goal', 'youre', 'introduction', 'sexy', 'remember', 'chemistry', '70', 'erotic', 'moral', 'welles', 'nice', 'star', 'locked', 'conflict', 'against', 'unusual', 'surprise', 'either', 'usual', 'directing', 'irish', 'evil', 'trust', 'cool', 'married', 'brilliant', 'final', 'hall', 'mirror', 'visual', 'atmosphere', 'camera', 'sun', 'hair', 'directed', 'peter', 'witty', 'contrived', 'glass', 'comedic', 'woody', 'ensemble', 'guessing', 'month', 'presence', 'bunch', 'written', 'wind', 'sweet', 'won', 'shes', 'oscar', 'standard', 'melodrama', 'douglas', 'capable', 'wealthy', 'background', 'weak', 'driven', 'wild', 'impressive', 'skill', 'quiet', 'authority', 'thinking', 'heavy', 'happy', 'everybody', 'four', 'successful', 'format', 'designed', 'famous', 'finish', 'explains', 'loved', 'gorgeous', 'team', 'save', 'ship', 'circle', 'religion', 'common', 'clear', 'tried', 'unique', 'buddy', 'dinosaur', 'entertainment', 'wish', 'deeply', 'influence', 'sin', 'al', 'shallow', 'uninteresting', 'couldve', 'strike', 'church', 'pacing', 'slow', 'charming', 'extremely', 'fresh', 'convincing', 'loving', 'person', 'protect', 'portrays', 'different', 'negative', 'naturally', 'depiction', 'relationship', 'including', 'liked', 'interaction', 'loud', 'mother', 'drive', 'crazy', 'occasion', 'heart', 'except', 'according', 'charm', 'outstanding', 'mainly', 'biggest', 'weakness', 'delightful', 'concept', 'manages', 'realistic', 'charge', 'escape', 'upon', 'seemingly', 'nude', 'convinced', 'maker', 'pulled', 'punch', 'graphic', 'male', 'extreme', 'excuse', 'lower', 'disturbing', 'choice', 'besides', 'connection', 'grave', 'revenge', 'chosen', 'store', 'sequel', 'complaint', 'torture', 'explanation', 'overly', 'cruel', 'neighbor', 'fool', 'claim', 'incredibly', 'shocking', 'rent', 'sit', 'warned', 'thirty', 'picture', 'parent', 'gave', 'mark', 'public', 'sir', 'delivery', 'war', 'imagine', 'difficult', 'losing', 'parker', 'rival', 'tarzan', 'hunter', 'jungle', 'winning', 'grab', 'ape', 'nasty', 'telling', 'attacked', 'mate', 'slightly', 'prefer', 'damn', 'fabulous', 'wearing', 'outfit', 'body', 'double', 'lovely', 'plenty', 'skin', 'stone', 'exciting', 'spectacular', 'lion', 'monkey', 'load', 'concerned', 'share', 'excitement', 'riding', 'cross', 'river', 'onto', 'unconvincing', 'cousin', 'poorly', 'showing', 'dragon', 'earth', 'lord', 'grown', 'meanwhile', 'using', 'sean', 'pain', 'jason', 'julie', 'queen', 'arthur', 'nominated', 'able', 'routine', 'eddie', 'raw', 'comedian', 'huge', 'needed', 'built', 'funniest', 'crew', 'jennifer', 'tribute', 'vote', 'pity', 'involves', 'episode', 'finding', 'foot', 'running', 'inner', 'laughing', 'drew', 'sarah', 'amazed', 'davis', 'chris', 'porn', 'ruined', 'andy', 'clichéd', 'predictable', '110', 'morgan', 'appealing', '90', 'broken', 'fascinating', 'delivers', 'followed', 'sorry', 'free', 'listen', 'ludicrous', 'gory', 'fake', 'fully', 'highlight', 'twist', 'brilliantly', 'class', 'breast', 'delight', 'describe', 'self', 'critical', 'ruin', 'glad', 'topic', 'progress', 'grace', 'stunning', 'wwii', '30', 'epic', 'tale', 'space', 'wooden', 'strangely', 'result', 'visuals', 'breathtaking', 'today', 'channel', 'cheap', 'north', 'america', 'figure', 'brief', 'wise', 'anger', 'spanish', 'cliché', 'area', 'village', 'visually', 'recognize', 'forgettable', 'afraid', 'dentist', 'monster', 'scary', 'doll', 'dr', 'brings', 'mad', 'mouth', 'delivered', 'enjoyable', 'guide', 'hire', 'expert', 'creature', 'fell', 'asleep', 'led', 'meaning', 'finger', 'smart', 'paul', 'ray', 'crude', 'unless', 'six', 'kevin', 'mary', 'prime', 'depressing', 'face', 'showed', 'mass', 'suicide', 'jones', 'idiotic', 'win', 'steve', 'jump', 'stay', 'therebr', 'placed', 'marie', 'marriage', 'offered', 'germany', 'sold', 'dislike', 'help', 'direct', 'president', 'service', 'political', 'cynical', 'us', 'government', 'steven', 'reaction', 'internet', 'hate', 'totally', 'intellectual', 'working', 'andor', 'george', 'typical', 'ear', 'tragedy', 'pride', 'era', 'indie', 'adult', 'thin', 'unknown', 'teacher', 'clip', 'poster', 'marvelous', 'brooks', 'ms', 'genuinely', 'list', 'leaf', 'bland', 'adaptation', 'cash', 'ghost', 'round', 'edward', 'christmas', 'impression', 'scott', 'shown', 'putting', 'frank', 'desert', 'reporter', 'aka', '810', '1010', 'ignore', 'tend', 'agree', 'loose', 'relate', 'favorite', 'includes', 'pull', 'vehicle', 'wall', 'flying', 'ancient', 'constantly', 'invisible', 'protagonist', 'sick', 'politics', 'frame', 'building', 'ultimate', 'movement', 'ton', 'stolen', 'private', 'vision', 'criticism', 'walking', 'buying', 'company', 'taylor', 'underrated', 'machine', 'bos', 'treatment', 'theyve', 'trite', 'halfway', 'college', 'market', 'held', 'record', 'motion', 'doubt', 'honor', 'haunted', 'california', 'park', 'field', 'tony', 'christopher', 'thousand', 'sport', 'bo', 'uk', 'news', 'moore', 'blue', 'collection', 'mine', 'soft', 'spot', 'worry', 'celebrity', 'break', 'road', 'moved', 'tear', 'member', 'tour', 'front', 'involved', 'committed', 'artist', 'fame', 'allows', 'revolves', 'medium', 'behind', 'comic', 'band', 'touch', 'weapon', 'ring', 'description', 'tradition', 'picked', 'silly', 'understanding', 'lowbudget', 'youbr', 'previously', 'filmmaking', 'appreciate', 'print', 'vhs', 'crappy', 'daily', 'amusing', 'subtle', 'pool', 'gem', 'fox', 'ralph', 'recent', 'trilogy', 'breath', 'technique', 'storytelling', 'albeit', 'relation', 'rush', 'regret', 'section', 'standing', 'william', 'characterization', 'context', 'variety', 'underground', 'root', 'experiment', 'entirely', 'bringing', 'traditional', 'pop', 'surreal', 'battle', 'shape', 'segment', 'intriguing', 'achievement', 'bound', 'draw', 'ashamed', 'badbr', 'described', 'adventure', 'forget', 'blood', 'hood', 'loss', 'barely', '15', 'fighting', 'general', 'medical', 'kiss', 'impressed', 'terrific', 'gold', 'whoever', 'sunday', 'afternoon', 'introduced', 'naked', 'dumb', 'grade', 'knife', 'pure', 'deliver', 'ticket', 'midnight', 'grant', 'russell', 'friday', 'detective', 'powell', 'allen', 'amateur', 'post', 'ironic', 'york', 'wit', 'rarely', 'match', 'relatively', 'student', 'mystery', 'london', 'rose', 'material', 'equal', 'ala', 'hide', 'keaton', 'appropriate', 'murderer', 'bright', 'silent', 'unforgettable', 'source', 'storm', 'realized', 'thoroughly', 'fare', 'joy', 'ron', 'lesson', 'learn', 'provides', 'expected', 'tight', 'involving', 'repeated', 'ad', 'max', 'whatever', 'ie', 'bother', 'recently', 'ford', 'gary', 'convey', 'massacre', 'minor', 'roger', 'exploitation', 'citizen', 'albert', 'equally', 'subplot', 'consists', 'wonderfully', 'capture', 'alex', 'torn', 'husband', 'growing', 'donald', '2000', 'warm', 'age', 'event', 'rich', 'related', 'research', 'grand', 'corny', 'mediocre', 'guard', 'lovable', 'considered', 'intensity', 'likable', 'rated', '50', 'scifi', 'romantic', 'leaving', 'narration', 'stock', 'greater', 'approach', 'deal', 'laughter', 'gang', 'notice', 'cover', 'provide', 'joe', 'explained', 'turning', 'scenario', 'sheriff', 'purely', 'moviebr', 'outside', 'passed', 'himbr', 'reality', 'spoof', 'alive', 'singer', '20', 'stunt', 'rolling', 'proof', 'smith', 'alan', 'san', 'social', 'wait', 'bet', 'rise', 'demand', 'manager', 'unlikely', 'professional', 'victoria', 'lake', 'believed', 'waybr', 'asian', 'mike', 'rob', 'stephen', 'theatre', 'thembr', 'canadian', 'ryan', 'exist', 'fat', 'freak', 'dressed', 'sell', 'mix', 'clichés', 'motivation', 'editing', 'available', 'prepared', 'benefit', 'scare', 'technically', 'terribly', 'happening', 'superior', 'jr', 'blame', 'blah', 'james', 'anne', '410', 'support', 'believable', 'immediately', 'painful', 'soap', 'carried', 'speaking', 'fred', 'rogers', 'musical', 'hat', 'navy', 'accidentally', 'number', 'pair', 'dancing', 'absolute', 'stopped', 'singing', 'mom', 'neither', 'carry', 'sings', 'moon', 'larry', 'hes', 'pile', 'oliver', '60', 'shadow', 'mile', 'credibility', 'commercial', 'bob', 'obsessed', 'overthetop', 'combined', 'dreadful', 'witness', 'judge', 'green', 'tape', 'remembered', 'gay', 'teenager', 'reading', 'popular', 'warner', 'producer', 'clue', 'nowadays', 'teen', 'corner', 'beautifully', 'paris', 'decade', 'portrait', 'latest', 'emotional', 'cult', 'quest', 'hated', 'fourth', 'genius', 'bear', 'raise', 'offer', 'supposedly', 'difficulty', 'affect', 'disbelief', 'rip', 'laura', 'hotel', 'horribly', 'devil', 'captured', 'edited', '25', 'outbr', 'badly', 'dubbed', 'bore', 'crowd', 'tree', 'directly', 'screaming', 'hardly', 'con', 'scream', 'grey', 'kelly', 'lynch', 'spend', 'apartment', 'hang', 'law', 'teach', 'luck', 'listening', 'jerry', 'weve', 'usa', 'lover', 'thisbr', 'user', 'code', 'hill', 'died', 'sexuality', 'lucy', 'center', 'mentally', 'retarded', 'community', 'trade', 'advantage', 'racism', 'captain', 'chief', 'risk', 'discovers', 'lesbian', 'brought', 'excited', 'propaganda', 'spoilers', 'onbr', 'mature', 'empty', 'asking', 'heroine', 'dick', 'childrens', 'angel', 'goodbr', 'etc', 'learning', 'knowledge', 'trek', 'opera', 'magnificent', 'sharp', 'theater', 'national', 'jon', 'novel', 'sat', 'subtitle', 'error', 'planet', 'studio', 'mildly', 'legendary', 'pleasant', 'socalled', 'gruesome', 'reviewer', 'martial', 'remind', 'bruce', 'jackie', 'chan', '100', 'crash', 'ted', 'painfully', 'serve', 'appreciated', 'similarity', 'quirky', 'ned', 'spite', 'caused', 'nevertheless', 'dozen', 'gift', 'network', 'forced', 'assume', 'regular', 'single', 'gotten', 'plane', 'fly', 'conversation', 'poignant', 'develop', 'bank', 'incredible', 'explosion', '2006', 'photo', 'abandoned', 'hospital', 'complex', 'notable', 'winner', 'initially', 'aware', 'genuine', 'concern', 'purpose', 'creator', 'developed', 'alien', 'wear', 'insight', 'sake', 'nightmare', 'shed', 'heres', 'pick', 'priest', 'folk', 'billy', 'roberts', 'mindless', 'redeeming', 'walter', 'finest', 'recall', 'covered', 'touched', 'buck', 'trash', 'climax', 'flawed', 'kick', 'executed', 'till', 'week', 'suspenseful', 'sleeping', 'leading', 'nomination', 'process', 'anime', 'depth', 'nazi', 'villain', 'calling', 'factor', 'dynamic', 'imagination', 'brave', 'throw', 'thrill', 'bomb', 'storybr', 'blow', 'rachel', 'award', 'pet', 'display', 'victor', 'period', 'presentation', 'cartoon', 'card', 'required', 'whatsoever', 'ripoff', 'johnny', 'obnoxious', 'dad', 'familiar', 'helped', 'hitler', 'responsible', 'hundred', 'anybody', 'suddenly', 'significant', 'army', 'europe', 'wellbr', 'dubbing', 'st', 'favor', 'wasting', 'crap', '1960s', 'jimmy', 'hitchcock', '1950s', 'deserved', 'uncomfortable', 'solid', 'sing', 'basis', 'overcome', 'mebr', 'super', 'changing', 'oddly', 'luke', 'wilson', 'nonsense', 'eric', 'necessarily', 'utter', 'fault', 'department', 'shut', 'thatbr', 'mysterious', 'twisted', 'figured', 'giant', 'adapted', 'jessica', 'lesser', 'creates', 'de', 'site', 'darkness', 'italian', 'effective', 'compelling', 'flesh', 'category', 'wake', 'loses', 'helen', 'sympathy', 'sitcom', 'aint', 'upset', 'replaced', 'concert', 'camp', 'enemy', 'bitter', 'closing', 'practically', 'language', 'featured', 'provided', 'season', 'oscars', 'bothered', 'toward', 'amongst', 'watchable', 'timebr', 'scenery', 'alright', 'ben', 'radio', 'host', 'lugosi', 'fortune', 'disgusting', 'mexico', 'border', 'lonely', 'conclusion', 'closeup', 'blonde', 'unbelievable', 'executive', 'drop', 'columbo', 'ahead', 'experienced', 'viewed', 'million', 'statement', 'proper', 'sky', 'universe', 'wars', 'core', 'humanity', 'clean', 'accurate', 'blown', 'junk', 'combine', 'dy', 'happily', 'stayed', 'window', 'gripping', 'atmospheric', 'industry', 'bus', 'dollar', 'flat', 'amateurish', 'uncle', 'filming', 'china', '1930s', 'featuring', 'choose', 'originality', 'barbara', 'french', 'forth', 'maria', 'zero', 'ice', 'join', 'exact', 'twenty', 'formula', 'oneliners', 'technical', 'creating', 'board', 'dry', 'rain', 'chilling', 'spy', 'scientist', 'carrying', 'technology', 'properly', 'friendly', 'deadly', 'allowed', 'universal', 'frequently', 'powerful', 'harris', 'vietnam', 'michelle', 'expression', 'grim', 'gritty', 'baby', 'sent', 'photography', 'satire', 'suppose', 'seat', 'learned', 'attraction', 'offensive', 'handled', 'extent', 'hong', 'kong', 'kung', 'fu', 'neighborhood', 'soul', 'veteran', 'various', 'discussion', 'unnecessary', 'effectively', 'ii', 'opposite', 'depicted', 'imagery', 'insane', 'higher', 'sitting', 'forgot', 'renting', 'write', 'tied', 'taste', 'werewolf', 'bag', 'scared', 'kinda', 'pretend', 'promising', 'charles', 'bigger', 'dare', 'relief', 'bed', 'deep', 'personality', 'incident', 'send', 'suggests', 'court', 'granted', 'pilot', 'grew', 'van', 'unrealistic', 'fill', 'suspect', 'inspector', 'terror', 'endbr', 'americans', 'originally', 'tedious', 'endless', 'asked', 'determined', 'trick', 'bloody', 'repeat', 'blind', 'appeared', 'revolution', 'military', 'interpretation', 'limit', 'convince', 'idiot', 'intention', 'childhood', 'sam', 'summer', 'limited', 'thankfully', 'football', 'league', 'pregnant', 'candy', 'treat', 'bone', 'smile', 'courage', 'destroy', 'does', 'stereotypical', 'design', 'leg', 'chair', 'met', 'somebody', 'parody', 'mainstream', 'japan', 'entry', 'againbr', 'pas', 'anywhere', 'bollywood', 'holding', 'surely', 'expectation', 'hence', 'occasionally', 'individual', 'toy', 'shakespeare', 'study', '12', 'fairy', 'base', 'warning', 'proved', 'page', 'established', 'writerdirector', 'nine', 'gene', 'cook', 'claire', 'execution', 'current', 'mask', 'confusion', 'psychological', 'east', 'west', 'horrific', 'whilst', 'system', 'follows', 'specific', 'shop', 'encounter', 'troubled', 'balance', 'cinematic', 'suffering', 'timing', 'destroyed', 'preview', 'intelligence', 'structure', 'everywhere', 'product', 'flash', 'starting', 'ball', 'letter', 'travel', 'plague', 'survivor', 'understood', 'philip', 'cgi', 'entertained', 'anna', '13', 'drawing', 'emma', 'par', 'kate', 'portraying', 'whereas', 'burn', 'ground', 'credible', 'gain', 'lazy', 'sinatra', 'embarrassing', 'chose', 'von', 'breaking', 'dancer', 'sudden', 'birth', 'cameo', 'catholic', 'morning', 'hoffman', 'drink', 'discover', 'seeking', 'occasional', 'hunt', 'letting', 'thief', 'infamous', 'perspective', 'physical', 'decision', 'curse', 'unfortunate', 'fish', 'factory', 'shine', 'passing', 'urban', 'false', 'washington', 'mgm', 'prince', 'price', 'search', 'plastic', 'downright', '1970s', 'unable', 'deeper', 'environment', 'test', 'hadnt', 'jail', 'summary', 'anthony', 'fallen', 'lousy', 'horse', 'realizes', 'finale', 'mouse', 'cinderella', 'funnier', 'water', 'snake', 'states', 'creation', 'speed', 'allow', 'innocence', 'tense', 'enter', 'assistant', 'sensitive', 'mansion', 'reunion', 'hanging', 'colour', 'setup', 'treated', 'broadway', 'hardy', 'largely', 'homage', 'stanley', 'madness', 'baseball', 'bat', 'virgin', 'awkward', 'revelation', '14', 'commentary', 'speech', 'speaks', 'blend', 'movies', 'phone', 'notorious', 'jesus', 'miscast', 'russian', 'batman', 'robot', 'reed', 'throwing', 'strip', 'joseph', 'gas', 'learns', 'roy', 'intense', 'threat', 'multiple', 'beating', 'rented', 'holiday', 'refreshing', 'report', 'revealed', 'paced', 'frightening', 'condition', 'cabin', 'closer', 'irony', 'curious', 'split', 'ann', 'magazine', 'began', '1980s', 'account', 'rental', 'naive', '11', 'dinner', 'reach', 'faithful', 'thomas', 'wave', 'legend', 'worker', 'noble', 'virtually', 'reminiscent', 'teeth', 'focused', 'portion', 'evening', 'matrix', 'landscape', 'turkey', 'nose', 'terrorist', 'reference', 'resident', 'rebel', 'raised', 'lane', 'controversial', 'wedding', 'happiness', 'halloween', 'stretch', 'beach', 'things', 'painting', 'essential', 'santa', 'table', 'dan', 'cell', 'obsession', 'grow', 'nation', 'cowboy', 'suffered', 'freddy', 'lewis', 'bird', 'kurt', 'noticed', 'glimpse', 'joan', 'facial', 'patient', 'content', 'realism', 'anymore', 'hanks', 'pacino', 'foster', 'australian', 'seven', 'entertain', 'comical', 'parallel', 'louis', 'texas', 'mental', 'magical', 'bullet', 'metal', 'tie', 'pitt', '710', 'desire', 'slapstick', 'musician', 'clark', 'miller', 'sacrifice', 'challenge', 'chinese', 'loser', 'princess', 'sword', 'principal', 'shark', 'amazingly', 'mexican', 'contain', 'mountain', 'andrews', 'evidence', 'mob', 'confused', 'sinister', 'forest', 'separate', 'leslie', 'desperately', 'method', 'susan', 'brad', 'bette', 'united', 'status', 'contemporary', 'stylish', 'perform', 'lying', '910', 'jerk', 'academy', 'rat', 'thrilling', 'elvis', 'cultural', 'dig', 'peace', 'throat', 'wing', 'bridge', 'theory', 'behavior', 'blair', 'nancy', 'nonetheless', 'superman', 'neat', 'che', 'achieve', 'daniel', 'holmes', 'training', 'stomach', 'caring', 'southern', 'jay', 'burt', 'supernatural', 'bettie', 'develops', 'elizabeth', 'titanic', 'pitch', 'bourne']\n"
          ]
        }
      ]
    },
    {
      "cell_type": "markdown",
      "source": [
        "### Concat das listas dos vocabulários"
      ],
      "metadata": {
        "id": "TNCJOv0yZQ8s"
      }
    },
    {
      "cell_type": "code",
      "source": [
        "masterList = targetList + globalList"
      ],
      "metadata": {
        "id": "s-IgIiuZZC0i"
      },
      "execution_count": null,
      "outputs": []
    },
    {
      "cell_type": "code",
      "source": [
        "len(masterList)"
      ],
      "metadata": {
        "id": "Xw9s7O1HZVh8",
        "colab": {
          "base_uri": "https://localhost:8080/"
        },
        "outputId": "d66fac3c-1daa-448d-cc21-3c0ebffb62dd"
      },
      "execution_count": null,
      "outputs": [
        {
          "output_type": "execute_result",
          "data": {
            "text/plain": [
              "4000"
            ]
          },
          "metadata": {},
          "execution_count": 56
        }
      ]
    },
    {
      "cell_type": "markdown",
      "source": [
        "### Criação de um conjunto (set) para a eliminação de palavras repetidas"
      ],
      "metadata": {
        "id": "jSqLmPMoZYhM"
      }
    },
    {
      "cell_type": "code",
      "source": [
        "setVocabulary = set(masterList)"
      ],
      "metadata": {
        "id": "uXINU5XSZah9"
      },
      "execution_count": null,
      "outputs": []
    },
    {
      "cell_type": "code",
      "source": [
        "print(type(setVocabulary))\n",
        "len(setVocabulary)"
      ],
      "metadata": {
        "id": "RXD1ZwcYZaWl",
        "colab": {
          "base_uri": "https://localhost:8080/"
        },
        "outputId": "076df150-d87c-44fd-d30f-f008d13df958"
      },
      "execution_count": null,
      "outputs": [
        {
          "output_type": "stream",
          "name": "stdout",
          "text": [
            "<class 'set'>\n"
          ]
        },
        {
          "output_type": "execute_result",
          "data": {
            "text/plain": [
              "3000"
            ]
          },
          "metadata": {},
          "execution_count": 58
        }
      ]
    },
    {
      "cell_type": "code",
      "source": [
        "print(setVocabulary)"
      ],
      "metadata": {
        "id": "brvGqG0jZaMD",
        "colab": {
          "base_uri": "https://localhost:8080/"
        },
        "outputId": "98b7becb-506b-4ac6-b13c-a106d94cdce0"
      },
      "execution_count": null,
      "outputs": [
        {
          "output_type": "stream",
          "name": "stdout",
          "text": [
            "{'demand', 'actor', 'show', 'provided', 'slightly', 'male', 'source', 'greatly', 'bird', 'home', 'between', 'belief', 'obvious', 'couldve', 'everybody', 'cut', 'bride', 'got', 'ludicrous', 'moviebr', 'up', 'shallow', 'strongly', 'rebel', 'every', 'historical', 'storyline', 'convince', 'hate', 'news', 'essentially', 'terrible', 'regarding', 'compare', 'abandoned', 'facial', 'pacino', 'ultimate', 'correct', 'played', 'buck', 'caused', 'rate', 'stylish', 'honor', 'warner', 'piece', 'sky', 'sell', 'wont', 'doesnt', 'guilty', 'status', 'encounter', 'game', 'previous', 'reason', 'hilarious', 'happiness', '12', 'jr', 'nowadays', 'involving', 'return', 'ensemble', 'older', 'rough', 'looked', 'company', 'fashion', 'realized', 'terror', 'fame', 'surprised', 'stone', '1980s', 'format', 'mansion', 'par', 'surprisingly', 'support', 'away', 'proved', 'sign', 'print', 'bound', 'do', 'warned', 'lucy', 'yourself', 'setup', 'usually', 'continue', 'contact', 'industry', 'memory', 'santa', 'treasure', 'ring', 'error', 'morning', 'study', 'prison', 'skip', 'harry', 'space', 'murder', 'soundtrack', 'effort', 'town', 'gold', 'beauty', '100', 'limit', 'myself', 'slow', 'entirely', 'bettie', 'law', 'successful', 'enemy', 'opinion', 'propaganda', 'asking', 'sinister', 'respect', 'ford', 'greatest', 'indeed', 'fabulous', 'understood', 'noise', 'police', 'category', 'dinner', 'youth', 'poor', 'comedic', 'handle', 'documentary', 'evidence', 'lacking', 'characterization', 'lord', 'level', 'credit', 'sin', 'numerous', 'nightmare', 'accept', 'continuity', 'enough', 'cutting', 'crap', 'program', 'current', 'expect', 'unknown', 'bourne', 'nowhere', 'wood', 'loose', 'stretch', 'street', 'ancient', 'worked', 'so', 'loser', 'wind', 'building', 'strike', 'teenage', 'normally', 'arthur', 'unrealistic', 'suffered', 'five', 'east', 'list', 'community', 'oliver', 'just', 'curse', 'edward', 'compared', 'hired', 'moral', 'jump', 'justice', 'led', 'aunt', 'modern', 'mr', 'stay', 'dislike', 'ironic', 'satire', 'only', 'sister', 'fair', 'criticism', 'physical', 'super', 'chair', 'colour', 'remain', 'liked', 'park', 'trap', 'louis', 'drinking', 'visuals', 'kind', 'circle', 'beloved', 'chose', 'mebr', 'inspired', 'put', 'simply', 'perhaps', 'con', 'deserve', 'goofy', 'note', 'religious', 'waste', 'lose', 'york', 'interesting', 'deeply', 'wearing', 'tour', 'sean', 'alex', 'ruined', 'anthony', 'placed', 'begin', 'earlier', 'shes', 'mental', 'enjoyed', 'dry', 'ahead', 'thankfully', 'supporting', 'mildly', 'cannot', 'taken', 'struggling', 'viewed', 'lousy', 'david', 'people', 'dressed', 'enjoying', 'main', 'punch', 'living', 'prove', 'embarrassed', 'especially', 'grew', 'fact', 'often', 'daughter', 'judge', 'check', 'spoken', 'pretend', 'ive', 'watched', 'reunion', 'friendship', 'leslie', 'smart', 'ok', 'scare', 'steven', 'brian', 'twisted', 'burn', 'rob', 'detective', 'ms', 'hes', 'prepared', 'will', 'plague', 'decided', 'league', 'epic', 'flying', 'photography', 'joan', 'sheer', 'narrative', 'beast', 'due', 'office', 'wayne', 'visual', 'therebr', 'rip', 'cabin', 'fare', 'ice', 'walked', 'musical', 'claire', 'effectively', 'fell', 'model', 'donald', 'helen', 'catholic', 'sit', 'wooden', 'protect', 'expectation', 'subject', 'brilliant', 'filmmaker', 'mark', 'enter', 'haunted', 'store', 'academy', 'design', 'prefer', 'ran', 'named', 'fish', 'no', 'business', 'whilst', 'ordinary', 'brooks', 'appealing', 'artist', 'theme', 'contrived', 'mentally', 'award', 'chemistry', 'starting', 'offered', 'long', 'evening', 'jessica', 'guess', 'round', 'balance', 'alien', 'achieve', 'clean', 'reality', 'picked', 'shot', 'unable', 'see', 'england', 'with', 'ago', 'pretty', 'edited', 'cute', 'massive', 'nice', 'captain', 'sequel', 'happily', 'idiot', 'produced', '14', 'warm', 'rare', 'renting', 'line', '40', 'dan', 'straight', 'light', 'riding', 'bank', 'italian', 'technical', 'overcome', 'roll', 'bette', 'producer', 'landscape', 'clearly', 'dynamic', 'given', 'series', 'attack', 'stanley', 'give', 'evil', 'according', 'suicide', 'describe', 'editing', 'capture', 'crowd', 'way', 'novel', 'cheesy', 'jackie', 'photo', 'thrown', 'animated', 'morgan', 'act', 'intriguing', 'matrix', 'abuse', 'served', 'ashamed', 'history', 'hide', 'appreciated', 'finding', 'jerry', 'redeeming', 'arm', 'along', 'audience', 'starred', 'gang', '910', 'neighbor', 'rather', 'ready', 'used', 'freedom', 'suit', 'like', 'had', 'important', 'talent', 'field', 'thats', 'please', 'gore', 'sight', 'best', 'revenge', 'psychological', 'personal', 'badbr', 'chase', 'been', 'dont', 'chan', 'hell', 'frequently', 'it', 'meaningful', 'immediately', 'teenager', 'under', 'glimpse', 'cost', 'heroine', 'imagination', 'context', 'presented', 'stunning', 'joke', 'casting', 'inept', 'gorgeous', 'hat', 'computer', 'fighting', 'max', 'dreadful', 'herebr', 'call', 'martial', 'gangster', 'would', 'ability', 'jay', 'hidden', 'released', 'national', 'half', 'development', 'state', 'hunt', 'besides', 'dead', '60', 'virgin', 'welcome', 'basic', 'jean', 'absolutely', 'spectacular', 'gem', 'card', 'thought', 'be', 'emotionally', 'promising', 'christian', 'trite', 'genre', 'considered', 'waiting', 'still', 'sitting', 'lazy', 'tarzan', 'left', 'dennis', 'driver', 'quote', 'view', 'silent', 'multiple', '10', 'serf', 'purely', 'hole', 'scream', 'bomb', 'frank', 'mind', 'indie', 'shame', 'lower', 'native', 'eat', 'below', 'affair', 'unless', 'drew', 'jesus', 'theatre', 'one', 'next', 'seek', 'reminds', 'california', 'religion', 'suggests', 'frightening', 'amusing', 'jennifer', 'lion', 'rush', 'supposedly', 'weapon', 'rachel', 'certainly', 'comical', 'remarkable', 'hood', 'camera', 'truck', 'much', 'everyone', 'sense', 'produce', 'anger', 'utter', 'ask', 'recent', 'hearing', 'deliver', 'europe', 'angel', 'crisis', 'english', 'ultimately', 'when', 'violent', 'feeling', 'van', 'fiction', 'washington', 'gone', 'france', 'presence', 'creative', 'touching', 'nudity', 'bos', 'rape', 'surprising', 'film', 'kurt', 'throughout', 'text', 'necessarily', 'falling', 'have', 'fine', 'festival', 'take', 'wouldnt', 'class', 'racist', 'proud', 'principal', 'involves', 'racism', 'explain', 'back', 'network', 'directed', 'screen', 'poorly', 'having', 'pace', 'sick', 'gave', 'advice', 'scientist', 'married', 'rise', 'failure', 'irish', 'reference', 'atmospheric', 'secret', 'gift', 'approach', 'vietnam', 'stephen', 'detail', 'almost', 'tear', 'serial', 'acting', 'throw', 'step', 'convincing', 'underrated', 'mike', 'bat', '2006', 'saving', 'thirty', 'beat', 'very', 'jerk', 'horror', 'tight', 'freeman', 'join', 'wonder', 'am', 'decides', 'knew', 'creature', 'apparent', 'vampire', 'jones', 'somewhere', 'offer', 'universal', 'entire', 'quality', 'last', 'terribly', 'quick', 'twice', 'maria', 'speech', 'troubled', 'violence', 'majority', 'chief', 'trick', 'chinese', 'you', 'making', 'young', 'inspiration', 'generally', 'city', 'fbi', 'head', 'hitler', 'known', 'sexy', 'throwing', 'mate', 'out', 'arent', 'aka', 'nearly', 'wwii', 'fat', 'sinatra', 'storytelling', 'red', 'harsh', 'grace', 'research', 'rain', 'rating', 'too', 'asian', 'group', 'dentist', 'woody', 'depiction', 'overly', '810', 'dy', 'fictional', 'change', 'play', 'hundred', 'odd', 'parody', 'managed', 'described', 'star', 'celebrity', 'trilogy', 'shut', 'shouldnt', 'christmas', 'bone', 'dull', 'paul', 'whereas', 'than', 'brad', 'susan', 'greater', 'advantage', 'bus', 'dream', 'start', 'strong', 'short', 'genuine', 'gripping', 'provide', 'until', 'science', 'danny', 'usa', 'japan', 'writing', 'quite', 'entertainment', 'jeff', 'stranger', 'execution', 'flow', 'lane', 'letter', 'afternoon', 'career', 'introduced', 'member', 'lady', 'hollywood', 'minor', 'job', 'village', 'mine', 'ticket', 'cool', 'saturday', 'deadly', 'corner', 'slave', 'eric', 'extreme', 'dialog', 'luck', 'trek', 'week', 'appreciate', 'de', 'inspector', 'mother', 'hated', 'professor', 'talking', 'imdb', 'roger', 'nose', 'use', 'dubbed', 'money', 'biggest', 'delivers', 'meet', 'down', 'harris', 'ie', 'suffers', 'ground', 'became', 'paying', 'endless', 'americans', 'sum', 'clichés', 'shark', 'know', 'supposed', 'emotion', 'remind', 'intense', 'brother', 'match', 'sympathetic', 'case', 'driven', 'blockbuster', 'medical', 'acted', 'lead', 'glad', 'plane', 'loss', 'responsible', 'joe', 'sensitive', 'day', 'zero', 'tale', 'theater', 'shape', 'allow', 'nasty', 'adam', 'caring', 'heres', 'commercial', 'paint', 'free', 'difference', 'because', 'term', 'chris', 'could', 'push', 'available', 'fresh', 'track', 'mainly', 'pitch', 'merely', 'steal', 'drive', 'european', 'beautiful', 'good', 'daily', 'cinematography', 'torture', 'famous', 'everyday', 'credible', 'write', 'outbr', 'suffering', 'over', 'plus', 'bringing', 'pity', 'freak', 'portrayal', 'degree', 'superior', 'any', 'etc', 'fear', 'again', 'dramatic', 'notable', 'commentary', 'im', 'moved', 'amount', 'mere', 'attitude', 'amongst', 'baseball', 'touch', 'speaking', 'object', 'ending', 'letting', 'marriage', 'worst', 'successfully', 'code', 'character', 'whose', 'gut', 'horse', 'tragedy', 'two', 'excuse', 'exists', 'painful', 'forced', 'position', 'medium', 'winning', 'follows', 'rarely', 'side', 'breath', 'heavy', 'preview', 'impressive', 'creepy', 'hed', 'nobody', 'moore', 'drag', 'plan', 'mood', 'exciting', 'feel', 'admit', 'picture', 'guy', 'addition', 'itself', 'whatever', 'suspense', 'project', 'also', 'brought', 'country', 'won', 'prime', 'bet', 'superman', 'independent', 'enjoyable', 'success', 'zombie', 'place', 'surprise', 'definitely', 'rated', 'noble', 'stayed', 'brave', 'theyre', 'miller', 'don', 'monkey', 'decent', 'leading', 'subtle', 'course', 'cell', 'further', 'built', 'drug', 'intention', 'song', 'or', 'tim', 'magazine', 'decision', 'sarah', 'saying', 'germany', 'franchise', 'otherwise', 'court', 'neck', 'contains', 'sitcom', 'noted', 'trade', 'nude', 'whole', 'andor', 'remembered', 'eye', 'comparison', 'foster', 'actress', 'joy', 'topic', 'learning', 'initially', 'blown', 'anywhere', 'player', 'done', 'itbr', 'theres', 'heaven', 'president', 'being', 'fellow', 'helped', 'pretentious', 'unbelievable', 'script', 'studio', 'masterpiece', 'limited', 'wondering', 'beer', 'oscar', 'hitchcock', 'reaction', 'inner', 'blow', 'bitter', 'columbo', 'stop', 'seemed', 'asleep', 'kill', 'followed', 'grand', 'kinda', 'unfortunate', 'well', 'davis', 'music', 'london', 'his', 'matter', 'guide', 'dinosaur', 'fred', 'result', 'allowed', 'clip', 'period', 'marry', 'mexico', 'absolute', 'girlfriend', 'julia', 'pack', 'discovered', 'escape', 'indian', 'cgi', 'conclusion', 'losing', 'bad', 'someone', 'keep', 'grave', 'winner', 'practically', 'timebr', 'month', 'remake', 'regret', 'welles', 'late', 'daniel', 'into', 'neighborhood', 'hang', 'created', 'warning', 'better', 'female', 'present', 'combined', 'disaster', 'spite', 'sent', 'accurate', 'cable', 'content', 'she', 'process', 'hoping', 'anderson', '2000', 'suspect', 'become', 'storm', 'fight', 'drink', 'bar', 'porn', 'brilliantly', 'thief', 'benefit', 'version', 'combination', 'jail', 'robot', 'reputation', 'lover', 'teeth', 'laughing', 'showed', 'flaw', 'touched', 'different', 'marvelous', 'unique', 'clue', 'student', 'favorite', 'achievement', 'lovely', 'fun', 'bond', 'local', 'thatbr', 'ugly', 'jack', 'total', 'stupidity', 'motion', 'praise', 'movies', 'entertain', 'despite', 'william', 'caine', 'develops', 'dad', 'martin', 'aspect', 'concern', 'cast', 'stopped', 'expression', 'climax', 'anime', 'traditional', 'whom', 'edge', 'truth', 'cover', 'fail', 'double', 'loud', 'roy', 'fox', 'green', 'discussion', 'inside', 'noticed', 'white', 'relation', 'those', 'cold', 'spy', 'funniest', 'others', 'cartoon', 'surreal', 'fortune', 'cameo', 'bruce', 'meant', 'mile', 'section', 'serve', 'finale', 'friendly', 'at', 'an', 'texas', 'learned', 'nature', 'veteran', 'mrs', 'convinced', 'suppose', 'asked', 'reach', 'intensity', 'delivered', 'recognize', 'coming', 'billy', 'except', 'came', 'mysterious', 'location', 'awesome', 'endbr', 'although', 'cinematic', 'phone', 'trash', 'grim', 'painting', 'possibly', 'anyway', 'attractive', 'seemingly', 'calling', 'understanding', 'sympathy', 'without', 'fire', 'explains', 'survive', 'buff', 'br', 'desperate', 'cat', 'agree', 'action', 'happen', 'finally', 'paris', 'this', 'security', 'already', 'earth', 'purpose', 'hero', 'obsessed', 'follow', 'designed', 'contrast', 'madness', 'africa', 'suffer', 'throat', 'mention', 'dick', 'through', 'among', 'regular', 'largely', 'fill', 'owner', 'various', 'lake', 'parallel', 'fan', 'batman', 'statement', 'hanks', 'erotic', 'twin', 'classic', 'death', 'fortunately', 'ned', 'season', 'familiar', 'substance', 'might', 'bullet', 'condition', 'personally', 'honest', 'flick', 'discover', 'run', 'rival', 'ton', 'grade', 'structure', 'thank', 'doll', 'host', 'stupid', 'spell', 'leaving', 'latter', 'natural', 'disbelief', 'amazingly', 'physically', 'horrific', 'excitement', 'fake', 'build', 'freddy', 'witty', 'paid', 'southern', 'james', 'arrives', 'guard', 'written', 'existence', 'missed', 'speed', 'issue', 'wilson', 'nonetheless', 'romantic', 'showing', 'matt', 'victim', 'promise', 'afraid', 'based', 'began', 'language', 'noir', 'mostly', 'mgm', 'pathetic', 'soon', 'hospital', 'birth', 'obsession', 'changing', 'typical', 'wars', 'bag', 'master', 'adaptation', 'felt', 'possibility', 'us', 'lived', 'top', 'weird', 'page', 'lost', 'neither', 'theory', 'notorious', 'nine', 'mean', 'gross', 'sold', 'relatively', 'starring', 'number', 'mystery', 'disturbing', 'figured', 'dumb', 'wide', 'speak', 'alice', 'constant', 'particular', 'princess', 'variety', 'dying', 'walter', 'separate', 'voice', 'metal', 'door', 'gag', 'claim', 'bottom', 'technically', 'formula', 'remains', 'talk', 'added', 'test', 'perfectly', 'shower', 'target', 'performed', 'spent', 'ball', 'handsome', 'bizarre', 'production', 'following', 'spot', 'contemporary', 'waybr', 'original', 'ill', 'rolling', 'critical', 'turned', 'learn', 'playing', 'land', 'slapstick', 'uncle', 'everything', 'to', 'irritating', 'focus', 'bright', 'naturally', 'listening', 'element', 'cause', 'gritty', 'bored', 'sport', 'her', 'filming', 'station', 'desire', 'killer', 'bother', 'found', 'direct', 'magic', 'lack', 'beautifully', 'screenwriter', 'usual', 'whether', 'portraying', 'politics', 'drunk', 'victor', 'jungle', 'sacrifice', 'intended', 'thus', 'popular', 'west', 'silly', 'pleasure', 'visually', 'user', 'ten', 'wasted', 'eg', 'musician', 'draw', 'passion', 'right', 'killed', 'peace', 'youll', 'henry', 'closeup', 'criminal', 'painfully', 'scenario', 'lovable', 'wrote', 'massacre', 'caught', 'since', 'situation', 'easily', '30', 'thanks', 'cage', 'continues', 'intellectual', 'book', 'powerful', 'aware', 'alive', '50', 'site', 'fairy', 'copy', 'stand', 'mediocre', 'depth', 'never', 'christopher', 'pet', 'suggest', 'era', 'obnoxious', 'many', 'equal', 'humorous', 'agent', 'open', 'against', 'directing', 'opera', 'flashback', 'crappy', 'fourth', 'surface', 'race', 'wife', 'taylor', 'today', 'basically', 'hear', 'breast', 'of', 'sexuality', 'crew', 'confusion', 'buddy', 'getting', 'wait', 'brutal', 'prisoner', 'understand', 'couldnt', 'behind', 'terrific', 'critic', 'passed', 'club', 'blue', 'football', 'mob', 'stomach', 'monster', 'impression', 'robert', 'cooper', 'chilling', 'else', 'charge', 'threat', 'thing', 'humanity', 'background', 'expert', 'canadian', 'desperately', 'anyone', 'appearance', 'perform', 'pop', 'murdered', 'leaf', 'frame', 'tension', 'pure', '70', 'planet', 'footage', 'damn', 'nevertheless', 'standard', 'few', 'viewing', 'blend', 'suddenly', 'committed', 'mouse', 'blame', 'does', 'halfway', 'man', 'third', 'pacing', 'knife', 'soul', 'movie', 'drawn', 'reporter', 'stereotype', 'officer', 'allows', 'finest', 'pile', 'sword', 'pain', 'die', 'after', 'raw', 'cant', 'thrill', 'united', 'care', 'humour', 'appeal', '410', 'include', 'avoid', 'scott', 'whenever', 'extent', 'mission', 'average', 'againbr', 'patrick', 'rogers', 'score', 'suck', 'manages', 'working', 'tribute', 'large', 'received', 'seat', 'tune', 'dvd', 'black', 'plastic', 'extraordinary', 'anne', 'strangely', 'ed', 'girl', 'drama', 'unconvincing', 'alan', 'as', 'dr', 'jimmy', 'things', 'strip', 'self', 'own', 'device', 'screaming', 'professional', 'china', 'son', 'end', 'sake', 'mom', '13', 'though', 'go', 'saved', 'tone', 'early', 'pool', 'instead', 'attempt', 'himself', 'miscast', 'carry', 'lesbian', 'entertained', 'sort', 'albeit', 'consider', 'crude', 'core', 'him', 'effective', 'water', 'telling', 'across', 'rank', 'blonde', 'hint', 'golden', 'far', 'whats', 'lighting', 'really', 'close', 'priest', 'ape', 'reminded', 'dark', 'wasnt', 'started', 'dare', 'incredibly', 'believed', 'related', 'urban', 'herself', 'wild', 'single', 'darkness', 'jim', 'courage', 'fairly', 'st', 'title', 'journey', 'marie', 'solid', 'not', 'chance', 'manager', 'ghost', '15', 'halloween', '80', 'scene', 'robin', 'includes', 'thisbr', 'childrens', 'desert', 'worry', 'tape', 'paper', 'debut', 'miss', '20', 'affect', 'love', 'anybody', 'mountain', 'beating', 'imagine', 'adding', 'jason', 'impossible', 'somewhat', 'random', 'teen', 'cultural', 'description', 'broken', 'recall', 'wouldve', 'themselves', 'mask', 'completely', 'treatment', 'determined', 'tie', 'environment', 'gordon', 'most', '1960s', 'involved', 'conflict', 'expecting', 'merit', 'sunday', 'effect', 'okay', 'portrays', 'laughter', 'military', 'interest', 'gene', 'safe', 'capable', 'must', 'scifi', 'forward', 'kong', 'faith', 'ride', 'lynch', 'screenplay', 'devil', 'beach', 'mentioned', 'add', 'war', 'slowly', 'center', 'included', 'john', 'seriously', 'whatsoever', 'hong', 'cynical', 'little', 'college', 'proof', 'individual', 'pas', 'prince', 'cousin', 'channel', 'exception', 'heart', 'exploitation', 'gotten', 'find', 'concept', 'nazi', 'discovers', 'amateurish', 'former', 'captured', 'compelling', 'supernatural', 'witness', 'role', 'wish', 'baby', 'bmovie', 'jane', 'kevin', 'century', 'seeking', 'refuse', 'weekend', 'idea', 'nation', 'common', 'specific', 'lot', 'air', 'cash', 'board', 'wear', 'japanese', 'considering', 'here', 'required', 'sing', 'downright', 'realistic', 'frankly', 'behavior', 'taste', 'spirit', 'relief', 'empty', 'doing', 'factor', 'worthwhile', 'howard', 'singing', 'sex', 'wit', 'julie', 'record', 'training', 'writer', 'carried', 'mixed', 'legendary', 'slasher', 'broke', 'genuinely', 'border', 'hey', 'closing', 'cop', 'werewolf', 'setting', 'point', 'irony', 'grey', 'he', 'kim', 'steve', 'length', 'laura', 'fantastic', 'via', 'overthetop', 'hopefully', 'revelation', 'form', 'makeup', 'anna', 'india', 'sound', 'happy', 'instance', 'strength', '310', 'poster', 'basis', 'maybe', 'towards', 'control', 'replaced', 'tense', 'foreign', 'bigger', 'eating', 'reviewer', 'past', 'apart', 'french', 'shed', 'burt', 'bollywood', 'singer', 'message', '1950s', 'walk', 'big', 'easy', 'once', 'trying', 'forever', 'happens', 'stewart', 'turning', 'engaging', 'pay', 'lame', 'political', 'simon', 'stolen', 'hardly', 'andy', 'apparently', 'intelligence', 'recommend', 'rose', 'force', 'sexual', 'smile', 'tedious', 'make', 'god', 'kept', 'graphic', 'surely', 'accent', 'blood', 'maker', 'stock', 'conversation', 'treated', 'viewer', 'body', 'douglas', 'forth', 'credibility', 'video', 'survivor', 'adventure', 'necessary', 'scale', 'society', 'life', 'vision', 'victoria', 'subtitle', 'focused', 'central', 'tiny', 'boat', 'trailer', 'twenty', 'gain', 'fall', 'failed', 'originally', 'doubt', 'barely', 'nothing', 'flat', 'general', 'adult', 'figure', 'from', 'several', 'negative', 'bob', 'succeeds', 'clichéd', 'drop', 'value', 'decade', '1970s', 'these', 'disgusting', 'example', 'youre', 'adapted', 'wanted', 'floor', 'nick', 'another', 'tradition', 'before', 'trial', 'band', 'hair', 'pleasant', 'party', 'read', 'somebody', 'dirty', '110', 'terrorist', 'by', 'attacked', 'probably', 'my', 'unlikely', 'wasting', 'latest', 'emma', 'event', 'sea', 'kung', 'lesser', 'writerdirector', 'going', 'moon', 'should', 'weakness', 'queen', 'factory', 'certain', 'homage', 'dean', 'ad', 'pick', 'citizen', 'appears', 'post', 'lie', 'old', 'count', 'real', 'they', 'move', '11', 'charming', 'uk', 'prior', 'ship', 'information', 'younger', 'worthy', 'during', 'idiotic', 'chosen', 'can', 'problem', 'himbr', 'wing', 'costume', 'seems', 'bit', 'performer', 'authentic', 'plain', 'our', 'occasion', 'torn', 'vhs', 'ii', 'base', 'utterly', 'family', 'yes', 'worker', 'mouth', 'mass', 'fit', 'tell', 'above', 'warrior', 'wonderful', 'believable', 'favourite', 'grown', 'second', 'false', 'satisfying', 'oscars', 'filmbr', 'broadway', 'filled', 'house', 'grab', 'same', 'date', 'couple', 'initial', 'routine', 'possible', 'grant', 'nonsense', 'final', 'need', 'machine', 'growing', 'dragon', 'che', 'moving', 'wow', 'task', 'oddly', 'passing', 'fallen', 'whoever', 'creation', 'psycho', 'reveal', 'sounded', 'interaction', 'skin', 'dig', 'great', 'absurd', 'rented', 'thoroughly', 'sweet', 'holding', 'interested', 'knowing', 'argument', 'struggle', 'leader', 'report', 'sequence', 'barbara', 'watch', 'child', 'connection', 'mainstream', 'artistic', 'eddie', 'outside', 'helping', 'cheap', 'happening', 'shine', 'forgot', 'now', 'friday', 'angry', 'review', 'flesh', 'depicted', 'comedian', 'want', 'ignore', 'previously', 'did', 'lifetime', 'technique', 'occasional', 'controversial', 'gratuitous', 'heck', 'word', 'appeared', 'rat', 'men', 'watchable', 'theyve', 'ruin', 'andrews', 'disappointment', 'lonely', 'government', 'pregnant', 'director', 'account', 'who', 'camp', 'sadly', 'interview', 'becoming', 'live', 'sleep', 'spoof', 'loved', 'trapped', 'storybr', 'ridiculous', 'annoying', 'window', 'brown', 'johnny', 'private', 'insight', 'boyfriend', 'mix', 'tracy', 'angle', 'father', 'try', 'al', 'face', 'nonexistent', 'fantasy', 'youbr', 'handled', '1010', 'longer', 'hold', 'fool', 'help', 'reminiscent', 'haunting', 'international', 'enjoy', 'killing', 'some', 'king', 'tied', 'challenge', 'quiet', 'finger', 'hard', 'naive', 'sure', 'range', 'refreshing', 'enjoyment', 'bland', 'repeated', 'dialogue', 'huge', 'new', 'rich', 'williams', 'partner', 'executive', 'that', 'ear', 'george', 'mirror', 'horribly', 'pitt', 'delightful', 'directly', 'expected', 'gun', 'von', 'sir', 'goodbr', 'age', 'boy', 'dance', 'extremely', 'shadow', 'missing', 'allen', 'hand', 'invisible', 'animation', 'complaint', 'soft', 'tired', 'least', 'delight', 'shoot', 'jon', 'share', 'accident', 'deal', 'underground', 'emotional', 'unfortunately', 'cowboy', 'wellbr', 'gay', 'toward', 'imagery', 'path', 'accidentally', 'needed', 'positive', 'material', 'sleazy', 'flawed', 'wedding', 'lugosi', 'meanwhile', 'becomes', 'all', 'candy', 'perspective', 'develop', 'we', 'ended', 'offensive', 'wonderfully', 'thinking', 'eventually', 'search', 'if', 'low', 'sam', 'garbage', 'smith', 'remotely', 'rest', 'work', 'portrayed', 'where', 'food', 'made', 'virtually', 'tony', 'occasionally', 'aint', 'dealing', 'around', 'beginning', 'russian', 'ralph', 'sleeping', 'exactly', 'featuring', 'person', '710', 'larry', 'comedy', 'portrait', 'parent', 'likely', 'warn', 'giant', 'other', 'blair', 'yet', 'incident', 'river', 'buying', 'unlike', 'alone', 'doctor', 'dangerous', 'pilot', 'beyond', 'opportunity', 'thrilling', 'bo', 'name', 'australian', 'talented', 'travel', 'forgotten', 'fly', 'four', 'within', 'incredible', 'thomas', 'funnier', 'using', 'gonna', 'called', 'clothes', 'progress', 'fast', 'crime', 'price', 'mess', 'choice', 'hope', 'wanting', 'there', 'choose', 'cliché', 'consequence', 'quickly', 'literally', 'delivery', 'albert', 'stick', 'shakespeare', 'german', 'three', 'truly', 'everywhere', 'hit', 'army', 'innocent', 'flash', 'snake', 'lewis', 'isbr', 'la', 'stage', 'somehow', 'hanging', 'perfect', 'difficulty', 'win', 'holiday', 'none', 'apartment', 'risk', 'eight', 'fu', 'split', 'kelly', 'special', 'heavily', 'attraction', 'quirky', 'together', 'attention', 'pointless', 'logic', 'meaning', 'uninteresting', 'skill', 'stunt', 'visit', 'screening', 'johnson', 'thin', 'fails', 'laugh', 'upset', 'awkward', 'assistant', 'lets', 'culture', 'system', 'fate', 'thousand', 'keaton', 'premise', 'year', 'roberts', 'hence', 'presentation', 'fault', 'fully', 'similar', 'peter', 'small', 'why', 'went', 'opened', 'stuck', 'explosion', 'gas', 'titanic', 'string', 'significant', 'more', 'feature', 'american', 'witch', 'narration', 'blind', 'id', '25', 'cry', 'upon', 'le', 'cinema', 'youd', 'for', 'million', 'heard', 'jackson', 'executed', 'america', 'deep', 'always', 'both', 'school', 'unexpected', 'sheriff', 'each', 'true', 'san', 'shooting', 'summary', 'scary', 'clever', 'animal', 'realism', 'pull', 'kick', 'creates', 'spoil', 'area', 'remote', 'constantly', 'amazed', 'exist', 'onto', 'essential', 'toy', 'plot', 'lying', 'developed', 'brain', 'part', 'closer', 'pulled', 'dollar', 'standing', 'seeing', 'simple', 'holmes', 'clark', 'lee', 'future', 'seen', 'release', 'catch', 'public', 'blah', 'ray', 'concert', 'answer', 'western', 'childhood', 'serious', 'quest', 'destroyed', 'yeah', 'convey', 'kid', 'create', 'spoilers', 'buy', 'running', 'walking', 'seem', 'bring', 'tend', 'actually', 'may', 'opposite', 'cook', 'actual', 'think', 'unnecessary', 'woman', 'market', 'fascinating', 'moment', 'relative', 'predictable', 'mary', 'laughable', 'assume', 'bothered', 'was', 'wise', 'loses', 'reading', 'wa', 'gory', 'wave', 'curious', 'display', 'comic', 'hunter', 'danger', 'explanation', 'brings', 'introduction', 'murderer', 'happened', 'nomination', 'confusing', 'prof', 'turkey', 'which', 'scenery', 'universe', 'established', 'type', 'oh', 'wall', 'driving', 'protagonist', 'navy', 'properly', 'insane', 'busy', 'identity', 'trouble', 'dozen', 'them', 'budget', 'guest', 'box', 'ha', 'generation', 'road', 'wake', 'didnt', 'boring', 'innocence', 'save', 'bridge', 'experience', 'charlie', 'elizabeth', 'worth', 'break', 'bunch', 'isnt', 'clear', 'depressing', 'bought', 'in', 'its', 'insult', 'room', 'island', 'oneliners', 'originality', 'raised', 'however', 'on', 'style', 'turn', 'twist', 'something', 'finish', 'thriller', 'lifebr', 'doe', 'rescue', 'deserves', 'story', 'died', 'disappointed', 'brothers', 'watching', 'ben', 'lawyer', 'willing', 'revealed', 'obviously', 'hurt', 'met', 'hall', 'table', 'service', 'such', 'leave', 'middle', 'color', 'south', 'disappointing', 'complex', 'sat', 'jewish', 'bear', 'alright', 'come', 'theatrical', 'hire', 'segment', 'strange', 'scared', 'tough', 'opening', 'castle', 'magical', 'summer', 'internet', 'forget', 'hardy', 'shop', 'keeping', 'tragic', 'rubbish', 'experiment', '1930s', 'looking', 'midnight', 'luke', 'destroy', 'disney', 'comment', 'look', 'spanish', 'mature', 'amateur', 'ron', 'let', 'hotel', 'corny', 'suspenseful', 'night', 'order', 'rule', 'held', 'locked', 'first', 'radio', 'took', 'dog', 'funny', 'taking', 'charm', 'cult', 'dress', 'dubbing', 'direction', 'spends', 'unfunny', 'deserved', 'exact', 'memorable', 'treat', 'elvis', 'remember', 'send', 'collection', 'philip', 'wealthy', 'bill', 'influence', 'cross', 'friend', 'glass', 'shown', 'key', 'outstanding', 'learns', 'dancing', 'attempting', 'excellent', 'while', 'flight', 'atrocious', 'bloody', 'ann', 'creating', 'michelle', 'relationship', 'lesson', 'revolution', 'timing', 'dated', 'resident', 'but', 'african', 'reed', 'department', 'crazy', 'technology', 'speaks', 'russell', 'socalled', 'favor', 'faithful', 'putting', 'horrible', 'nor', 'trip', 'joseph', 'highly', 'me', 'about', 'near', 'gary', 'unusual', 'similarity', 'load', 'battle', 'states', 'likable', 'front', 'even', 'anything', 'onebr', 'breathtaking', 'teacher', 'impressed', 'spend', 'vacation', 'authority', 'concerned', 'overall', 'breaking', 'what', 'nancy', 'teach', 'weak', 'exceptional', 'shock', 'mexican', 'saw', 'youve', 'infamous', 'murphy', 'episode', 'impact', 'stuff', 'sometimes', 'then', 'trust', 'bore', 'goal', 'totally', 'vehicle', 'ryan', 'personality', 'sidney', 'cinderella', 'your', 'get', 'potential', 'tried', 'subplot', 'method', 'decide', 'ala', '90', 'revolves', 'magnificent', 'covered', 'finished', 'michael', 'shocked', 'set', 'energy', 'highlight', 'genius', 'richard', 'plenty', 'meeting', 'legend', 'neat', 'knowledge', 'pride', 'till', 'lowbudget', 'romance', 'mad', 'appropriate', 'combine', 'demon', 'relate', 'amazing', 'normal', 'bbc', 'higher', 'art', 'therefore', 'difficult', 'crash', 'unforgettable', 'filmmaking', 'nominated', 'entry', 'full', 'believe', 'dancer', 'appear', 'hadnt', 'drawing', 'later', 'sharp', 'is', 'complete', 'hot', 'chick', 'thembr', 'naked', 'either', 'soldier', 'gruesome', 'extra', 'train', 'off', 'featured', 'kiss', 'sudden', 'car', 'granted', 'aside', 'regard', 'charles', 'team', 'proper', 'havent', 'badly', 'knock', 'brief', 'root', 'repeat', 'product', 'dude', 'television', 'told', 'high', 'humor', 'notice', 'interpretation', 'rental', 'seven', 'pair', 'hill', 'shocking', 'changed', 'realize', 'including', 'rock', 'rent', 'movement', 'bed', 'portray', 'laughed', 'soap', 'ripoff', 'kate', 'lucky', 'express', 'listen', 'time', 'powell', 'sun', 'husband', 'raise', 'creator', 'major', 'image', 'power', 'were', 'say', 'north', 'folk', 'british', 'leg', 'human', 'hour', 'worse', 'forest', 'complicated', 'tom', 'werent', 'realizes', 'intelligent', 'cruel', 'entertaining', 'are', 'excited', 'filmed', 'confused', 'said', 'experienced', 'manner', 'carrying', 'stereotypical', 'outfit', 'manage', 'allbr', 'asks', 'melodrama', 'church', 'tree', 'mindless', 'mistake', 'atmosphere', 'spoiler', 'reveals', 'paced', 'forgettable', 'consists', 'onbr', 'lisa', 'equally', 'hoffman', 'deeper', 'junk', 'recently', 'recommended', 'contain', 'villain', 'minute', 'six', 'anymore', 'poignant', 'embarrassing', 'circumstance', 'grow', 'their', 'author', 'parker', 'particularly', 'born', 'able', 'how', 'portion', 'uncomfortable', 'explained', 'vote', 'motivation', 'hasnt', 'question', 'provides', 'social', 'campy', 'weve', 'patient', 'sucked', 'honestly', 'nicely', 'loving', 'world', 'ted', 'sad', 'tv', 'superb', 'ever', 'wrong', 'foot', 'retarded', 'sings', 'guessing', 'giving', 'sorry', 'awful', 'performance'}\n"
          ]
        }
      ]
    },
    {
      "cell_type": "code",
      "source": [
        "masterList = list(setVocabulary)"
      ],
      "metadata": {
        "id": "Sehv3MVKZg3P"
      },
      "execution_count": null,
      "outputs": []
    },
    {
      "cell_type": "markdown",
      "source": [
        "## Recriação do vocabulário"
      ],
      "metadata": {
        "id": "jMQCske6ZnCk"
      }
    },
    {
      "cell_type": "code",
      "source": [
        "count_vect_final = CountVectorizer(stop_words=None, vocabulary=masterList)\n",
        "\n",
        "count_vect_final.fit(dftrain.review)"
      ],
      "metadata": {
        "id": "WGoONwHZZguY",
        "colab": {
          "base_uri": "https://localhost:8080/"
        },
        "outputId": "5f1dee40-a1d6-40e1-c741-871b1a2c8533"
      },
      "execution_count": null,
      "outputs": [
        {
          "output_type": "execute_result",
          "data": {
            "text/plain": [
              "CountVectorizer(vocabulary=['demand', 'actor', 'show', 'provided', 'slightly',\n",
              "                            'male', 'source', 'greatly', 'bird', 'home',\n",
              "                            'between', 'belief', 'obvious', 'couldve',\n",
              "                            'everybody', 'cut', 'bride', 'got', 'ludicrous',\n",
              "                            'moviebr', 'up', 'shallow', 'strongly', 'rebel',\n",
              "                            'every', 'historical', 'storyline', 'convince',\n",
              "                            'hate', 'news', ...])"
            ]
          },
          "metadata": {},
          "execution_count": 61
        }
      ]
    },
    {
      "cell_type": "markdown",
      "metadata": {
        "id": "XJfNdpn3bMBn"
      },
      "source": [
        "#### TF IDF vectorizer\n",
        "#### https://scikit-learn.org/stable/modules/generated/sklearn.feature_extraction.text.TfidfVectorizer.html"
      ]
    },
    {
      "cell_type": "code",
      "execution_count": null,
      "metadata": {
        "id": "PrreFez0aEcO"
      },
      "outputs": [],
      "source": [
        "#TFIDF_vectorizer = TfidfVectorizer(lowercase = True, stop_words=STOPWORDS, max_features = 2000)\n",
        "#tfidf_vectors = TFIDF_vectorizer.fit_transform(movies_data.review)"
      ]
    },
    {
      "cell_type": "code",
      "execution_count": null,
      "metadata": {
        "id": "7IyEtTikaEZa"
      },
      "outputs": [],
      "source": [
        "#tfidf_vectors.toarray()"
      ]
    },
    {
      "cell_type": "code",
      "source": [
        "Xcountvect = count_vect_final.transform(dftrain.review)"
      ],
      "metadata": {
        "id": "NUOL1vkiZuMi"
      },
      "execution_count": null,
      "outputs": []
    },
    {
      "cell_type": "code",
      "source": [
        "Xcountvect.shape"
      ],
      "metadata": {
        "id": "ziVd-1lJZuHo",
        "colab": {
          "base_uri": "https://localhost:8080/"
        },
        "outputId": "4c65dcf1-02f1-4bcb-bd94-e9beab233ba2"
      },
      "execution_count": null,
      "outputs": [
        {
          "output_type": "execute_result",
          "data": {
            "text/plain": [
              "(25000, 3000)"
            ]
          },
          "metadata": {},
          "execution_count": 65
        }
      ]
    },
    {
      "cell_type": "code",
      "source": [
        "print(Xcountvect[0,:])"
      ],
      "metadata": {
        "id": "IjeigTYQJOdT",
        "colab": {
          "base_uri": "https://localhost:8080/"
        },
        "outputId": "2d9c8d35-149f-42d0-abbd-d5c8ca63bcda"
      },
      "execution_count": null,
      "outputs": [
        {
          "output_type": "stream",
          "name": "stdout",
          "text": [
            "  (0, 9)\t1\n",
            "  (0, 17)\t1\n",
            "  (0, 67)\t1\n",
            "  (0, 73)\t1\n",
            "  (0, 166)\t1\n",
            "  (0, 212)\t1\n",
            "  (0, 239)\t1\n",
            "  (0, 254)\t1\n",
            "  (0, 308)\t1\n",
            "  (0, 331)\t1\n",
            "  (0, 334)\t1\n",
            "  (0, 361)\t3\n",
            "  (0, 383)\t1\n",
            "  (0, 439)\t1\n",
            "  (0, 440)\t1\n",
            "  (0, 448)\t1\n",
            "  (0, 455)\t2\n",
            "  (0, 459)\t5\n",
            "  (0, 505)\t2\n",
            "  (0, 506)\t1\n",
            "  (0, 514)\t1\n",
            "  (0, 532)\t2\n",
            "  (0, 544)\t2\n",
            "  (0, 580)\t2\n",
            "  (0, 595)\t4\n",
            "  :\t:\n",
            "  (0, 1905)\t1\n",
            "  (0, 2033)\t1\n",
            "  (0, 2195)\t1\n",
            "  (0, 2208)\t2\n",
            "  (0, 2260)\t4\n",
            "  (0, 2264)\t7\n",
            "  (0, 2271)\t1\n",
            "  (0, 2435)\t2\n",
            "  (0, 2474)\t1\n",
            "  (0, 2485)\t1\n",
            "  (0, 2509)\t1\n",
            "  (0, 2530)\t2\n",
            "  (0, 2559)\t1\n",
            "  (0, 2567)\t1\n",
            "  (0, 2586)\t1\n",
            "  (0, 2595)\t1\n",
            "  (0, 2599)\t1\n",
            "  (0, 2632)\t1\n",
            "  (0, 2649)\t1\n",
            "  (0, 2667)\t1\n",
            "  (0, 2720)\t1\n",
            "  (0, 2738)\t1\n",
            "  (0, 2760)\t1\n",
            "  (0, 2904)\t2\n",
            "  (0, 2990)\t1\n"
          ]
        }
      ]
    },
    {
      "cell_type": "code",
      "source": [
        "tfidf_transformer = TfidfTransformer()\n",
        "tfidf_transformer.fit(Xcountvect)"
      ],
      "metadata": {
        "id": "dJ5XD11jZ2bA",
        "colab": {
          "base_uri": "https://localhost:8080/"
        },
        "outputId": "1c7da2fb-ac35-4d0f-d0ec-925ab92301e7"
      },
      "execution_count": null,
      "outputs": [
        {
          "output_type": "execute_result",
          "data": {
            "text/plain": [
              "TfidfTransformer()"
            ]
          },
          "metadata": {},
          "execution_count": 67
        }
      ]
    },
    {
      "cell_type": "code",
      "source": [
        "X_tfidf = tfidf_transformer.transform(Xcountvect)\n",
        "print(X_tfidf[0,:])"
      ],
      "metadata": {
        "id": "DYk7cU73Z5eu",
        "colab": {
          "base_uri": "https://localhost:8080/"
        },
        "outputId": "7669f607-7b48-4ca3-ead8-56307ac0a421"
      },
      "execution_count": null,
      "outputs": [
        {
          "output_type": "stream",
          "name": "stdout",
          "text": [
            "  (0, 2990)\t0.062665044801055\n",
            "  (0, 2904)\t0.10612672082094943\n",
            "  (0, 2760)\t0.045889338838507515\n",
            "  (0, 2738)\t0.04384571552581684\n",
            "  (0, 2720)\t0.031443865234819894\n",
            "  (0, 2667)\t0.08653474426055882\n",
            "  (0, 2649)\t0.13276376517709323\n",
            "  (0, 2632)\t0.0635011891302622\n",
            "  (0, 2599)\t0.0666820356160175\n",
            "  (0, 2595)\t0.03449260364855339\n",
            "  (0, 2586)\t0.026415783194457858\n",
            "  (0, 2567)\t0.0448136724725482\n",
            "  (0, 2559)\t0.14380639037239967\n",
            "  (0, 2530)\t0.06744148299386302\n",
            "  (0, 2509)\t0.06995707069042255\n",
            "  (0, 2485)\t0.06000706306818503\n",
            "  (0, 2474)\t0.06701137354218749\n",
            "  (0, 2435)\t0.1897766249280627\n",
            "  (0, 2271)\t0.043485356119724906\n",
            "  (0, 2264)\t0.41160192559389364\n",
            "  (0, 2260)\t0.15631161365600654\n",
            "  (0, 2208)\t0.05727070005399021\n",
            "  (0, 2195)\t0.07890132916988031\n",
            "  (0, 2033)\t0.08432378020378185\n",
            "  (0, 1905)\t0.049312764988067866\n",
            "  :\t:\n",
            "  (0, 595)\t0.14534278050632882\n",
            "  (0, 580)\t0.09467458779956178\n",
            "  (0, 544)\t0.07374070408932631\n",
            "  (0, 532)\t0.17084604432748343\n",
            "  (0, 514)\t0.0640898752653472\n",
            "  (0, 506)\t0.036880338345197695\n",
            "  (0, 505)\t0.1465761331316\n",
            "  (0, 459)\t0.13068194598683536\n",
            "  (0, 455)\t0.11128613961431748\n",
            "  (0, 448)\t0.061983883896435284\n",
            "  (0, 440)\t0.05180186922645147\n",
            "  (0, 439)\t0.04131144935208651\n",
            "  (0, 383)\t0.10109968077549274\n",
            "  (0, 361)\t0.14829595350522537\n",
            "  (0, 334)\t0.0500578145523215\n",
            "  (0, 331)\t0.13378617886828584\n",
            "  (0, 308)\t0.13839107882506405\n",
            "  (0, 254)\t0.05616459595148805\n",
            "  (0, 239)\t0.11087771686553662\n",
            "  (0, 212)\t0.07814214048877598\n",
            "  (0, 166)\t0.041643706475064525\n",
            "  (0, 73)\t0.10552867353465249\n",
            "  (0, 67)\t0.1012814530336271\n",
            "  (0, 17)\t0.0729436871324547\n",
            "  (0, 9)\t0.08930240823402266\n"
          ]
        }
      ]
    },
    {
      "cell_type": "code",
      "source": [
        "X_tfidf.shape"
      ],
      "metadata": {
        "id": "dFODOqOZZ7q_",
        "colab": {
          "base_uri": "https://localhost:8080/"
        },
        "outputId": "e9232303-7940-41c2-a707-e7e84ed87ad7"
      },
      "execution_count": null,
      "outputs": [
        {
          "output_type": "execute_result",
          "data": {
            "text/plain": [
              "(25000, 3000)"
            ]
          },
          "metadata": {},
          "execution_count": 69
        }
      ]
    },
    {
      "cell_type": "code",
      "source": [
        "print(X_tfidf)"
      ],
      "metadata": {
        "id": "5URjhFZHZ8Ul",
        "colab": {
          "base_uri": "https://localhost:8080/"
        },
        "outputId": "8efadccb-c478-4194-dcc4-0fdceb8231ba"
      },
      "execution_count": null,
      "outputs": [
        {
          "output_type": "stream",
          "name": "stdout",
          "text": [
            "  (0, 2990)\t0.062665044801055\n",
            "  (0, 2904)\t0.10612672082094943\n",
            "  (0, 2760)\t0.045889338838507515\n",
            "  (0, 2738)\t0.04384571552581684\n",
            "  (0, 2720)\t0.031443865234819894\n",
            "  (0, 2667)\t0.08653474426055882\n",
            "  (0, 2649)\t0.13276376517709323\n",
            "  (0, 2632)\t0.0635011891302622\n",
            "  (0, 2599)\t0.0666820356160175\n",
            "  (0, 2595)\t0.03449260364855339\n",
            "  (0, 2586)\t0.026415783194457858\n",
            "  (0, 2567)\t0.0448136724725482\n",
            "  (0, 2559)\t0.14380639037239967\n",
            "  (0, 2530)\t0.06744148299386302\n",
            "  (0, 2509)\t0.06995707069042255\n",
            "  (0, 2485)\t0.06000706306818503\n",
            "  (0, 2474)\t0.06701137354218749\n",
            "  (0, 2435)\t0.1897766249280627\n",
            "  (0, 2271)\t0.043485356119724906\n",
            "  (0, 2264)\t0.41160192559389364\n",
            "  (0, 2260)\t0.15631161365600654\n",
            "  (0, 2208)\t0.05727070005399021\n",
            "  (0, 2195)\t0.07890132916988031\n",
            "  (0, 2033)\t0.08432378020378185\n",
            "  (0, 1905)\t0.049312764988067866\n",
            "  :\t:\n",
            "  (24999, 396)\t0.041547533493589923\n",
            "  (24999, 393)\t0.05082336287137859\n",
            "  (24999, 386)\t0.0600957302663869\n",
            "  (24999, 370)\t0.13023854870577425\n",
            "  (24999, 363)\t0.07809078794776893\n",
            "  (24999, 362)\t0.06431128341049419\n",
            "  (24999, 314)\t0.06853546785954667\n",
            "  (24999, 300)\t0.11528813826468266\n",
            "  (24999, 264)\t0.035536110352085426\n",
            "  (24999, 239)\t0.1086867075663461\n",
            "  (24999, 236)\t0.06598850594651308\n",
            "  (24999, 220)\t0.04423787864251053\n",
            "  (24999, 197)\t0.024108260989632348\n",
            "  (24999, 191)\t0.052142917918337625\n",
            "  (24999, 183)\t0.0684035872933496\n",
            "  (24999, 170)\t0.13166049700080357\n",
            "  (24999, 166)\t0.08164160438337659\n",
            "  (24999, 122)\t0.06972223430477843\n",
            "  (24999, 82)\t0.06511927435288713\n",
            "  (24999, 81)\t0.03867109610708564\n",
            "  (24999, 65)\t0.054596384017826675\n",
            "  (24999, 61)\t0.0699450273815029\n",
            "  (24999, 46)\t0.042778846820778246\n",
            "  (24999, 45)\t0.07155233375942269\n",
            "  (24999, 6)\t0.06516862274266462\n"
          ]
        }
      ]
    },
    {
      "cell_type": "markdown",
      "source": [
        "# Modelagem de tópicos usando SVD\n",
        "#### A quantidade de tópicos pode ser analisada pela variabilidade explicada."
      ],
      "metadata": {
        "id": "kR0bBqxtaB8p"
      }
    },
    {
      "cell_type": "code",
      "source": [
        "svd = TruncatedSVD(n_components=100, n_iter=10 , random_state=0)\n",
        "svd.fit(X_tfidf)"
      ],
      "metadata": {
        "id": "dWyKlgOHaIyY",
        "colab": {
          "base_uri": "https://localhost:8080/"
        },
        "outputId": "679d4bd9-70f3-4684-9f72-7849875ca173"
      },
      "execution_count": null,
      "outputs": [
        {
          "output_type": "execute_result",
          "data": {
            "text/plain": [
              "TruncatedSVD(n_components=100, n_iter=10, random_state=0)"
            ]
          },
          "metadata": {},
          "execution_count": 71
        }
      ]
    },
    {
      "cell_type": "markdown",
      "source": [
        "# Matriz V\n",
        "#### Criar figura heatmap com os componentes do SVD. Com ela, você consegue visualizar quais são os termos mais importantes dentro de cada tópico"
      ],
      "metadata": {
        "id": "bUuLMM0QaLKV"
      }
    },
    {
      "cell_type": "code",
      "source": [
        "V = svd.components_\n",
        "print(V.shape)\n",
        "print(list(sorted(V[2,:], reverse=True))[0:3])"
      ],
      "metadata": {
        "id": "m4YEYC3UaKkH",
        "colab": {
          "base_uri": "https://localhost:8080/"
        },
        "outputId": "9d0caafa-1ded-43b3-a974-3131de1fde14"
      },
      "execution_count": null,
      "outputs": [
        {
          "output_type": "stream",
          "name": "stdout",
          "text": [
            "(100, 3000)\n",
            "[0.502068236297567, 0.403122798221244, 0.3170677009458092]\n"
          ]
        }
      ]
    },
    {
      "cell_type": "code",
      "source": [
        "print('Total de variabilidade explicada: ', sum(svd.explained_variance_ratio_))"
      ],
      "metadata": {
        "id": "TYUzsLpmaf5O",
        "colab": {
          "base_uri": "https://localhost:8080/"
        },
        "outputId": "ac20d938-4374-4650-903f-7ed541e63d78"
      },
      "execution_count": null,
      "outputs": [
        {
          "output_type": "stream",
          "name": "stdout",
          "text": [
            "Total de variabilidade explicada:  0.21412032354940938\n"
          ]
        }
      ]
    },
    {
      "cell_type": "code",
      "source": [
        "X_lsa = svd.transform(X_tfidf) # Matriz U do SVD => documentos x tópicos\n",
        "\n",
        "# Para entender os tópicos de um documento, liste os mais importantes, em seguida substitua o id do tópico pelos top-k tokens desse tópico."
      ],
      "metadata": {
        "id": "08fxQ1pyaf1S"
      },
      "execution_count": null,
      "outputs": []
    },
    {
      "cell_type": "code",
      "source": [
        "top_3_importance = list(sorted(X_lsa[0,:], reverse=True))[0:3]\n",
        "print(top_3_importance)"
      ],
      "metadata": {
        "id": "QQ7e12fjaftS",
        "colab": {
          "base_uri": "https://localhost:8080/"
        },
        "outputId": "25c32649-4d97-49d0-e8dd-1700f3efb1dc"
      },
      "execution_count": null,
      "outputs": [
        {
          "output_type": "stream",
          "name": "stdout",
          "text": [
            "[0.3984133466932583, 0.16503812220098024, 0.14286508106582413]\n"
          ]
        }
      ]
    },
    {
      "cell_type": "markdown",
      "source": [
        "# Construindo um classificador de texto"
      ],
      "metadata": {
        "id": "QdE0PUFVapFr"
      }
    },
    {
      "cell_type": "code",
      "source": [
        "rf_clf_tfidf = RandomForestClassifier(n_estimators=500, n_jobs=-1, max_features=5, max_depth=5, oob_score=True, verbose=2, random_state=0, class_weight=\"balanced_subsample\")"
      ],
      "metadata": {
        "id": "6aOcOafZaffD"
      },
      "execution_count": null,
      "outputs": []
    },
    {
      "cell_type": "markdown",
      "source": [
        "## Treinando uma RandomForest com as features TF-IDF dos documentos"
      ],
      "metadata": {
        "id": "xEIfr91NauRD"
      }
    },
    {
      "cell_type": "code",
      "source": [
        "y = dftrain[\"sentiment_boolean\"]\n",
        "y"
      ],
      "metadata": {
        "colab": {
          "base_uri": "https://localhost:8080/"
        },
        "id": "M9nil4NOts_h",
        "outputId": "6bcf16a8-51ae-4b00-f9d3-895f8ed3f690"
      },
      "execution_count": null,
      "outputs": [
        {
          "output_type": "execute_result",
          "data": {
            "text/plain": [
              "0        False\n",
              "1         True\n",
              "2        False\n",
              "3        False\n",
              "4         True\n",
              "         ...  \n",
              "24995     True\n",
              "24996    False\n",
              "24997     True\n",
              "24998     True\n",
              "24999     True\n",
              "Name: sentiment_boolean, Length: 25000, dtype: bool"
            ]
          },
          "metadata": {},
          "execution_count": 77
        }
      ]
    },
    {
      "cell_type": "code",
      "source": [
        "rf_clf_tfidf.fit(X_tfidf, y)"
      ],
      "metadata": {
        "id": "tDm6nWWRayXR",
        "colab": {
          "base_uri": "https://localhost:8080/"
        },
        "outputId": "5431a744-df69-405c-e1ff-f74f51fb02e7"
      },
      "execution_count": null,
      "outputs": [
        {
          "output_type": "stream",
          "name": "stderr",
          "text": [
            "[Parallel(n_jobs=-1)]: Using backend ThreadingBackend with 2 concurrent workers.\n"
          ]
        },
        {
          "output_type": "stream",
          "name": "stdout",
          "text": [
            "building tree 1 of 500\n",
            "building tree 2 of 500\n",
            "building tree 3 of 500building tree 4 of 500\n",
            "\n",
            "building tree 5 of 500\n",
            "building tree 6 of 500building tree 7 of 500\n",
            "\n",
            "building tree 8 of 500\n",
            "building tree 9 of 500\n",
            "building tree 10 of 500\n",
            "building tree 11 of 500\n",
            "building tree 12 of 500\n",
            "building tree 13 of 500\n",
            "building tree 14 of 500\n",
            "building tree 15 of 500\n",
            "building tree 16 of 500\n",
            "building tree 17 of 500\n",
            "building tree 18 of 500\n",
            "building tree 19 of 500\n",
            "building tree 20 of 500\n",
            "building tree 21 of 500\n",
            "building tree 22 of 500\n",
            "building tree 23 of 500\n",
            "building tree 24 of 500\n",
            "building tree 25 of 500\n",
            "building tree 26 of 500\n",
            "building tree 27 of 500\n",
            "building tree 28 of 500\n",
            "building tree 29 of 500\n",
            "building tree 30 of 500\n",
            "building tree 31 of 500\n",
            "building tree 32 of 500building tree 33 of 500\n",
            "\n",
            "building tree 34 of 500\n",
            "building tree 35 of 500\n",
            "building tree 36 of 500\n",
            "building tree 37 of 500\n",
            "building tree 38 of 500\n",
            "building tree 39 of 500\n",
            "building tree 40 of 500\n",
            "building tree 41 of 500\n",
            "building tree 42 of 500\n",
            "building tree 43 of 500building tree 44 of 500\n"
          ]
        },
        {
          "output_type": "stream",
          "name": "stderr",
          "text": [
            "[Parallel(n_jobs=-1)]: Done  37 tasks      | elapsed:    0.8s\n"
          ]
        },
        {
          "output_type": "stream",
          "name": "stdout",
          "text": [
            "\n",
            "building tree 45 of 500\n",
            "building tree 46 of 500\n",
            "building tree 47 of 500\n",
            "building tree 48 of 500\n",
            "building tree 49 of 500\n",
            "building tree 50 of 500building tree 51 of 500\n",
            "\n",
            "building tree 52 of 500\n",
            "building tree 53 of 500\n",
            "building tree 54 of 500\n",
            "building tree 55 of 500\n",
            "building tree 56 of 500\n",
            "building tree 57 of 500\n",
            "building tree 58 of 500\n",
            "building tree 59 of 500\n",
            "building tree 60 of 500\n",
            "building tree 61 of 500\n",
            "building tree 62 of 500\n",
            "building tree 63 of 500\n",
            "building tree 64 of 500\n",
            "building tree 65 of 500\n",
            "building tree 66 of 500\n",
            "building tree 67 of 500\n",
            "building tree 68 of 500\n",
            "building tree 69 of 500building tree 70 of 500\n",
            "\n",
            "building tree 71 of 500\n",
            "building tree 72 of 500\n",
            "building tree 73 of 500building tree 74 of 500\n",
            "\n",
            "building tree 75 of 500\n",
            "building tree 76 of 500\n",
            "building tree 77 of 500\n",
            "building tree 78 of 500building tree 79 of 500\n",
            "\n",
            "building tree 80 of 500\n",
            "building tree 81 of 500\n",
            "building tree 82 of 500\n",
            "building tree 83 of 500\n",
            "building tree 84 of 500\n",
            "building tree 85 of 500\n",
            "building tree 86 of 500\n",
            "building tree 87 of 500\n",
            "building tree 88 of 500\n",
            "building tree 89 of 500\n",
            "building tree 90 of 500\n",
            "building tree 91 of 500\n",
            "building tree 92 of 500\n",
            "building tree 93 of 500\n",
            "building tree 94 of 500\n",
            "building tree 95 of 500\n",
            "building tree 96 of 500\n",
            "building tree 97 of 500\n",
            "building tree 98 of 500\n",
            "building tree 99 of 500\n",
            "building tree 100 of 500building tree 101 of 500\n",
            "\n",
            "building tree 102 of 500\n",
            "building tree 103 of 500\n",
            "building tree 104 of 500\n",
            "building tree 105 of 500\n",
            "building tree 106 of 500\n",
            "building tree 107 of 500\n",
            "building tree 108 of 500\n",
            "building tree 109 of 500\n",
            "building tree 110 of 500\n",
            "building tree 111 of 500\n",
            "building tree 112 of 500\n",
            "building tree 113 of 500\n",
            "building tree 114 of 500\n",
            "building tree 115 of 500\n",
            "building tree 116 of 500\n",
            "building tree 117 of 500\n",
            "building tree 118 of 500\n",
            "building tree 119 of 500\n",
            "building tree 120 of 500\n",
            "building tree 121 of 500\n",
            "building tree 122 of 500\n",
            "building tree 123 of 500building tree 124 of 500\n",
            "\n",
            "building tree 125 of 500\n",
            "building tree 126 of 500\n",
            "building tree 127 of 500\n",
            "building tree 128 of 500\n",
            "building tree 129 of 500\n",
            "building tree 130 of 500\n",
            "building tree 131 of 500\n",
            "building tree 132 of 500\n",
            "building tree 133 of 500\n",
            "building tree 134 of 500\n",
            "building tree 135 of 500\n",
            "building tree 136 of 500building tree 137 of 500\n",
            "\n",
            "building tree 138 of 500\n",
            "building tree 139 of 500\n",
            "building tree 140 of 500\n",
            "building tree 141 of 500\n",
            "building tree 142 of 500\n",
            "building tree 143 of 500building tree 144 of 500\n",
            "\n",
            "building tree 145 of 500\n",
            "building tree 146 of 500\n",
            "building tree 147 of 500\n",
            "building tree 148 of 500building tree 149 of 500\n",
            "\n",
            "building tree 150 of 500building tree 151 of 500\n",
            "\n",
            "building tree 152 of 500\n",
            "building tree 153 of 500\n",
            "building tree 154 of 500building tree 155 of 500\n",
            "\n",
            "building tree 156 of 500\n",
            "building tree 157 of 500\n",
            "building tree 158 of 500building tree 159 of 500\n",
            "\n",
            "building tree 160 of 500\n",
            "building tree 161 of 500\n",
            "building tree 162 of 500building tree 163 of 500\n",
            "\n",
            "building tree 164 of 500\n",
            "building tree 165 of 500\n",
            "building tree 166 of 500\n",
            "building tree 167 of 500\n",
            "building tree 168 of 500\n"
          ]
        },
        {
          "output_type": "stream",
          "name": "stderr",
          "text": [
            "[Parallel(n_jobs=-1)]: Done 158 tasks      | elapsed:    3.3s\n"
          ]
        },
        {
          "output_type": "stream",
          "name": "stdout",
          "text": [
            "building tree 169 of 500\n",
            "building tree 170 of 500\n",
            "building tree 171 of 500\n",
            "building tree 172 of 500\n",
            "building tree 173 of 500\n",
            "building tree 174 of 500\n",
            "building tree 175 of 500\n",
            "building tree 176 of 500\n",
            "building tree 177 of 500\n",
            "building tree 178 of 500\n",
            "building tree 179 of 500\n",
            "building tree 180 of 500\n",
            "building tree 181 of 500\n",
            "building tree 182 of 500\n",
            "building tree 183 of 500\n",
            "building tree 184 of 500building tree 185 of 500\n",
            "\n",
            "building tree 186 of 500building tree 187 of 500\n",
            "\n",
            "building tree 188 of 500building tree 189 of 500\n",
            "\n",
            "building tree 190 of 500\n",
            "building tree 191 of 500\n",
            "building tree 192 of 500\n",
            "building tree 193 of 500\n",
            "building tree 194 of 500\n",
            "building tree 195 of 500\n",
            "building tree 196 of 500\n",
            "building tree 197 of 500\n",
            "building tree 198 of 500building tree 199 of 500\n",
            "\n",
            "building tree 200 of 500\n",
            "building tree 201 of 500\n",
            "building tree 202 of 500\n",
            "building tree 203 of 500\n",
            "building tree 204 of 500\n",
            "building tree 205 of 500\n",
            "building tree 206 of 500\n",
            "building tree 207 of 500\n",
            "building tree 208 of 500\n",
            "building tree 209 of 500\n",
            "building tree 210 of 500\n",
            "building tree 211 of 500\n",
            "building tree 212 of 500\n",
            "building tree 213 of 500building tree 214 of 500\n",
            "\n",
            "building tree 215 of 500building tree 216 of 500\n",
            "\n",
            "building tree 217 of 500\n",
            "building tree 218 of 500\n",
            "building tree 219 of 500\n",
            "building tree 220 of 500\n",
            "building tree 221 of 500\n",
            "building tree 222 of 500\n",
            "building tree 223 of 500\n",
            "building tree 224 of 500\n",
            "building tree 225 of 500\n",
            "building tree 226 of 500\n",
            "building tree 227 of 500\n",
            "building tree 228 of 500\n",
            "building tree 229 of 500\n",
            "building tree 230 of 500\n",
            "building tree 231 of 500\n",
            "building tree 232 of 500\n",
            "building tree 233 of 500\n",
            "building tree 234 of 500\n",
            "building tree 235 of 500\n",
            "building tree 236 of 500\n",
            "building tree 237 of 500\n",
            "building tree 238 of 500\n",
            "building tree 239 of 500building tree 240 of 500\n",
            "\n",
            "building tree 241 of 500building tree 242 of 500\n",
            "\n",
            "building tree 243 of 500\n",
            "building tree 244 of 500\n",
            "building tree 245 of 500\n",
            "building tree 246 of 500\n",
            "building tree 247 of 500\n",
            "building tree 248 of 500\n",
            "building tree 249 of 500\n",
            "building tree 250 of 500\n",
            "building tree 251 of 500\n",
            "building tree 252 of 500\n",
            "building tree 253 of 500\n",
            "building tree 254 of 500\n",
            "building tree 255 of 500\n",
            "building tree 256 of 500\n",
            "building tree 257 of 500\n",
            "building tree 258 of 500\n",
            "building tree 259 of 500\n",
            "building tree 260 of 500\n",
            "building tree 261 of 500\n",
            "building tree 262 of 500\n",
            "building tree 263 of 500\n",
            "building tree 264 of 500\n",
            "building tree 265 of 500\n",
            "building tree 266 of 500\n",
            "building tree 267 of 500\n",
            "building tree 268 of 500\n",
            "building tree 269 of 500\n",
            "building tree 270 of 500\n",
            "building tree 271 of 500\n",
            "building tree 272 of 500\n",
            "building tree 273 of 500\n",
            "building tree 274 of 500\n",
            "building tree 275 of 500\n",
            "building tree 276 of 500building tree 277 of 500\n",
            "\n",
            "building tree 278 of 500\n",
            "building tree 279 of 500\n",
            "building tree 280 of 500\n",
            "building tree 281 of 500\n",
            "building tree 282 of 500\n",
            "building tree 283 of 500\n",
            "building tree 284 of 500building tree 285 of 500\n",
            "\n",
            "building tree 286 of 500\n",
            "building tree 287 of 500\n",
            "building tree 288 of 500\n",
            "building tree 289 of 500\n",
            "building tree 290 of 500building tree 291 of 500\n",
            "\n",
            "building tree 292 of 500\n",
            "building tree 293 of 500\n",
            "building tree 294 of 500\n",
            "building tree 295 of 500\n",
            "building tree 296 of 500\n",
            "building tree 297 of 500\n",
            "building tree 298 of 500\n",
            "building tree 299 of 500\n",
            "building tree 300 of 500\n",
            "building tree 301 of 500\n",
            "building tree 302 of 500\n",
            "building tree 303 of 500\n",
            "building tree 304 of 500\n",
            "building tree 305 of 500\n",
            "building tree 306 of 500\n",
            "building tree 307 of 500\n",
            "building tree 308 of 500\n",
            "building tree 309 of 500\n",
            "building tree 310 of 500\n",
            "building tree 311 of 500\n",
            "building tree 312 of 500\n",
            "building tree 313 of 500\n",
            "building tree 314 of 500\n",
            "building tree 315 of 500\n",
            "building tree 316 of 500\n",
            "building tree 317 of 500\n",
            "building tree 318 of 500\n",
            "building tree 319 of 500\n",
            "building tree 320 of 500\n",
            "building tree 321 of 500\n",
            "building tree 322 of 500\n",
            "building tree 323 of 500\n",
            "building tree 324 of 500\n",
            "building tree 325 of 500\n",
            "building tree 326 of 500\n",
            "building tree 327 of 500\n",
            "building tree 328 of 500\n",
            "building tree 329 of 500\n",
            "building tree 330 of 500\n",
            "building tree 331 of 500\n",
            "building tree 332 of 500\n",
            "building tree 333 of 500\n",
            "building tree 334 of 500building tree 335 of 500\n",
            "\n",
            "building tree 336 of 500building tree 337 of 500\n",
            "\n",
            "building tree 338 of 500\n",
            "building tree 339 of 500\n",
            "building tree 340 of 500building tree 341 of 500\n",
            "\n",
            "building tree 342 of 500\n",
            "building tree 343 of 500\n",
            "building tree 344 of 500\n",
            "building tree 345 of 500\n",
            "building tree 346 of 500\n",
            "building tree 347 of 500\n",
            "building tree 348 of 500\n",
            "building tree 349 of 500\n",
            "building tree 350 of 500\n",
            "building tree 351 of 500\n",
            "building tree 352 of 500\n",
            "building tree 353 of 500\n",
            "building tree 354 of 500\n",
            "building tree 355 of 500\n",
            "building tree 356 of 500\n",
            "building tree 357 of 500\n",
            "building tree 358 of 500\n",
            "building tree 359 of 500\n",
            "building tree 360 of 500\n",
            "building tree 361 of 500\n",
            "building tree 362 of 500\n",
            "building tree 363 of 500\n",
            "building tree 364 of 500\n",
            "building tree 365 of 500\n",
            "building tree 366 of 500\n",
            "building tree 367 of 500\n",
            "building tree 368 of 500\n",
            "building tree 369 of 500\n"
          ]
        },
        {
          "output_type": "stream",
          "name": "stderr",
          "text": [
            "[Parallel(n_jobs=-1)]: Done 361 tasks      | elapsed:    6.3s\n"
          ]
        },
        {
          "output_type": "stream",
          "name": "stdout",
          "text": [
            "building tree 370 of 500\n",
            "building tree 371 of 500\n",
            "building tree 372 of 500\n",
            "building tree 373 of 500\n",
            "building tree 374 of 500\n",
            "building tree 375 of 500\n",
            "building tree 376 of 500\n",
            "building tree 377 of 500\n",
            "building tree 378 of 500\n",
            "building tree 379 of 500\n",
            "building tree 380 of 500\n",
            "building tree 381 of 500\n",
            "building tree 382 of 500\n",
            "building tree 383 of 500\n",
            "building tree 384 of 500\n",
            "building tree 385 of 500\n",
            "building tree 386 of 500\n",
            "building tree 387 of 500\n",
            "building tree 388 of 500\n",
            "building tree 389 of 500\n",
            "building tree 390 of 500\n",
            "building tree 391 of 500\n",
            "building tree 392 of 500\n",
            "building tree 393 of 500\n",
            "building tree 394 of 500\n",
            "building tree 395 of 500\n",
            "building tree 396 of 500\n",
            "building tree 397 of 500\n",
            "building tree 398 of 500\n",
            "building tree 399 of 500\n",
            "building tree 400 of 500\n",
            "building tree 401 of 500\n",
            "building tree 402 of 500building tree 403 of 500\n",
            "\n",
            "building tree 404 of 500\n",
            "building tree 405 of 500\n",
            "building tree 406 of 500\n",
            "building tree 407 of 500\n",
            "building tree 408 of 500\n",
            "building tree 409 of 500\n",
            "building tree 410 of 500\n",
            "building tree 411 of 500\n",
            "building tree 412 of 500\n",
            "building tree 413 of 500\n",
            "building tree 414 of 500\n",
            "building tree 415 of 500\n",
            "building tree 416 of 500\n",
            "building tree 417 of 500\n",
            "building tree 418 of 500\n",
            "building tree 419 of 500\n",
            "building tree 420 of 500\n",
            "building tree 421 of 500\n",
            "building tree 422 of 500\n",
            "building tree 423 of 500\n",
            "building tree 424 of 500\n",
            "building tree 425 of 500\n",
            "building tree 426 of 500\n",
            "building tree 427 of 500\n",
            "building tree 428 of 500\n",
            "building tree 429 of 500\n",
            "building tree 430 of 500\n",
            "building tree 431 of 500\n",
            "building tree 432 of 500\n",
            "building tree 433 of 500building tree 434 of 500\n",
            "\n",
            "building tree 435 of 500\n",
            "building tree 436 of 500\n",
            "building tree 437 of 500\n",
            "building tree 438 of 500\n",
            "building tree 439 of 500\n",
            "building tree 440 of 500\n",
            "building tree 441 of 500\n",
            "building tree 442 of 500\n",
            "building tree 443 of 500\n",
            "building tree 444 of 500\n",
            "building tree 445 of 500\n",
            "building tree 446 of 500\n",
            "building tree 447 of 500\n",
            "building tree 448 of 500\n",
            "building tree 449 of 500building tree 450 of 500\n",
            "\n",
            "building tree 451 of 500\n",
            "building tree 452 of 500\n",
            "building tree 453 of 500\n",
            "building tree 454 of 500\n",
            "building tree 455 of 500\n",
            "building tree 456 of 500\n",
            "building tree 457 of 500\n",
            "building tree 458 of 500\n",
            "building tree 459 of 500\n",
            "building tree 460 of 500\n",
            "building tree 461 of 500\n",
            "building tree 462 of 500\n",
            "building tree 463 of 500\n",
            "building tree 464 of 500\n",
            "building tree 465 of 500\n",
            "building tree 466 of 500\n",
            "building tree 467 of 500\n",
            "building tree 468 of 500\n",
            "building tree 469 of 500\n",
            "building tree 470 of 500\n",
            "building tree 471 of 500\n",
            "building tree 472 of 500\n",
            "building tree 473 of 500\n",
            "building tree 474 of 500\n",
            "building tree 475 of 500\n",
            "building tree 476 of 500\n",
            "building tree 477 of 500\n",
            "building tree 478 of 500\n",
            "building tree 479 of 500\n",
            "building tree 480 of 500\n",
            "building tree 481 of 500\n",
            "building tree 482 of 500\n",
            "building tree 483 of 500\n",
            "building tree 484 of 500\n",
            "building tree 485 of 500\n",
            "building tree 486 of 500\n",
            "building tree 487 of 500\n",
            "building tree 488 of 500\n",
            "building tree 489 of 500\n",
            "building tree 490 of 500\n",
            "building tree 491 of 500\n",
            "building tree 492 of 500\n",
            "building tree 493 of 500\n",
            "building tree 494 of 500\n",
            "building tree 495 of 500\n",
            "building tree 496 of 500\n",
            "building tree 497 of 500\n",
            "building tree 498 of 500\n",
            "building tree 499 of 500building tree 500 of 500\n",
            "\n"
          ]
        },
        {
          "output_type": "stream",
          "name": "stderr",
          "text": [
            "[Parallel(n_jobs=-1)]: Done 500 out of 500 | elapsed:    8.0s finished\n"
          ]
        },
        {
          "output_type": "execute_result",
          "data": {
            "text/plain": [
              "RandomForestClassifier(class_weight='balanced_subsample', max_depth=5,\n",
              "                       max_features=5, n_estimators=500, n_jobs=-1,\n",
              "                       oob_score=True, random_state=0, verbose=2)"
            ]
          },
          "metadata": {},
          "execution_count": 78
        }
      ]
    },
    {
      "cell_type": "code",
      "source": [
        "print(rf_clf_tfidf.feature_importances_)"
      ],
      "metadata": {
        "id": "gNqx34usaySy",
        "colab": {
          "base_uri": "https://localhost:8080/"
        },
        "outputId": "4f906f22-2d0c-44ab-9292-0830ffc285e5"
      },
      "execution_count": null,
      "outputs": [
        {
          "output_type": "stream",
          "name": "stdout",
          "text": [
            "[0.00000000e+00 6.73741997e-05 5.99722106e-04 ... 1.90808135e-03\n",
            " 6.47692575e-03 2.24404538e-03]\n"
          ]
        }
      ]
    },
    {
      "cell_type": "code",
      "source": [
        "print('Média da acurácia das classes: ', rf_clf_tfidf.score(X_tfidf, y))"
      ],
      "metadata": {
        "id": "eIapfRVUayKM",
        "colab": {
          "base_uri": "https://localhost:8080/"
        },
        "outputId": "c7d92cc9-b245-4b73-aee0-b6ae8cfe3e3f"
      },
      "execution_count": null,
      "outputs": [
        {
          "output_type": "stream",
          "name": "stderr",
          "text": [
            "[Parallel(n_jobs=2)]: Using backend ThreadingBackend with 2 concurrent workers.\n",
            "[Parallel(n_jobs=2)]: Done  37 tasks      | elapsed:    0.3s\n",
            "[Parallel(n_jobs=2)]: Done 158 tasks      | elapsed:    1.1s\n",
            "[Parallel(n_jobs=2)]: Done 361 tasks      | elapsed:    2.4s\n"
          ]
        },
        {
          "output_type": "stream",
          "name": "stdout",
          "text": [
            "Média da acurácia das classes:  0.85388\n"
          ]
        },
        {
          "output_type": "stream",
          "name": "stderr",
          "text": [
            "[Parallel(n_jobs=2)]: Done 500 out of 500 | elapsed:    3.3s finished\n"
          ]
        }
      ]
    },
    {
      "cell_type": "markdown",
      "source": [
        "## Treinando uma RandomForest com as features LSA (tópicos) dos documentos"
      ],
      "metadata": {
        "id": "3BST7HB-a8m4"
      }
    },
    {
      "cell_type": "code",
      "source": [
        "rf_clf_lsa = RandomForestClassifier(n_estimators=500, n_jobs=-1, max_features=5, max_depth=5, oob_score=True, verbose=2, random_state=0, class_weight=\"balanced_subsample\")\n",
        "rf_clf_lsa.fit(X_lsa, y)"
      ],
      "metadata": {
        "id": "roVb2Rexa8Hz",
        "colab": {
          "base_uri": "https://localhost:8080/"
        },
        "outputId": "8198e741-4160-48e6-ab86-ff44f454c171"
      },
      "execution_count": null,
      "outputs": [
        {
          "output_type": "stream",
          "name": "stderr",
          "text": [
            "[Parallel(n_jobs=-1)]: Using backend ThreadingBackend with 2 concurrent workers.\n"
          ]
        },
        {
          "output_type": "stream",
          "name": "stdout",
          "text": [
            "building tree 1 of 500\n",
            "building tree 2 of 500\n",
            "building tree 3 of 500\n",
            "building tree 4 of 500\n",
            "building tree 5 of 500\n",
            "building tree 6 of 500\n",
            "building tree 7 of 500\n",
            "building tree 8 of 500\n",
            "building tree 9 of 500\n",
            "building tree 10 of 500\n",
            "building tree 11 of 500\n",
            "building tree 12 of 500\n",
            "building tree 13 of 500\n",
            "building tree 14 of 500\n",
            "building tree 15 of 500\n",
            "building tree 16 of 500\n",
            "building tree 17 of 500\n",
            "building tree 18 of 500\n",
            "building tree 19 of 500building tree 20 of 500\n",
            "\n",
            "building tree 21 of 500\n",
            "building tree 22 of 500\n",
            "building tree 23 of 500\n",
            "building tree 24 of 500\n",
            "building tree 25 of 500\n",
            "building tree 26 of 500\n",
            "building tree 27 of 500\n",
            "building tree 28 of 500\n",
            "building tree 29 of 500\n",
            "building tree 30 of 500\n",
            "building tree 31 of 500\n",
            "building tree 32 of 500\n",
            "building tree 33 of 500\n",
            "building tree 34 of 500\n",
            "building tree 35 of 500\n",
            "building tree 36 of 500\n",
            "building tree 37 of 500\n",
            "building tree 38 of 500\n",
            "building tree 39 of 500\n",
            "building tree 40 of 500\n"
          ]
        },
        {
          "output_type": "stream",
          "name": "stderr",
          "text": [
            "[Parallel(n_jobs=-1)]: Done  37 tasks      | elapsed:    2.1s\n"
          ]
        },
        {
          "output_type": "stream",
          "name": "stdout",
          "text": [
            "building tree 41 of 500\n",
            "building tree 42 of 500\n",
            "building tree 43 of 500\n",
            "building tree 44 of 500\n",
            "building tree 45 of 500\n",
            "building tree 46 of 500\n",
            "building tree 47 of 500\n",
            "building tree 48 of 500\n",
            "building tree 49 of 500\n",
            "building tree 50 of 500\n",
            "building tree 51 of 500\n",
            "building tree 52 of 500\n",
            "building tree 53 of 500\n",
            "building tree 54 of 500\n",
            "building tree 55 of 500\n",
            "building tree 56 of 500\n",
            "building tree 57 of 500\n",
            "building tree 58 of 500\n",
            "building tree 59 of 500\n",
            "building tree 60 of 500\n",
            "building tree 61 of 500\n",
            "building tree 62 of 500\n",
            "building tree 63 of 500\n",
            "building tree 64 of 500\n",
            "building tree 65 of 500\n",
            "building tree 66 of 500\n",
            "building tree 67 of 500\n",
            "building tree 68 of 500\n",
            "building tree 69 of 500\n",
            "building tree 70 of 500\n",
            "building tree 71 of 500\n",
            "building tree 72 of 500\n",
            "building tree 73 of 500\n",
            "building tree 74 of 500\n",
            "building tree 75 of 500\n",
            "building tree 76 of 500\n",
            "building tree 77 of 500\n",
            "building tree 78 of 500\n",
            "building tree 79 of 500\n",
            "building tree 80 of 500\n",
            "building tree 81 of 500\n",
            "building tree 82 of 500\n",
            "building tree 83 of 500\n",
            "building tree 84 of 500\n",
            "building tree 85 of 500\n",
            "building tree 86 of 500\n",
            "building tree 87 of 500\n",
            "building tree 88 of 500\n",
            "building tree 89 of 500\n",
            "building tree 90 of 500\n",
            "building tree 91 of 500\n",
            "building tree 92 of 500\n",
            "building tree 93 of 500\n",
            "building tree 94 of 500\n",
            "building tree 95 of 500\n",
            "building tree 96 of 500\n",
            "building tree 97 of 500\n",
            "building tree 98 of 500\n",
            "building tree 99 of 500\n",
            "building tree 100 of 500\n",
            "building tree 101 of 500\n",
            "building tree 102 of 500\n",
            "building tree 103 of 500\n",
            "building tree 104 of 500\n",
            "building tree 105 of 500\n",
            "building tree 106 of 500\n",
            "building tree 107 of 500\n",
            "building tree 108 of 500\n",
            "building tree 109 of 500\n",
            "building tree 110 of 500\n",
            "building tree 111 of 500\n",
            "building tree 112 of 500\n",
            "building tree 113 of 500\n",
            "building tree 114 of 500\n",
            "building tree 115 of 500\n",
            "building tree 116 of 500\n",
            "building tree 117 of 500\n",
            "building tree 118 of 500\n",
            "building tree 119 of 500\n",
            "building tree 120 of 500\n",
            "building tree 121 of 500\n",
            "building tree 122 of 500\n",
            "building tree 123 of 500\n",
            "building tree 124 of 500\n",
            "building tree 125 of 500\n",
            "building tree 126 of 500\n",
            "building tree 127 of 500\n",
            "building tree 128 of 500\n",
            "building tree 129 of 500\n",
            "building tree 130 of 500\n",
            "building tree 131 of 500\n",
            "building tree 132 of 500\n",
            "building tree 133 of 500\n",
            "building tree 134 of 500\n",
            "building tree 135 of 500\n",
            "building tree 136 of 500\n",
            "building tree 137 of 500\n",
            "building tree 138 of 500\n",
            "building tree 139 of 500\n",
            "building tree 140 of 500\n",
            "building tree 141 of 500\n",
            "building tree 142 of 500\n",
            "building tree 143 of 500\n",
            "building tree 144 of 500\n",
            "building tree 145 of 500\n",
            "building tree 146 of 500\n",
            "building tree 147 of 500\n",
            "building tree 148 of 500\n",
            "building tree 149 of 500\n",
            "building tree 150 of 500\n",
            "building tree 151 of 500\n",
            "building tree 152 of 500\n",
            "building tree 153 of 500\n",
            "building tree 154 of 500\n",
            "building tree 155 of 500\n",
            "building tree 156 of 500\n",
            "building tree 157 of 500\n",
            "building tree 158 of 500\n",
            "building tree 159 of 500\n"
          ]
        },
        {
          "output_type": "stream",
          "name": "stderr",
          "text": [
            "[Parallel(n_jobs=-1)]: Done 158 tasks      | elapsed:    8.9s\n"
          ]
        },
        {
          "output_type": "stream",
          "name": "stdout",
          "text": [
            "building tree 160 of 500\n",
            "building tree 161 of 500\n",
            "building tree 162 of 500\n",
            "building tree 163 of 500\n",
            "building tree 164 of 500\n",
            "building tree 165 of 500\n",
            "building tree 166 of 500\n",
            "building tree 167 of 500\n",
            "building tree 168 of 500\n",
            "building tree 169 of 500\n",
            "building tree 170 of 500\n",
            "building tree 171 of 500\n",
            "building tree 172 of 500\n",
            "building tree 173 of 500\n",
            "building tree 174 of 500building tree 175 of 500\n",
            "\n",
            "building tree 176 of 500\n",
            "building tree 177 of 500\n",
            "building tree 178 of 500\n",
            "building tree 179 of 500\n",
            "building tree 180 of 500\n",
            "building tree 181 of 500\n",
            "building tree 182 of 500\n",
            "building tree 183 of 500\n",
            "building tree 184 of 500\n",
            "building tree 185 of 500\n",
            "building tree 186 of 500\n",
            "building tree 187 of 500\n",
            "building tree 188 of 500\n",
            "building tree 189 of 500\n",
            "building tree 190 of 500\n",
            "building tree 191 of 500\n",
            "building tree 192 of 500\n",
            "building tree 193 of 500\n",
            "building tree 194 of 500\n",
            "building tree 195 of 500\n",
            "building tree 196 of 500\n",
            "building tree 197 of 500\n",
            "building tree 198 of 500\n",
            "building tree 199 of 500\n",
            "building tree 200 of 500\n",
            "building tree 201 of 500\n",
            "building tree 202 of 500\n",
            "building tree 203 of 500\n",
            "building tree 204 of 500\n",
            "building tree 205 of 500\n",
            "building tree 206 of 500\n",
            "building tree 207 of 500\n",
            "building tree 208 of 500\n",
            "building tree 209 of 500\n",
            "building tree 210 of 500\n",
            "building tree 211 of 500\n",
            "building tree 212 of 500\n",
            "building tree 213 of 500\n",
            "building tree 214 of 500\n",
            "building tree 215 of 500\n",
            "building tree 216 of 500\n",
            "building tree 217 of 500\n",
            "building tree 218 of 500\n",
            "building tree 219 of 500\n",
            "building tree 220 of 500\n",
            "building tree 221 of 500\n",
            "building tree 222 of 500\n",
            "building tree 223 of 500\n",
            "building tree 224 of 500\n",
            "building tree 225 of 500\n",
            "building tree 226 of 500\n",
            "building tree 227 of 500\n",
            "building tree 228 of 500\n",
            "building tree 229 of 500\n",
            "building tree 230 of 500\n",
            "building tree 231 of 500\n",
            "building tree 232 of 500\n",
            "building tree 233 of 500\n",
            "building tree 234 of 500\n",
            "building tree 235 of 500\n",
            "building tree 236 of 500\n",
            "building tree 237 of 500\n",
            "building tree 238 of 500\n",
            "building tree 239 of 500\n",
            "building tree 240 of 500\n",
            "building tree 241 of 500\n",
            "building tree 242 of 500\n",
            "building tree 243 of 500\n",
            "building tree 244 of 500\n",
            "building tree 245 of 500\n",
            "building tree 246 of 500\n",
            "building tree 247 of 500\n",
            "building tree 248 of 500\n",
            "building tree 249 of 500\n",
            "building tree 250 of 500\n",
            "building tree 251 of 500\n",
            "building tree 252 of 500\n",
            "building tree 253 of 500\n",
            "building tree 254 of 500\n",
            "building tree 255 of 500\n",
            "building tree 256 of 500\n",
            "building tree 257 of 500\n",
            "building tree 258 of 500\n",
            "building tree 259 of 500\n",
            "building tree 260 of 500\n",
            "building tree 261 of 500\n",
            "building tree 262 of 500\n",
            "building tree 263 of 500\n",
            "building tree 264 of 500\n",
            "building tree 265 of 500\n",
            "building tree 266 of 500\n",
            "building tree 267 of 500\n",
            "building tree 268 of 500\n",
            "building tree 269 of 500\n",
            "building tree 270 of 500\n",
            "building tree 271 of 500\n",
            "building tree 272 of 500\n",
            "building tree 273 of 500\n",
            "building tree 274 of 500\n",
            "building tree 275 of 500\n",
            "building tree 276 of 500\n",
            "building tree 277 of 500\n",
            "building tree 278 of 500\n",
            "building tree 279 of 500building tree 280 of 500\n",
            "\n",
            "building tree 281 of 500\n",
            "building tree 282 of 500\n",
            "building tree 283 of 500\n",
            "building tree 284 of 500\n",
            "building tree 285 of 500\n",
            "building tree 286 of 500\n",
            "building tree 287 of 500\n",
            "building tree 288 of 500\n",
            "building tree 289 of 500\n",
            "building tree 290 of 500\n",
            "building tree 291 of 500\n",
            "building tree 292 of 500\n",
            "building tree 293 of 500\n",
            "building tree 294 of 500\n",
            "building tree 295 of 500\n",
            "building tree 296 of 500\n",
            "building tree 297 of 500\n",
            "building tree 298 of 500\n",
            "building tree 299 of 500\n",
            "building tree 300 of 500\n",
            "building tree 301 of 500\n",
            "building tree 302 of 500\n",
            "building tree 303 of 500\n",
            "building tree 304 of 500\n",
            "building tree 305 of 500\n",
            "building tree 306 of 500\n",
            "building tree 307 of 500\n",
            "building tree 308 of 500\n",
            "building tree 309 of 500\n",
            "building tree 310 of 500\n",
            "building tree 311 of 500\n",
            "building tree 312 of 500\n",
            "building tree 313 of 500\n",
            "building tree 314 of 500\n",
            "building tree 315 of 500\n",
            "building tree 316 of 500\n",
            "building tree 317 of 500\n",
            "building tree 318 of 500\n",
            "building tree 319 of 500\n",
            "building tree 320 of 500\n",
            "building tree 321 of 500\n",
            "building tree 322 of 500\n",
            "building tree 323 of 500\n",
            "building tree 324 of 500\n",
            "building tree 325 of 500\n",
            "building tree 326 of 500\n",
            "building tree 327 of 500\n",
            "building tree 328 of 500\n",
            "building tree 329 of 500\n",
            "building tree 330 of 500\n",
            "building tree 331 of 500\n",
            "building tree 332 of 500\n",
            "building tree 333 of 500\n",
            "building tree 334 of 500\n",
            "building tree 335 of 500\n",
            "building tree 336 of 500\n",
            "building tree 337 of 500\n",
            "building tree 338 of 500\n",
            "building tree 339 of 500\n",
            "building tree 340 of 500\n",
            "building tree 341 of 500\n",
            "building tree 342 of 500\n",
            "building tree 343 of 500\n",
            "building tree 344 of 500\n",
            "building tree 345 of 500\n",
            "building tree 346 of 500\n",
            "building tree 347 of 500\n",
            "building tree 348 of 500\n",
            "building tree 349 of 500\n",
            "building tree 350 of 500\n",
            "building tree 351 of 500\n",
            "building tree 352 of 500\n",
            "building tree 353 of 500\n",
            "building tree 354 of 500\n",
            "building tree 355 of 500\n",
            "building tree 356 of 500\n",
            "building tree 357 of 500\n",
            "building tree 358 of 500\n",
            "building tree 359 of 500\n",
            "building tree 360 of 500\n",
            "building tree 361 of 500\n",
            "building tree 362 of 500\n",
            "building tree 363 of 500\n"
          ]
        },
        {
          "output_type": "stream",
          "name": "stderr",
          "text": [
            "[Parallel(n_jobs=-1)]: Done 361 tasks      | elapsed:   25.6s\n"
          ]
        },
        {
          "output_type": "stream",
          "name": "stdout",
          "text": [
            "building tree 364 of 500\n",
            "building tree 365 of 500\n",
            "building tree 366 of 500\n",
            "building tree 367 of 500\n",
            "building tree 368 of 500\n",
            "building tree 369 of 500\n",
            "building tree 370 of 500\n",
            "building tree 371 of 500\n",
            "building tree 372 of 500\n",
            "building tree 373 of 500\n",
            "building tree 374 of 500\n",
            "building tree 375 of 500\n",
            "building tree 376 of 500\n",
            "building tree 377 of 500\n",
            "building tree 378 of 500\n",
            "building tree 379 of 500\n",
            "building tree 380 of 500\n",
            "building tree 381 of 500\n",
            "building tree 382 of 500\n",
            "building tree 383 of 500\n",
            "building tree 384 of 500\n",
            "building tree 385 of 500\n",
            "building tree 386 of 500\n",
            "building tree 387 of 500\n",
            "building tree 388 of 500\n",
            "building tree 389 of 500\n",
            "building tree 390 of 500\n",
            "building tree 391 of 500\n",
            "building tree 392 of 500\n",
            "building tree 393 of 500\n",
            "building tree 394 of 500\n",
            "building tree 395 of 500\n",
            "building tree 396 of 500\n",
            "building tree 397 of 500\n",
            "building tree 398 of 500\n",
            "building tree 399 of 500\n",
            "building tree 400 of 500\n",
            "building tree 401 of 500\n",
            "building tree 402 of 500\n",
            "building tree 403 of 500\n",
            "building tree 404 of 500\n",
            "building tree 405 of 500\n",
            "building tree 406 of 500\n",
            "building tree 407 of 500\n",
            "building tree 408 of 500\n",
            "building tree 409 of 500\n",
            "building tree 410 of 500\n",
            "building tree 411 of 500\n",
            "building tree 412 of 500\n",
            "building tree 413 of 500\n",
            "building tree 414 of 500\n",
            "building tree 415 of 500\n",
            "building tree 416 of 500\n",
            "building tree 417 of 500\n",
            "building tree 418 of 500\n",
            "building tree 419 of 500\n",
            "building tree 420 of 500\n",
            "building tree 421 of 500\n",
            "building tree 422 of 500\n",
            "building tree 423 of 500\n",
            "building tree 424 of 500\n",
            "building tree 425 of 500\n",
            "building tree 426 of 500\n",
            "building tree 427 of 500\n",
            "building tree 428 of 500\n",
            "building tree 429 of 500\n",
            "building tree 430 of 500\n",
            "building tree 431 of 500\n",
            "building tree 432 of 500\n",
            "building tree 433 of 500\n",
            "building tree 434 of 500\n",
            "building tree 435 of 500\n",
            "building tree 436 of 500\n",
            "building tree 437 of 500\n",
            "building tree 438 of 500\n",
            "building tree 439 of 500\n",
            "building tree 440 of 500\n",
            "building tree 441 of 500\n",
            "building tree 442 of 500\n",
            "building tree 443 of 500\n",
            "building tree 444 of 500\n",
            "building tree 445 of 500\n",
            "building tree 446 of 500\n",
            "building tree 447 of 500\n",
            "building tree 448 of 500\n",
            "building tree 449 of 500\n",
            "building tree 450 of 500\n",
            "building tree 451 of 500\n",
            "building tree 452 of 500\n",
            "building tree 453 of 500\n",
            "building tree 454 of 500\n",
            "building tree 455 of 500\n",
            "building tree 456 of 500\n",
            "building tree 457 of 500\n",
            "building tree 458 of 500\n",
            "building tree 459 of 500\n",
            "building tree 460 of 500\n",
            "building tree 461 of 500\n",
            "building tree 462 of 500\n",
            "building tree 463 of 500\n",
            "building tree 464 of 500\n",
            "building tree 465 of 500\n",
            "building tree 466 of 500\n",
            "building tree 467 of 500\n",
            "building tree 468 of 500\n",
            "building tree 469 of 500\n",
            "building tree 470 of 500\n",
            "building tree 471 of 500\n",
            "building tree 472 of 500\n",
            "building tree 473 of 500\n",
            "building tree 474 of 500\n",
            "building tree 475 of 500\n",
            "building tree 476 of 500\n",
            "building tree 477 of 500\n",
            "building tree 478 of 500\n",
            "building tree 479 of 500\n",
            "building tree 480 of 500\n",
            "building tree 481 of 500\n",
            "building tree 482 of 500\n",
            "building tree 483 of 500\n",
            "building tree 484 of 500\n",
            "building tree 485 of 500\n",
            "building tree 486 of 500\n",
            "building tree 487 of 500\n",
            "building tree 488 of 500\n",
            "building tree 489 of 500\n",
            "building tree 490 of 500\n",
            "building tree 491 of 500\n",
            "building tree 492 of 500\n",
            "building tree 493 of 500\n",
            "building tree 494 of 500\n",
            "building tree 495 of 500\n",
            "building tree 496 of 500\n",
            "building tree 497 of 500\n",
            "building tree 498 of 500\n",
            "building tree 499 of 500\n",
            "building tree 500 of 500\n"
          ]
        },
        {
          "output_type": "stream",
          "name": "stderr",
          "text": [
            "[Parallel(n_jobs=-1)]: Done 500 out of 500 | elapsed:   34.6s finished\n"
          ]
        },
        {
          "output_type": "execute_result",
          "data": {
            "text/plain": [
              "RandomForestClassifier(class_weight='balanced_subsample', max_depth=5,\n",
              "                       max_features=5, n_estimators=500, n_jobs=-1,\n",
              "                       oob_score=True, random_state=0, verbose=2)"
            ]
          },
          "metadata": {},
          "execution_count": 81
        }
      ]
    },
    {
      "cell_type": "code",
      "source": [
        "print(rf_clf_lsa.feature_importances_)"
      ],
      "metadata": {
        "id": "iFMRbhL8bC9J",
        "colab": {
          "base_uri": "https://localhost:8080/"
        },
        "outputId": "b25dba23-ca9a-4c41-e549-6657657e2dca"
      },
      "execution_count": null,
      "outputs": [
        {
          "output_type": "stream",
          "name": "stdout",
          "text": [
            "[0.01284959 0.09001549 0.02028223 0.00251777 0.01710038 0.01563726\n",
            " 0.01944864 0.00688534 0.1795472  0.26814955 0.01424465 0.00631601\n",
            " 0.06342945 0.00160526 0.01527066 0.01180182 0.00437806 0.00285091\n",
            " 0.0166471  0.0066357  0.01792369 0.01473875 0.00197899 0.00698146\n",
            " 0.00435924 0.00271296 0.00245029 0.00308742 0.00791077 0.00142785\n",
            " 0.00231339 0.00249143 0.00333082 0.00274671 0.00167696 0.00135946\n",
            " 0.00197658 0.00082814 0.00132545 0.00172908 0.00570229 0.00143349\n",
            " 0.00168664 0.00371202 0.00229089 0.00322695 0.00498398 0.00110288\n",
            " 0.00211114 0.00151954 0.00120754 0.00091761 0.00099383 0.00124972\n",
            " 0.00254515 0.0016135  0.00117476 0.01472268 0.00155224 0.00118091\n",
            " 0.00128579 0.00399746 0.00267767 0.00133263 0.00241659 0.00533093\n",
            " 0.00262642 0.00138429 0.00231631 0.00123266 0.00734347 0.00466748\n",
            " 0.00608224 0.00125097 0.00105405 0.00078799 0.00107766 0.00114116\n",
            " 0.00099635 0.00315459 0.0012955  0.00111919 0.00114606 0.00122789\n",
            " 0.00099211 0.0021657  0.00092137 0.00276693 0.00225254 0.00104224\n",
            " 0.00179262 0.00098922 0.00123929 0.00218105 0.0049402  0.00144203\n",
            " 0.00125997 0.00158459 0.00202255 0.00157197]\n"
          ]
        }
      ]
    },
    {
      "cell_type": "code",
      "source": [
        "print('Média da acurácia das classes: ', rf_clf_lsa.score(X_lsa, y))"
      ],
      "metadata": {
        "id": "kCf3owtCbC1x",
        "colab": {
          "base_uri": "https://localhost:8080/"
        },
        "outputId": "2643dd04-34a4-4671-a9c8-44cd46b3d340"
      },
      "execution_count": null,
      "outputs": [
        {
          "output_type": "stream",
          "name": "stderr",
          "text": [
            "[Parallel(n_jobs=2)]: Using backend ThreadingBackend with 2 concurrent workers.\n",
            "[Parallel(n_jobs=2)]: Done  37 tasks      | elapsed:    0.1s\n",
            "[Parallel(n_jobs=2)]: Done 158 tasks      | elapsed:    0.4s\n",
            "[Parallel(n_jobs=2)]: Done 361 tasks      | elapsed:    0.8s\n"
          ]
        },
        {
          "output_type": "stream",
          "name": "stdout",
          "text": [
            "Média da acurácia das classes:  0.80488\n"
          ]
        },
        {
          "output_type": "stream",
          "name": "stderr",
          "text": [
            "[Parallel(n_jobs=2)]: Done 500 out of 500 | elapsed:    1.1s finished\n"
          ]
        }
      ]
    },
    {
      "cell_type": "markdown",
      "source": [
        "# Obter base de test"
      ],
      "metadata": {
        "id": "FmkMJj0PbyXI"
      }
    },
    {
      "cell_type": "code",
      "source": [
        "# Raw dataset\n",
        "input_path2 = '/content/NLP_Pipline_ACL_IMDB_sentiment_analyses/test'\n",
        "# CSV output\n",
        "output_path2 = '/content/ACL_IMDB_test.csv'"
      ],
      "metadata": {
        "id": "SPAm4lKbbkkk"
      },
      "execution_count": null,
      "outputs": []
    },
    {
      "cell_type": "markdown",
      "source": [
        "## Obter lista de \"Paths\" de arquivos de texto"
      ],
      "metadata": {
        "id": "xQwD--IdcHDU"
      }
    },
    {
      "cell_type": "code",
      "source": [
        "txt_paths_pos_test = glob(input_path2 + '/pos/*.txt') \n",
        "txt_paths_neg_test = glob(input_path2 + '/neg/*.txt')\n",
        "print(\"Files found (positive review): \", len(txt_paths_pos_test))\n",
        "print(\"Files found (negative review): \", len(txt_paths_neg_test))"
      ],
      "metadata": {
        "colab": {
          "base_uri": "https://localhost:8080/"
        },
        "id": "1ow2I-QocGju",
        "outputId": "fa4577ce-31df-43be-82ca-4f5e89d22fe8"
      },
      "execution_count": null,
      "outputs": [
        {
          "output_type": "stream",
          "name": "stdout",
          "text": [
            "Files found (positive review):  12500\n",
            "Files found (negative review):  12500\n"
          ]
        }
      ]
    },
    {
      "cell_type": "markdown",
      "source": [
        "# Criação do dftest\n",
        "\n",
        "Os valores da coluna de classe são derivados dos nomes das subpastas no \"input_path2\".\n",
        "\n",
        "A coluna de imagem contém o \"path\" relativo para as imagens nas subpastas."
      ],
      "metadata": {
        "id": "ZztuiAXRjP2C"
      }
    },
    {
      "cell_type": "code",
      "source": [
        "# Create dataframe containing positive reviews\n",
        "df_pos_test = pd.DataFrame({'review': txt_paths_pos_test})\n",
        "df_pos_test.insert(loc=1, column='sentiment', value= 'positive')\n",
        "# Create dataframe containing negative reviews\n",
        "df_neg_test = pd.DataFrame({'review': txt_paths_neg_test})\n",
        "df_neg_test.insert(loc=1, column='sentiment', value= 'negative')\n",
        "# Concatenate dataframes containing positive and negative reviews\n",
        "dftest = pd.concat([df_pos_test, df_neg_test])\n",
        "# Replace path with review text\n",
        "dftest['review'] = dftest['review'].apply(lambda path: get_text_from_file(path))\n",
        "# Shuffle the rows to ensure that both examples of both clases are displayed in the Dataset previw on the Platform.\n",
        "dftest = dftest.sample(frac=1.0, random_state=1)\n",
        "dftest.head()"
      ],
      "metadata": {
        "colab": {
          "base_uri": "https://localhost:8080/",
          "height": 206
        },
        "id": "vQVgbBXkjI3A",
        "outputId": "d16c968b-87f9-4df9-f48c-4d9a89e21df5"
      },
      "execution_count": null,
      "outputs": [
        {
          "output_type": "execute_result",
          "data": {
            "text/html": [
              "\n",
              "  <div id=\"df-9ac745ca-72ca-4f87-bb54-0d82767958f8\">\n",
              "    <div class=\"colab-df-container\">\n",
              "      <div>\n",
              "<style scoped>\n",
              "    .dataframe tbody tr th:only-of-type {\n",
              "        vertical-align: middle;\n",
              "    }\n",
              "\n",
              "    .dataframe tbody tr th {\n",
              "        vertical-align: top;\n",
              "    }\n",
              "\n",
              "    .dataframe thead th {\n",
              "        text-align: right;\n",
              "    }\n",
              "</style>\n",
              "<table border=\"1\" class=\"dataframe\">\n",
              "  <thead>\n",
              "    <tr style=\"text-align: right;\">\n",
              "      <th></th>\n",
              "      <th>review</th>\n",
              "      <th>sentiment</th>\n",
              "    </tr>\n",
              "  </thead>\n",
              "  <tbody>\n",
              "    <tr>\n",
              "      <th>8992</th>\n",
              "      <td>This film is the proof that a good actor is no...</td>\n",
              "      <td>negative</td>\n",
              "    </tr>\n",
              "    <tr>\n",
              "      <th>9488</th>\n",
              "      <td>A while back I bought the Chinese box set of F...</td>\n",
              "      <td>positive</td>\n",
              "    </tr>\n",
              "    <tr>\n",
              "      <th>4433</th>\n",
              "      <td>I cannot believe that the actors agreed to do ...</td>\n",
              "      <td>negative</td>\n",
              "    </tr>\n",
              "    <tr>\n",
              "      <th>104</th>\n",
              "      <td>This movie has more goofs than any other movie...</td>\n",
              "      <td>negative</td>\n",
              "    </tr>\n",
              "    <tr>\n",
              "      <th>8222</th>\n",
              "      <td>\"Lackawanna Blues'is so emotionally powerful i...</td>\n",
              "      <td>positive</td>\n",
              "    </tr>\n",
              "  </tbody>\n",
              "</table>\n",
              "</div>\n",
              "      <button class=\"colab-df-convert\" onclick=\"convertToInteractive('df-9ac745ca-72ca-4f87-bb54-0d82767958f8')\"\n",
              "              title=\"Convert this dataframe to an interactive table.\"\n",
              "              style=\"display:none;\">\n",
              "        \n",
              "  <svg xmlns=\"http://www.w3.org/2000/svg\" height=\"24px\"viewBox=\"0 0 24 24\"\n",
              "       width=\"24px\">\n",
              "    <path d=\"M0 0h24v24H0V0z\" fill=\"none\"/>\n",
              "    <path d=\"M18.56 5.44l.94 2.06.94-2.06 2.06-.94-2.06-.94-.94-2.06-.94 2.06-2.06.94zm-11 1L8.5 8.5l.94-2.06 2.06-.94-2.06-.94L8.5 2.5l-.94 2.06-2.06.94zm10 10l.94 2.06.94-2.06 2.06-.94-2.06-.94-.94-2.06-.94 2.06-2.06.94z\"/><path d=\"M17.41 7.96l-1.37-1.37c-.4-.4-.92-.59-1.43-.59-.52 0-1.04.2-1.43.59L10.3 9.45l-7.72 7.72c-.78.78-.78 2.05 0 2.83L4 21.41c.39.39.9.59 1.41.59.51 0 1.02-.2 1.41-.59l7.78-7.78 2.81-2.81c.8-.78.8-2.07 0-2.86zM5.41 20L4 18.59l7.72-7.72 1.47 1.35L5.41 20z\"/>\n",
              "  </svg>\n",
              "      </button>\n",
              "      \n",
              "  <style>\n",
              "    .colab-df-container {\n",
              "      display:flex;\n",
              "      flex-wrap:wrap;\n",
              "      gap: 12px;\n",
              "    }\n",
              "\n",
              "    .colab-df-convert {\n",
              "      background-color: #E8F0FE;\n",
              "      border: none;\n",
              "      border-radius: 50%;\n",
              "      cursor: pointer;\n",
              "      display: none;\n",
              "      fill: #1967D2;\n",
              "      height: 32px;\n",
              "      padding: 0 0 0 0;\n",
              "      width: 32px;\n",
              "    }\n",
              "\n",
              "    .colab-df-convert:hover {\n",
              "      background-color: #E2EBFA;\n",
              "      box-shadow: 0px 1px 2px rgba(60, 64, 67, 0.3), 0px 1px 3px 1px rgba(60, 64, 67, 0.15);\n",
              "      fill: #174EA6;\n",
              "    }\n",
              "\n",
              "    [theme=dark] .colab-df-convert {\n",
              "      background-color: #3B4455;\n",
              "      fill: #D2E3FC;\n",
              "    }\n",
              "\n",
              "    [theme=dark] .colab-df-convert:hover {\n",
              "      background-color: #434B5C;\n",
              "      box-shadow: 0px 1px 3px 1px rgba(0, 0, 0, 0.15);\n",
              "      filter: drop-shadow(0px 1px 2px rgba(0, 0, 0, 0.3));\n",
              "      fill: #FFFFFF;\n",
              "    }\n",
              "  </style>\n",
              "\n",
              "      <script>\n",
              "        const buttonEl =\n",
              "          document.querySelector('#df-9ac745ca-72ca-4f87-bb54-0d82767958f8 button.colab-df-convert');\n",
              "        buttonEl.style.display =\n",
              "          google.colab.kernel.accessAllowed ? 'block' : 'none';\n",
              "\n",
              "        async function convertToInteractive(key) {\n",
              "          const element = document.querySelector('#df-9ac745ca-72ca-4f87-bb54-0d82767958f8');\n",
              "          const dataTable =\n",
              "            await google.colab.kernel.invokeFunction('convertToInteractive',\n",
              "                                                     [key], {});\n",
              "          if (!dataTable) return;\n",
              "\n",
              "          const docLinkHtml = 'Like what you see? Visit the ' +\n",
              "            '<a target=\"_blank\" href=https://colab.research.google.com/notebooks/data_table.ipynb>data table notebook</a>'\n",
              "            + ' to learn more about interactive tables.';\n",
              "          element.innerHTML = '';\n",
              "          dataTable['output_type'] = 'display_data';\n",
              "          await google.colab.output.renderOutput(dataTable, element);\n",
              "          const docLink = document.createElement('div');\n",
              "          docLink.innerHTML = docLinkHtml;\n",
              "          element.appendChild(docLink);\n",
              "        }\n",
              "      </script>\n",
              "    </div>\n",
              "  </div>\n",
              "  "
            ],
            "text/plain": [
              "                                                 review sentiment\n",
              "8992  This film is the proof that a good actor is no...  negative\n",
              "9488  A while back I bought the Chinese box set of F...  positive\n",
              "4433  I cannot believe that the actors agreed to do ...  negative\n",
              "104   This movie has more goofs than any other movie...  negative\n",
              "8222  \"Lackawanna Blues'is so emotionally powerful i...  positive"
            ]
          },
          "metadata": {},
          "execution_count": 86
        }
      ]
    },
    {
      "cell_type": "markdown",
      "source": [
        "## Função Auxiliar"
      ],
      "metadata": {
        "id": "8oLAA3kkc1zz"
      }
    },
    {
      "cell_type": "code",
      "source": [
        "def get_text_from_file(path):\n",
        "    with open(path, 'r') as file:\n",
        "        return file.read()"
      ],
      "metadata": {
        "id": "8sraVOAoczeY"
      },
      "execution_count": null,
      "outputs": []
    },
    {
      "cell_type": "code",
      "source": [
        "dftest.to_csv('/content/ACL_IMDB_test.csv',mode='w+')"
      ],
      "metadata": {
        "id": "sXL8v0y4qiwn"
      },
      "execution_count": null,
      "outputs": []
    },
    {
      "cell_type": "markdown",
      "source": [
        "# Avaliação do classificador com a base teste"
      ],
      "metadata": {
        "id": "0leYWR2Fbl9N"
      }
    },
    {
      "cell_type": "markdown",
      "source": [
        "## Criação do set de test"
      ],
      "metadata": {
        "id": "q5Ked_BtoykA"
      }
    },
    {
      "cell_type": "code",
      "source": [
        "dftest = pd.read_csv('/content/ACL_IMDB_test.csv')"
      ],
      "metadata": {
        "id": "ZOXo3xkUcL2q"
      },
      "execution_count": null,
      "outputs": []
    },
    {
      "cell_type": "code",
      "source": [
        "dftest['sentiment_boolean'] = dftest['sentiment'].map({'positive': 1, 'negative': 0})"
      ],
      "metadata": {
        "id": "jY0bb8Nc8oaD"
      },
      "execution_count": null,
      "outputs": []
    },
    {
      "cell_type": "markdown",
      "source": [
        "#### Removendo pontuação"
      ],
      "metadata": {
        "id": "7WVamGNGw6Fz"
      }
    },
    {
      "cell_type": "code",
      "source": [
        "exclude = set(string.punctuation)\n",
        "def remove_punctoation(row):\n",
        "  row.review = ''.join(ch for ch in row.review if ch not in exclude)\n",
        "  return row"
      ],
      "metadata": {
        "id": "OWGSIVpLw4_u"
      },
      "execution_count": null,
      "outputs": []
    },
    {
      "cell_type": "code",
      "source": [
        "dftest = dftest.apply(remove_punctoation, axis = 1)"
      ],
      "metadata": {
        "id": "9sZ_QaamxEL7"
      },
      "execution_count": null,
      "outputs": []
    },
    {
      "cell_type": "markdown",
      "source": [
        "#### Lemmatisation"
      ],
      "metadata": {
        "id": "ZyzCQgqexP2K"
      }
    },
    {
      "cell_type": "code",
      "source": [
        "lemmatizer = WordNetLemmatizer()\n",
        "def lemmatize_text(row):\n",
        "  row.review = \" \".join(lemmatizer.lemmatize(word) for word in row.review.split())\n",
        "  return row"
      ],
      "metadata": {
        "id": "l3p1n6VPxRII"
      },
      "execution_count": null,
      "outputs": []
    },
    {
      "cell_type": "code",
      "source": [
        "dftest = dftest.apply(lemmatize_text, axis = 1)"
      ],
      "metadata": {
        "id": "abMQrWj_xUgM"
      },
      "execution_count": null,
      "outputs": []
    },
    {
      "cell_type": "code",
      "source": [
        "dftest"
      ],
      "metadata": {
        "colab": {
          "base_uri": "https://localhost:8080/",
          "height": 423
        },
        "id": "JOCCfvFvvF2C",
        "outputId": "8e2cc4d7-605c-4927-d859-9505d4864cf2"
      },
      "execution_count": null,
      "outputs": [
        {
          "output_type": "execute_result",
          "data": {
            "text/html": [
              "\n",
              "  <div id=\"df-31a283cf-85a3-4198-8c11-8a69b951e07a\">\n",
              "    <div class=\"colab-df-container\">\n",
              "      <div>\n",
              "<style scoped>\n",
              "    .dataframe tbody tr th:only-of-type {\n",
              "        vertical-align: middle;\n",
              "    }\n",
              "\n",
              "    .dataframe tbody tr th {\n",
              "        vertical-align: top;\n",
              "    }\n",
              "\n",
              "    .dataframe thead th {\n",
              "        text-align: right;\n",
              "    }\n",
              "</style>\n",
              "<table border=\"1\" class=\"dataframe\">\n",
              "  <thead>\n",
              "    <tr style=\"text-align: right;\">\n",
              "      <th></th>\n",
              "      <th>Unnamed: 0</th>\n",
              "      <th>review</th>\n",
              "      <th>sentiment</th>\n",
              "      <th>sentiment_boolean</th>\n",
              "    </tr>\n",
              "  </thead>\n",
              "  <tbody>\n",
              "    <tr>\n",
              "      <th>0</th>\n",
              "      <td>8992</td>\n",
              "      <td>This film is the proof that a good actor is no...</td>\n",
              "      <td>negative</td>\n",
              "      <td>0</td>\n",
              "    </tr>\n",
              "    <tr>\n",
              "      <th>1</th>\n",
              "      <td>9488</td>\n",
              "      <td>A while back I bought the Chinese box set of F...</td>\n",
              "      <td>positive</td>\n",
              "      <td>1</td>\n",
              "    </tr>\n",
              "    <tr>\n",
              "      <th>2</th>\n",
              "      <td>4433</td>\n",
              "      <td>I cannot believe that the actor agreed to do t...</td>\n",
              "      <td>negative</td>\n",
              "      <td>0</td>\n",
              "    </tr>\n",
              "    <tr>\n",
              "      <th>3</th>\n",
              "      <td>104</td>\n",
              "      <td>This movie ha more goof than any other movie I...</td>\n",
              "      <td>negative</td>\n",
              "      <td>0</td>\n",
              "    </tr>\n",
              "    <tr>\n",
              "      <th>4</th>\n",
              "      <td>8222</td>\n",
              "      <td>Lackawanna Bluesis so emotionally powerful in ...</td>\n",
              "      <td>positive</td>\n",
              "      <td>1</td>\n",
              "    </tr>\n",
              "    <tr>\n",
              "      <th>...</th>\n",
              "      <td>...</td>\n",
              "      <td>...</td>\n",
              "      <td>...</td>\n",
              "      <td>...</td>\n",
              "    </tr>\n",
              "    <tr>\n",
              "      <th>24995</th>\n",
              "      <td>10955</td>\n",
              "      <td>Separate LIES changed my life Actually the QA ...</td>\n",
              "      <td>positive</td>\n",
              "      <td>1</td>\n",
              "    </tr>\n",
              "    <tr>\n",
              "      <th>24996</th>\n",
              "      <td>4789</td>\n",
              "      <td>This movie is awful beyond belief Its a lowbud...</td>\n",
              "      <td>negative</td>\n",
              "      <td>0</td>\n",
              "    </tr>\n",
              "    <tr>\n",
              "      <th>24997</th>\n",
              "      <td>5192</td>\n",
              "      <td>As you can see I loved the book so much I use ...</td>\n",
              "      <td>positive</td>\n",
              "      <td>1</td>\n",
              "    </tr>\n",
              "    <tr>\n",
              "      <th>24998</th>\n",
              "      <td>12172</td>\n",
              "      <td>I saw this minimovie when it first aired and l...</td>\n",
              "      <td>positive</td>\n",
              "      <td>1</td>\n",
              "    </tr>\n",
              "    <tr>\n",
              "      <th>24999</th>\n",
              "      <td>235</td>\n",
              "      <td>Kannathil Muthamittal is for sure a great movi...</td>\n",
              "      <td>positive</td>\n",
              "      <td>1</td>\n",
              "    </tr>\n",
              "  </tbody>\n",
              "</table>\n",
              "<p>25000 rows × 4 columns</p>\n",
              "</div>\n",
              "      <button class=\"colab-df-convert\" onclick=\"convertToInteractive('df-31a283cf-85a3-4198-8c11-8a69b951e07a')\"\n",
              "              title=\"Convert this dataframe to an interactive table.\"\n",
              "              style=\"display:none;\">\n",
              "        \n",
              "  <svg xmlns=\"http://www.w3.org/2000/svg\" height=\"24px\"viewBox=\"0 0 24 24\"\n",
              "       width=\"24px\">\n",
              "    <path d=\"M0 0h24v24H0V0z\" fill=\"none\"/>\n",
              "    <path d=\"M18.56 5.44l.94 2.06.94-2.06 2.06-.94-2.06-.94-.94-2.06-.94 2.06-2.06.94zm-11 1L8.5 8.5l.94-2.06 2.06-.94-2.06-.94L8.5 2.5l-.94 2.06-2.06.94zm10 10l.94 2.06.94-2.06 2.06-.94-2.06-.94-.94-2.06-.94 2.06-2.06.94z\"/><path d=\"M17.41 7.96l-1.37-1.37c-.4-.4-.92-.59-1.43-.59-.52 0-1.04.2-1.43.59L10.3 9.45l-7.72 7.72c-.78.78-.78 2.05 0 2.83L4 21.41c.39.39.9.59 1.41.59.51 0 1.02-.2 1.41-.59l7.78-7.78 2.81-2.81c.8-.78.8-2.07 0-2.86zM5.41 20L4 18.59l7.72-7.72 1.47 1.35L5.41 20z\"/>\n",
              "  </svg>\n",
              "      </button>\n",
              "      \n",
              "  <style>\n",
              "    .colab-df-container {\n",
              "      display:flex;\n",
              "      flex-wrap:wrap;\n",
              "      gap: 12px;\n",
              "    }\n",
              "\n",
              "    .colab-df-convert {\n",
              "      background-color: #E8F0FE;\n",
              "      border: none;\n",
              "      border-radius: 50%;\n",
              "      cursor: pointer;\n",
              "      display: none;\n",
              "      fill: #1967D2;\n",
              "      height: 32px;\n",
              "      padding: 0 0 0 0;\n",
              "      width: 32px;\n",
              "    }\n",
              "\n",
              "    .colab-df-convert:hover {\n",
              "      background-color: #E2EBFA;\n",
              "      box-shadow: 0px 1px 2px rgba(60, 64, 67, 0.3), 0px 1px 3px 1px rgba(60, 64, 67, 0.15);\n",
              "      fill: #174EA6;\n",
              "    }\n",
              "\n",
              "    [theme=dark] .colab-df-convert {\n",
              "      background-color: #3B4455;\n",
              "      fill: #D2E3FC;\n",
              "    }\n",
              "\n",
              "    [theme=dark] .colab-df-convert:hover {\n",
              "      background-color: #434B5C;\n",
              "      box-shadow: 0px 1px 3px 1px rgba(0, 0, 0, 0.15);\n",
              "      filter: drop-shadow(0px 1px 2px rgba(0, 0, 0, 0.3));\n",
              "      fill: #FFFFFF;\n",
              "    }\n",
              "  </style>\n",
              "\n",
              "      <script>\n",
              "        const buttonEl =\n",
              "          document.querySelector('#df-31a283cf-85a3-4198-8c11-8a69b951e07a button.colab-df-convert');\n",
              "        buttonEl.style.display =\n",
              "          google.colab.kernel.accessAllowed ? 'block' : 'none';\n",
              "\n",
              "        async function convertToInteractive(key) {\n",
              "          const element = document.querySelector('#df-31a283cf-85a3-4198-8c11-8a69b951e07a');\n",
              "          const dataTable =\n",
              "            await google.colab.kernel.invokeFunction('convertToInteractive',\n",
              "                                                     [key], {});\n",
              "          if (!dataTable) return;\n",
              "\n",
              "          const docLinkHtml = 'Like what you see? Visit the ' +\n",
              "            '<a target=\"_blank\" href=https://colab.research.google.com/notebooks/data_table.ipynb>data table notebook</a>'\n",
              "            + ' to learn more about interactive tables.';\n",
              "          element.innerHTML = '';\n",
              "          dataTable['output_type'] = 'display_data';\n",
              "          await google.colab.output.renderOutput(dataTable, element);\n",
              "          const docLink = document.createElement('div');\n",
              "          docLink.innerHTML = docLinkHtml;\n",
              "          element.appendChild(docLink);\n",
              "        }\n",
              "      </script>\n",
              "    </div>\n",
              "  </div>\n",
              "  "
            ],
            "text/plain": [
              "       Unnamed: 0                                             review  \\\n",
              "0            8992  This film is the proof that a good actor is no...   \n",
              "1            9488  A while back I bought the Chinese box set of F...   \n",
              "2            4433  I cannot believe that the actor agreed to do t...   \n",
              "3             104  This movie ha more goof than any other movie I...   \n",
              "4            8222  Lackawanna Bluesis so emotionally powerful in ...   \n",
              "...           ...                                                ...   \n",
              "24995       10955  Separate LIES changed my life Actually the QA ...   \n",
              "24996        4789  This movie is awful beyond belief Its a lowbud...   \n",
              "24997        5192  As you can see I loved the book so much I use ...   \n",
              "24998       12172  I saw this minimovie when it first aired and l...   \n",
              "24999         235  Kannathil Muthamittal is for sure a great movi...   \n",
              "\n",
              "      sentiment  sentiment_boolean  \n",
              "0      negative                  0  \n",
              "1      positive                  1  \n",
              "2      negative                  0  \n",
              "3      negative                  0  \n",
              "4      positive                  1  \n",
              "...         ...                ...  \n",
              "24995  positive                  1  \n",
              "24996  negative                  0  \n",
              "24997  positive                  1  \n",
              "24998  positive                  1  \n",
              "24999  positive                  1  \n",
              "\n",
              "[25000 rows x 4 columns]"
            ]
          },
          "metadata": {},
          "execution_count": 98
        }
      ]
    },
    {
      "cell_type": "code",
      "source": [
        "# Obter a base de teste\n",
        "test_documents = dftest.sentiment\n",
        "y_test = dftest[\"sentiment_boolean\"]\n",
        "\n",
        "# Extração de características de contagem\n",
        "Xcountvect_test = count_vect_final.transform(test_documents)\n",
        "print('1a etapa de extração de características')\n",
        "print(Xcountvect_test)\n",
        "\n",
        "# Extração de características de frequência TF-IDF\n",
        "X_tfidf_test = tfidf_transformer.transform(Xcountvect_test)\n",
        "print('2a etapa de extração de características')\n",
        "print(Xcountvect_test.shape)\n",
        "\n",
        "# Extração dos embeddings\n",
        "X_lsa_test = svd.transform(X_tfidf_test)\n",
        "print('3a etapa de extração de características')\n",
        "print(X_lsa_test.shape)"
      ],
      "metadata": {
        "colab": {
          "base_uri": "https://localhost:8080/"
        },
        "id": "3UfZjdaeUOD9",
        "outputId": "1787e452-eb6e-473d-a609-577ff955c006"
      },
      "execution_count": null,
      "outputs": [
        {
          "output_type": "stream",
          "name": "stdout",
          "text": [
            "1a etapa de extração de características\n",
            "  (0, 1950)\t1\n",
            "  (1, 2252)\t1\n",
            "  (2, 1950)\t1\n",
            "  (3, 1950)\t1\n",
            "  (4, 2252)\t1\n",
            "  (5, 2252)\t1\n",
            "  (6, 1950)\t1\n",
            "  (7, 1950)\t1\n",
            "  (8, 1950)\t1\n",
            "  (9, 2252)\t1\n",
            "  (10, 2252)\t1\n",
            "  (11, 1950)\t1\n",
            "  (12, 1950)\t1\n",
            "  (13, 2252)\t1\n",
            "  (14, 2252)\t1\n",
            "  (15, 2252)\t1\n",
            "  (16, 2252)\t1\n",
            "  (17, 2252)\t1\n",
            "  (18, 2252)\t1\n",
            "  (19, 1950)\t1\n",
            "  (20, 2252)\t1\n",
            "  (21, 1950)\t1\n",
            "  (22, 1950)\t1\n",
            "  (23, 1950)\t1\n",
            "  (24, 2252)\t1\n",
            "  :\t:\n",
            "  (24975, 1950)\t1\n",
            "  (24976, 1950)\t1\n",
            "  (24977, 1950)\t1\n",
            "  (24978, 2252)\t1\n",
            "  (24979, 1950)\t1\n",
            "  (24980, 2252)\t1\n",
            "  (24981, 1950)\t1\n",
            "  (24982, 2252)\t1\n",
            "  (24983, 1950)\t1\n",
            "  (24984, 1950)\t1\n",
            "  (24985, 1950)\t1\n",
            "  (24986, 2252)\t1\n",
            "  (24987, 2252)\t1\n",
            "  (24988, 2252)\t1\n",
            "  (24989, 1950)\t1\n",
            "  (24990, 1950)\t1\n",
            "  (24991, 2252)\t1\n",
            "  (24992, 1950)\t1\n",
            "  (24993, 1950)\t1\n",
            "  (24994, 2252)\t1\n",
            "  (24995, 2252)\t1\n",
            "  (24996, 1950)\t1\n",
            "  (24997, 2252)\t1\n",
            "  (24998, 2252)\t1\n",
            "  (24999, 2252)\t1\n",
            "2a etapa de extração de características\n",
            "(25000, 3000)\n",
            "3a etapa de extração de características\n",
            "(25000, 100)\n"
          ]
        }
      ]
    },
    {
      "cell_type": "code",
      "source": [
        "print('[TF-IDF] Média da acurácia das classes: ', rf_clf_tfidf.score(X_tfidf_test, y_test))\n",
        "print('[LSA features] Média da acurácia das classes: ', rf_clf_lsa.score(X_lsa_test, y_test))"
      ],
      "metadata": {
        "colab": {
          "base_uri": "https://localhost:8080/"
        },
        "id": "8wwIEbhGgmEr",
        "outputId": "885fca14-d8b6-4b2c-f36e-c14b70511d75"
      },
      "execution_count": null,
      "outputs": [
        {
          "output_type": "stream",
          "name": "stderr",
          "text": [
            "[Parallel(n_jobs=2)]: Using backend ThreadingBackend with 2 concurrent workers.\n",
            "[Parallel(n_jobs=2)]: Done  37 tasks      | elapsed:    0.1s\n",
            "[Parallel(n_jobs=2)]: Done 158 tasks      | elapsed:    0.2s\n",
            "[Parallel(n_jobs=2)]: Done 361 tasks      | elapsed:    0.5s\n",
            "[Parallel(n_jobs=2)]: Done 500 out of 500 | elapsed:    0.7s finished\n"
          ]
        },
        {
          "output_type": "stream",
          "name": "stdout",
          "text": [
            "[TF-IDF] Média da acurácia das classes:  0.5\n"
          ]
        },
        {
          "output_type": "stream",
          "name": "stderr",
          "text": [
            "[Parallel(n_jobs=2)]: Using backend ThreadingBackend with 2 concurrent workers.\n",
            "[Parallel(n_jobs=2)]: Done  37 tasks      | elapsed:    0.1s\n",
            "[Parallel(n_jobs=2)]: Done 158 tasks      | elapsed:    0.3s\n",
            "[Parallel(n_jobs=2)]: Done 361 tasks      | elapsed:    0.7s\n"
          ]
        },
        {
          "output_type": "stream",
          "name": "stdout",
          "text": [
            "[LSA features] Média da acurácia das classes:  0.0\n"
          ]
        },
        {
          "output_type": "stream",
          "name": "stderr",
          "text": [
            "[Parallel(n_jobs=2)]: Done 500 out of 500 | elapsed:    0.9s finished\n"
          ]
        }
      ]
    },
    {
      "cell_type": "code",
      "source": [
        "y_pred_lsa = rf_clf_lsa.predict(X_lsa_test)\n",
        "print(y_pred_lsa)"
      ],
      "metadata": {
        "colab": {
          "base_uri": "https://localhost:8080/"
        },
        "id": "qG3SHsaGgpAU",
        "outputId": "a9f75606-383c-4abd-8c88-a573549ea85f"
      },
      "execution_count": null,
      "outputs": [
        {
          "output_type": "stream",
          "name": "stderr",
          "text": [
            "[Parallel(n_jobs=2)]: Using backend ThreadingBackend with 2 concurrent workers.\n",
            "[Parallel(n_jobs=2)]: Done  37 tasks      | elapsed:    0.1s\n",
            "[Parallel(n_jobs=2)]: Done 158 tasks      | elapsed:    0.3s\n",
            "[Parallel(n_jobs=2)]: Done 361 tasks      | elapsed:    0.7s\n"
          ]
        },
        {
          "output_type": "stream",
          "name": "stdout",
          "text": [
            "[ True False  True ... False False False]\n"
          ]
        },
        {
          "output_type": "stream",
          "name": "stderr",
          "text": [
            "[Parallel(n_jobs=2)]: Done 500 out of 500 | elapsed:    0.9s finished\n"
          ]
        }
      ]
    },
    {
      "cell_type": "markdown",
      "source": [
        "## Confusion Matrix"
      ],
      "metadata": {
        "id": "gxqXGt_hgtAZ"
      }
    },
    {
      "cell_type": "code",
      "source": [
        "from sklearn.metrics import confusion_matrix"
      ],
      "metadata": {
        "id": "A9N7-vnp4dhx"
      },
      "execution_count": null,
      "outputs": []
    },
    {
      "cell_type": "code",
      "source": [
        "y_true = dftest.sentiment_boolean\n",
        "\n",
        "y_pred = y_pred_lsa\n",
        "\n",
        "confusion_matrix(y_true, y_pred)"
      ],
      "metadata": {
        "colab": {
          "base_uri": "https://localhost:8080/"
        },
        "id": "lvusXkkygo8e",
        "outputId": "e89e1afc-a409-4cc0-edcc-0516a61c448f"
      },
      "execution_count": null,
      "outputs": [
        {
          "output_type": "execute_result",
          "data": {
            "text/plain": [
              "array([[    0, 12500],\n",
              "       [12500,     0]])"
            ]
          },
          "metadata": {},
          "execution_count": 103
        }
      ]
    },
    {
      "cell_type": "code",
      "source": [
        "y_true"
      ],
      "metadata": {
        "colab": {
          "base_uri": "https://localhost:8080/"
        },
        "id": "qnuMTdqz1Cfw",
        "outputId": "fbe03aae-4256-4713-c2fb-5e29ee7c78c9"
      },
      "execution_count": null,
      "outputs": [
        {
          "output_type": "execute_result",
          "data": {
            "text/plain": [
              "0        0\n",
              "1        1\n",
              "2        0\n",
              "3        0\n",
              "4        1\n",
              "        ..\n",
              "24995    1\n",
              "24996    0\n",
              "24997    1\n",
              "24998    1\n",
              "24999    1\n",
              "Name: sentiment_boolean, Length: 25000, dtype: int64"
            ]
          },
          "metadata": {},
          "execution_count": 123
        }
      ]
    },
    {
      "cell_type": "code",
      "source": [
        "y_pred"
      ],
      "metadata": {
        "colab": {
          "base_uri": "https://localhost:8080/"
        },
        "id": "8FKhkhZ21GAA",
        "outputId": "77ac911e-525b-489b-d17d-5a4250c4a55d"
      },
      "execution_count": null,
      "outputs": [
        {
          "output_type": "execute_result",
          "data": {
            "text/plain": [
              "array([ True, False,  True, ..., False, False, False])"
            ]
          },
          "metadata": {},
          "execution_count": 124
        }
      ]
    },
    {
      "cell_type": "code",
      "source": [
        "data = {'y_Actual':    dftest[\"sentiment_boolean\"],\n",
        "        'y_Predicted': y_pred_lsa\n",
        "        }\n",
        "\n",
        "df = pd.DataFrame(data, columns=['y_Actual','y_Predicted'])\n",
        "confusion_matrix = pd.crosstab(df['y_Actual'], df['y_Predicted'], rownames=['Actual'], colnames=['Predicted'])\n",
        "\n",
        "sns.heatmap(confusion_matrix, annot=True)\n",
        "plt.show()"
      ],
      "metadata": {
        "colab": {
          "base_uri": "https://localhost:8080/",
          "height": 279
        },
        "id": "NAv5xrxQgo4-",
        "outputId": "d3498f51-013e-471d-d6fd-f0d3db36c1b8"
      },
      "execution_count": null,
      "outputs": [
        {
          "output_type": "display_data",
          "data": {
            "image/png": "[encoded data removed]",
            "text/plain": [
              "<Figure size 432x288 with 2 Axes>"
            ]
          },
          "metadata": {
            "needs_background": "light"
          }
        }
      ]
    },
    {
      "cell_type": "code",
      "source": [
        "def accuracy(confusion_matrix):\n",
        "    diagonal_sum = confusion_matrix.trace()\n",
        "    sum_of_all_elements = confusion_matrix.sum()\n",
        "    return diagonal_sum / sum_of_all_elements"
      ],
      "metadata": {
        "id": "dlTncFtpgot9"
      },
      "execution_count": null,
      "outputs": []
    },
    {
      "cell_type": "code",
      "source": [
        "print(confusion_matrix)"
      ],
      "metadata": {
        "colab": {
          "base_uri": "https://localhost:8080/"
        },
        "id": "-8E9VwCng9PO",
        "outputId": "5028e397-69dc-44aa-cf50-aa31bf47d4ce"
      },
      "execution_count": null,
      "outputs": [
        {
          "output_type": "stream",
          "name": "stdout",
          "text": [
            "Predicted  False   True\n",
            "Actual                 \n",
            "0              0  12500\n",
            "1          12500      0\n"
          ]
        }
      ]
    },
    {
      "cell_type": "code",
      "source": [
        "y_pred = y_pred_lsa\n",
        "y_true = dftest[\"sentiment_boolean\"]\n",
        "accuracy_score(y_true, y_pred)"
      ],
      "metadata": {
        "colab": {
          "base_uri": "https://localhost:8080/"
        },
        "id": "sgexAwizhAYt",
        "outputId": "ad18b538-9254-4b72-c8d7-02cfd719d8c2"
      },
      "execution_count": null,
      "outputs": [
        {
          "output_type": "execute_result",
          "data": {
            "text/plain": [
              "0.0"
            ]
          },
          "metadata": {},
          "execution_count": 107
        }
      ]
    },
    {
      "cell_type": "code",
      "source": [
        "accuracy_score(y_true, y_pred, normalize=False)"
      ],
      "metadata": {
        "colab": {
          "base_uri": "https://localhost:8080/"
        },
        "id": "p8f8lgHDhA2R",
        "outputId": "77e51a92-7b76-4150-ad81-acae7a293eab"
      },
      "execution_count": null,
      "outputs": [
        {
          "output_type": "execute_result",
          "data": {
            "text/plain": [
              "0"
            ]
          },
          "metadata": {},
          "execution_count": 108
        }
      ]
    },
    {
      "cell_type": "code",
      "source": [
        "print('Precision: %.3f' % precision_score(y_true, y_pred))"
      ],
      "metadata": {
        "colab": {
          "base_uri": "https://localhost:8080/"
        },
        "id": "0pTXkcoyhEDB",
        "outputId": "f7415a2f-9112-42fd-9ac1-efa9aaa63108"
      },
      "execution_count": null,
      "outputs": [
        {
          "output_type": "stream",
          "name": "stdout",
          "text": [
            "Precision: 0.000\n"
          ]
        }
      ]
    },
    {
      "cell_type": "code",
      "source": [
        "y_pred = y_pred_lsa\n",
        "y_true = dftest[\"sentiment_boolean\"]\n",
        "\n",
        "precision, recall, fscore, support = score(y_true, y_pred)\n",
        "\n",
        "print('precision: {}'.format(precision))\n",
        "print('recall: {}'.format(recall))\n",
        "print('fscore: {}'.format(fscore))\n",
        "print('support: {}'.format(support))"
      ],
      "metadata": {
        "colab": {
          "base_uri": "https://localhost:8080/"
        },
        "id": "7ljuNWFRhE-S",
        "outputId": "c55c415d-b14a-4401-e6b9-b3ce5602e255"
      },
      "execution_count": null,
      "outputs": [
        {
          "output_type": "stream",
          "name": "stdout",
          "text": [
            "precision: [0. 0.]\n",
            "recall: [0. 0.]\n",
            "fscore: [0. 0.]\n",
            "support: [12500. 12500.]\n"
          ]
        }
      ]
    },
    {
      "cell_type": "code",
      "source": [
        "from sklearn.metrics import classification_report\n",
        "\n",
        "y_pred = y_pred_lsa\n",
        "y_true = dftest[\"sentiment_boolean\"]\n",
        "\n",
        "print(classification_report(y_true, y_pred))"
      ],
      "metadata": {
        "colab": {
          "base_uri": "https://localhost:8080/"
        },
        "id": "ZP-QwTcBhXXC",
        "outputId": "214b4b8e-6472-471e-85ad-39a0d294846e"
      },
      "execution_count": null,
      "outputs": [
        {
          "output_type": "stream",
          "name": "stdout",
          "text": [
            "              precision    recall  f1-score   support\n",
            "\n",
            "           0       0.00      0.00      0.00   12500.0\n",
            "           1       0.00      0.00      0.00   12500.0\n",
            "\n",
            "    accuracy                           0.00   25000.0\n",
            "   macro avg       0.00      0.00      0.00   25000.0\n",
            "weighted avg       0.00      0.00      0.00   25000.0\n",
            "\n"
          ]
        }
      ]
    },
    {
      "cell_type": "markdown",
      "source": [
        "# Transformando o texto de uma query em vetores de características"
      ],
      "metadata": {
        "id": "0N_GyP2DhduB"
      }
    },
    {
      "cell_type": "code",
      "source": [
        "dftest"
      ],
      "metadata": {
        "colab": {
          "base_uri": "https://localhost:8080/",
          "height": 423
        },
        "id": "pbDu3ypxvwRP",
        "outputId": "10aeeb3c-8150-47eb-a026-a44f3695c079"
      },
      "execution_count": null,
      "outputs": [
        {
          "output_type": "execute_result",
          "data": {
            "text/html": [
              "\n",
              "  <div id=\"df-778879fa-b078-4790-84a4-d911088658ec\">\n",
              "    <div class=\"colab-df-container\">\n",
              "      <div>\n",
              "<style scoped>\n",
              "    .dataframe tbody tr th:only-of-type {\n",
              "        vertical-align: middle;\n",
              "    }\n",
              "\n",
              "    .dataframe tbody tr th {\n",
              "        vertical-align: top;\n",
              "    }\n",
              "\n",
              "    .dataframe thead th {\n",
              "        text-align: right;\n",
              "    }\n",
              "</style>\n",
              "<table border=\"1\" class=\"dataframe\">\n",
              "  <thead>\n",
              "    <tr style=\"text-align: right;\">\n",
              "      <th></th>\n",
              "      <th>Unnamed: 0</th>\n",
              "      <th>review</th>\n",
              "      <th>sentiment</th>\n",
              "      <th>sentiment_boolean</th>\n",
              "    </tr>\n",
              "  </thead>\n",
              "  <tbody>\n",
              "    <tr>\n",
              "      <th>0</th>\n",
              "      <td>8992</td>\n",
              "      <td>This film is the proof that a good actor is no...</td>\n",
              "      <td>negative</td>\n",
              "      <td>0</td>\n",
              "    </tr>\n",
              "    <tr>\n",
              "      <th>1</th>\n",
              "      <td>9488</td>\n",
              "      <td>A while back I bought the Chinese box set of F...</td>\n",
              "      <td>positive</td>\n",
              "      <td>1</td>\n",
              "    </tr>\n",
              "    <tr>\n",
              "      <th>2</th>\n",
              "      <td>4433</td>\n",
              "      <td>I cannot believe that the actor agreed to do t...</td>\n",
              "      <td>negative</td>\n",
              "      <td>0</td>\n",
              "    </tr>\n",
              "    <tr>\n",
              "      <th>3</th>\n",
              "      <td>104</td>\n",
              "      <td>This movie ha more goof than any other movie I...</td>\n",
              "      <td>negative</td>\n",
              "      <td>0</td>\n",
              "    </tr>\n",
              "    <tr>\n",
              "      <th>4</th>\n",
              "      <td>8222</td>\n",
              "      <td>Lackawanna Bluesis so emotionally powerful in ...</td>\n",
              "      <td>positive</td>\n",
              "      <td>1</td>\n",
              "    </tr>\n",
              "    <tr>\n",
              "      <th>...</th>\n",
              "      <td>...</td>\n",
              "      <td>...</td>\n",
              "      <td>...</td>\n",
              "      <td>...</td>\n",
              "    </tr>\n",
              "    <tr>\n",
              "      <th>24995</th>\n",
              "      <td>10955</td>\n",
              "      <td>Separate LIES changed my life Actually the QA ...</td>\n",
              "      <td>positive</td>\n",
              "      <td>1</td>\n",
              "    </tr>\n",
              "    <tr>\n",
              "      <th>24996</th>\n",
              "      <td>4789</td>\n",
              "      <td>This movie is awful beyond belief Its a lowbud...</td>\n",
              "      <td>negative</td>\n",
              "      <td>0</td>\n",
              "    </tr>\n",
              "    <tr>\n",
              "      <th>24997</th>\n",
              "      <td>5192</td>\n",
              "      <td>As you can see I loved the book so much I use ...</td>\n",
              "      <td>positive</td>\n",
              "      <td>1</td>\n",
              "    </tr>\n",
              "    <tr>\n",
              "      <th>24998</th>\n",
              "      <td>12172</td>\n",
              "      <td>I saw this minimovie when it first aired and l...</td>\n",
              "      <td>positive</td>\n",
              "      <td>1</td>\n",
              "    </tr>\n",
              "    <tr>\n",
              "      <th>24999</th>\n",
              "      <td>235</td>\n",
              "      <td>Kannathil Muthamittal is for sure a great movi...</td>\n",
              "      <td>positive</td>\n",
              "      <td>1</td>\n",
              "    </tr>\n",
              "  </tbody>\n",
              "</table>\n",
              "<p>25000 rows × 4 columns</p>\n",
              "</div>\n",
              "      <button class=\"colab-df-convert\" onclick=\"convertToInteractive('df-778879fa-b078-4790-84a4-d911088658ec')\"\n",
              "              title=\"Convert this dataframe to an interactive table.\"\n",
              "              style=\"display:none;\">\n",
              "        \n",
              "  <svg xmlns=\"http://www.w3.org/2000/svg\" height=\"24px\"viewBox=\"0 0 24 24\"\n",
              "       width=\"24px\">\n",
              "    <path d=\"M0 0h24v24H0V0z\" fill=\"none\"/>\n",
              "    <path d=\"M18.56 5.44l.94 2.06.94-2.06 2.06-.94-2.06-.94-.94-2.06-.94 2.06-2.06.94zm-11 1L8.5 8.5l.94-2.06 2.06-.94-2.06-.94L8.5 2.5l-.94 2.06-2.06.94zm10 10l.94 2.06.94-2.06 2.06-.94-2.06-.94-.94-2.06-.94 2.06-2.06.94z\"/><path d=\"M17.41 7.96l-1.37-1.37c-.4-.4-.92-.59-1.43-.59-.52 0-1.04.2-1.43.59L10.3 9.45l-7.72 7.72c-.78.78-.78 2.05 0 2.83L4 21.41c.39.39.9.59 1.41.59.51 0 1.02-.2 1.41-.59l7.78-7.78 2.81-2.81c.8-.78.8-2.07 0-2.86zM5.41 20L4 18.59l7.72-7.72 1.47 1.35L5.41 20z\"/>\n",
              "  </svg>\n",
              "      </button>\n",
              "      \n",
              "  <style>\n",
              "    .colab-df-container {\n",
              "      display:flex;\n",
              "      flex-wrap:wrap;\n",
              "      gap: 12px;\n",
              "    }\n",
              "\n",
              "    .colab-df-convert {\n",
              "      background-color: #E8F0FE;\n",
              "      border: none;\n",
              "      border-radius: 50%;\n",
              "      cursor: pointer;\n",
              "      display: none;\n",
              "      fill: #1967D2;\n",
              "      height: 32px;\n",
              "      padding: 0 0 0 0;\n",
              "      width: 32px;\n",
              "    }\n",
              "\n",
              "    .colab-df-convert:hover {\n",
              "      background-color: #E2EBFA;\n",
              "      box-shadow: 0px 1px 2px rgba(60, 64, 67, 0.3), 0px 1px 3px 1px rgba(60, 64, 67, 0.15);\n",
              "      fill: #174EA6;\n",
              "    }\n",
              "\n",
              "    [theme=dark] .colab-df-convert {\n",
              "      background-color: #3B4455;\n",
              "      fill: #D2E3FC;\n",
              "    }\n",
              "\n",
              "    [theme=dark] .colab-df-convert:hover {\n",
              "      background-color: #434B5C;\n",
              "      box-shadow: 0px 1px 3px 1px rgba(0, 0, 0, 0.15);\n",
              "      filter: drop-shadow(0px 1px 2px rgba(0, 0, 0, 0.3));\n",
              "      fill: #FFFFFF;\n",
              "    }\n",
              "  </style>\n",
              "\n",
              "      <script>\n",
              "        const buttonEl =\n",
              "          document.querySelector('#df-778879fa-b078-4790-84a4-d911088658ec button.colab-df-convert');\n",
              "        buttonEl.style.display =\n",
              "          google.colab.kernel.accessAllowed ? 'block' : 'none';\n",
              "\n",
              "        async function convertToInteractive(key) {\n",
              "          const element = document.querySelector('#df-778879fa-b078-4790-84a4-d911088658ec');\n",
              "          const dataTable =\n",
              "            await google.colab.kernel.invokeFunction('convertToInteractive',\n",
              "                                                     [key], {});\n",
              "          if (!dataTable) return;\n",
              "\n",
              "          const docLinkHtml = 'Like what you see? Visit the ' +\n",
              "            '<a target=\"_blank\" href=https://colab.research.google.com/notebooks/data_table.ipynb>data table notebook</a>'\n",
              "            + ' to learn more about interactive tables.';\n",
              "          element.innerHTML = '';\n",
              "          dataTable['output_type'] = 'display_data';\n",
              "          await google.colab.output.renderOutput(dataTable, element);\n",
              "          const docLink = document.createElement('div');\n",
              "          docLink.innerHTML = docLinkHtml;\n",
              "          element.appendChild(docLink);\n",
              "        }\n",
              "      </script>\n",
              "    </div>\n",
              "  </div>\n",
              "  "
            ],
            "text/plain": [
              "       Unnamed: 0                                             review  \\\n",
              "0            8992  This film is the proof that a good actor is no...   \n",
              "1            9488  A while back I bought the Chinese box set of F...   \n",
              "2            4433  I cannot believe that the actor agreed to do t...   \n",
              "3             104  This movie ha more goof than any other movie I...   \n",
              "4            8222  Lackawanna Bluesis so emotionally powerful in ...   \n",
              "...           ...                                                ...   \n",
              "24995       10955  Separate LIES changed my life Actually the QA ...   \n",
              "24996        4789  This movie is awful beyond belief Its a lowbud...   \n",
              "24997        5192  As you can see I loved the book so much I use ...   \n",
              "24998       12172  I saw this minimovie when it first aired and l...   \n",
              "24999         235  Kannathil Muthamittal is for sure a great movi...   \n",
              "\n",
              "      sentiment  sentiment_boolean  \n",
              "0      negative                  0  \n",
              "1      positive                  1  \n",
              "2      negative                  0  \n",
              "3      negative                  0  \n",
              "4      positive                  1  \n",
              "...         ...                ...  \n",
              "24995  positive                  1  \n",
              "24996  negative                  0  \n",
              "24997  positive                  1  \n",
              "24998  positive                  1  \n",
              "24999  positive                  1  \n",
              "\n",
              "[25000 rows x 4 columns]"
            ]
          },
          "metadata": {},
          "execution_count": 112
        }
      ]
    },
    {
      "cell_type": "code",
      "source": [
        "# Pre processamento\n",
        "query = ['film', 'one', 'play', 'look', 'see', 'positive', 'know', 'story', 'work', 'character', 'make', 'director', 'little', 'find', 'scene', 'even', 'show', 'people', 'well', 'made', 'life']\n",
        "\n",
        "# Extração de características de contagem\n",
        "X_query = count_vect_final.transform(query)\n",
        "print('1a etapa de extração de características')\n",
        "print(X_query)\n",
        "\n",
        "# Extração de características de frequência TF-IDF\n",
        "X_tfidf_query = tfidf_transformer.transform(X_query)\n",
        "print('2a etapa de extração de características')\n",
        "print(X_tfidf_query)\n",
        "\n",
        "# Extração dos embeddings da query\n",
        "X_lsa_query = svd.transform(X_tfidf_query)\n",
        "print('3a etapa de extração de características')\n",
        "print(X_lsa_query)"
      ],
      "metadata": {
        "colab": {
          "base_uri": "https://localhost:8080/"
        },
        "id": "-nbLWO7thcmO",
        "outputId": "00a5708c-c753-413e-cce7-b50bf9dca0fe"
      },
      "execution_count": null,
      "outputs": [
        {
          "output_type": "stream",
          "name": "stdout",
          "text": [
            "1a etapa de extração de características\n",
            "  (0, 595)\t1\n",
            "  (1, 544)\t1\n",
            "  (2, 719)\t1\n",
            "  (3, 2658)\t1\n",
            "  (4, 361)\t1\n",
            "  (5, 2252)\t1\n",
            "  (6, 812)\t1\n",
            "  (7, 2606)\t1\n",
            "  (8, 2278)\t1\n",
            "  (9, 902)\t1\n",
            "  (10, 1905)\t1\n",
            "  (11, 2145)\t1\n",
            "  (12, 1761)\t1\n",
            "  (13, 1773)\t1\n",
            "  (14, 1687)\t1\n",
            "  (15, 2748)\t1\n",
            "  (16, 2)\t1\n",
            "  (17, 254)\t1\n",
            "  (18, 1032)\t1\n",
            "  (19, 2282)\t1\n",
            "  (20, 1927)\t1\n",
            "2a etapa de extração de características\n",
            "  (0, 595)\t1.0\n",
            "  (1, 544)\t1.0\n",
            "  (2, 719)\t1.0\n",
            "  (3, 2658)\t1.0\n",
            "  (4, 361)\t1.0\n",
            "  (5, 2252)\t1.0\n",
            "  (6, 812)\t1.0\n",
            "  (7, 2606)\t1.0\n",
            "  (8, 2278)\t1.0\n",
            "  (9, 902)\t1.0\n",
            "  (10, 1905)\t1.0\n",
            "  (11, 2145)\t1.0\n",
            "  (12, 1761)\t1.0\n",
            "  (13, 1773)\t1.0\n",
            "  (14, 1687)\t1.0\n",
            "  (15, 2748)\t1.0\n",
            "  (16, 2)\t1.0\n",
            "  (17, 254)\t1.0\n",
            "  (18, 1032)\t1.0\n",
            "  (19, 2282)\t1.0\n",
            "  (20, 1927)\t1.0\n",
            "3a etapa de extração de características\n",
            "[[ 1.43580561e-01 -1.28975843e-01 -3.42032587e-01 ...  2.86493311e-02\n",
            "  -1.74572294e-02  1.55081813e-02]\n",
            " [ 8.55607350e-02  1.27591127e-03 -3.67742321e-02 ... -4.01851332e-03\n",
            "   2.20605726e-02 -9.01363619e-03]\n",
            " [ 2.53251979e-02 -4.18051414e-02  1.39724061e-02 ...  4.60395620e-02\n",
            "   7.68254499e-02 -3.42152392e-02]\n",
            " ...\n",
            " [ 4.33976323e-02 -2.13298785e-03 -9.22359797e-03 ... -6.90965682e-02\n",
            "   5.60981852e-03  9.90042614e-02]\n",
            " [ 4.03367929e-02  3.66940059e-02 -2.83831726e-05 ... -8.24044278e-02\n",
            "   3.10541840e-02  7.01167359e-02]\n",
            " [ 3.71403075e-02 -4.27783051e-02  1.59666874e-02 ...  1.77214662e-01\n",
            "  -1.12248860e-02  5.14078658e-02]]\n"
          ]
        }
      ]
    },
    {
      "cell_type": "markdown",
      "source": [
        "#Recuperar documentos mais relevantes dada uma query"
      ],
      "metadata": {
        "id": "Yzes64kbhk42"
      }
    },
    {
      "cell_type": "code",
      "source": [
        "print(X_lsa_query.shape)"
      ],
      "metadata": {
        "colab": {
          "base_uri": "https://localhost:8080/"
        },
        "id": "9NpYO8p3hjFH",
        "outputId": "2cd4c62c-c268-4607-cb70-320a8ee68d55"
      },
      "execution_count": null,
      "outputs": [
        {
          "output_type": "stream",
          "name": "stdout",
          "text": [
            "(21, 100)\n"
          ]
        }
      ]
    },
    {
      "cell_type": "code",
      "source": [
        "# Matriz de vetores dos documentos -> X_lsa\n",
        "# Vetor da query -> X_lsa_query\n",
        "# Recuperar k documentos mais relevantes a query\n",
        "k = 3\n",
        "\n",
        "output_distances = pairwise_distances(X_lsa, X_lsa_query, metric='euclidean')[:,0]\n",
        "sorted_distances = list(sorted(output_distances))[:k]\n",
        "sorted_indexes = list(np.argsort(output_distances)[:k])\n",
        "\n",
        "print(query)\n",
        "for id_doc, dist in zip(sorted_indexes, sorted_distances):\n",
        "    print('Doc id: ', id_doc, ' Distance: ', dist)"
      ],
      "metadata": {
        "colab": {
          "base_uri": "https://localhost:8080/"
        },
        "id": "1iVCoo3vh0rn",
        "outputId": "e8fa8d2b-383c-4156-ffd7-c16b9b4f6583"
      },
      "execution_count": null,
      "outputs": [
        {
          "output_type": "stream",
          "name": "stdout",
          "text": [
            "['film', 'one', 'play', 'look', 'see', 'positive', 'know', 'story', 'work', 'character', 'make', 'director', 'little', 'find', 'scene', 'even', 'show', 'people', 'well', 'made', 'life']\n",
            "Doc id:  14072  Distance:  0.719576280170402\n",
            "Doc id:  24986  Distance:  0.7238294378977631\n",
            "Doc id:  141  Distance:  0.7500102780341615\n"
          ]
        }
      ]
    },
    {
      "cell_type": "code",
      "source": [
        "rf_clf_tfidf.predict(X_tfidf_query)"
      ],
      "metadata": {
        "id": "5pQNQvsqhkJs",
        "colab": {
          "base_uri": "https://localhost:8080/"
        },
        "outputId": "8ecb2875-7216-4791-c5dd-7741cad9e249"
      },
      "execution_count": null,
      "outputs": [
        {
          "output_type": "stream",
          "name": "stderr",
          "text": [
            "[Parallel(n_jobs=2)]: Using backend ThreadingBackend with 2 concurrent workers.\n",
            "[Parallel(n_jobs=2)]: Done  37 tasks      | elapsed:    0.0s\n",
            "[Parallel(n_jobs=2)]: Done 158 tasks      | elapsed:    0.0s\n",
            "[Parallel(n_jobs=2)]: Done 361 tasks      | elapsed:    0.1s\n",
            "[Parallel(n_jobs=2)]: Done 500 out of 500 | elapsed:    0.1s finished\n"
          ]
        },
        {
          "output_type": "execute_result",
          "data": {
            "text/plain": [
              "array([ True,  True,  True,  True,  True,  True,  True,  True,  True,\n",
              "        True,  True,  True,  True,  True,  True,  True,  True,  True,\n",
              "        True,  True,  True])"
            ]
          },
          "metadata": {},
          "execution_count": 116
        }
      ]
    },
    {
      "cell_type": "markdown",
      "source": [
        "# Sumarização de conteúdo\n",
        "https://github.com/accel-brain/accel-brain-code/tree/master/Automatic-Summarization/\n"
      ],
      "metadata": {
        "id": "-hAVMG3RmvCC"
      }
    },
    {
      "cell_type": "markdown",
      "source": [
        "### **pysummarization** é uma biblioteca de sumarização automática feita pela Accel Brain Co.,Ltd. Usando um tipo de processamento de linguagem natural e modelo de linguagem de rede neural. Essa biblioteca permite que você crie um resumo com os principais pontos do documento original ou texto extraído da web, filtrado por agrupamento de texto. E esta biblioteca aplica o accel-brain-base para implementar o Encoder/Decoder baseado em LSTM melhorando a precisão da sumarização por aprendizado de Sequence-to-Sequence(Seq2Seq)."
      ],
      "metadata": {
        "id": "4D9RVgk5qLPz"
      }
    },
    {
      "cell_type": "code",
      "source": [
        "!pip install pysummarization"
      ],
      "metadata": {
        "colab": {
          "base_uri": "https://localhost:8080/"
        },
        "id": "C9KSTJMUsqo6",
        "outputId": "98e5ba65-73dc-4b10-96b0-245b996cd809"
      },
      "execution_count": null,
      "outputs": [
        {
          "output_type": "stream",
          "name": "stdout",
          "text": [
            "Requirement already satisfied: pysummarization in /usr/local/lib/python3.7/dist-packages (1.1.8)\n",
            "Requirement already satisfied: nltk in /usr/local/lib/python3.7/dist-packages (from pysummarization) (3.2.5)\n",
            "Requirement already satisfied: numpy in /usr/local/lib/python3.7/dist-packages (from pysummarization) (1.21.5)\n",
            "Requirement already satisfied: six in /usr/local/lib/python3.7/dist-packages (from nltk->pysummarization) (1.15.0)\n"
          ]
        }
      ]
    },
    {
      "cell_type": "code",
      "source": [
        "query"
      ],
      "metadata": {
        "colab": {
          "base_uri": "https://localhost:8080/"
        },
        "id": "5ylY7Y7ls4ih",
        "outputId": "6d95298b-ca97-400b-f987-56be7e084047"
      },
      "execution_count": null,
      "outputs": [
        {
          "output_type": "execute_result",
          "data": {
            "text/plain": [
              "['film',\n",
              " 'one',\n",
              " 'play',\n",
              " 'look',\n",
              " 'see',\n",
              " 'positive',\n",
              " 'know',\n",
              " 'story',\n",
              " 'work',\n",
              " 'character',\n",
              " 'make',\n",
              " 'director',\n",
              " 'little',\n",
              " 'find',\n",
              " 'scene',\n",
              " 'even',\n",
              " 'show',\n",
              " 'people',\n",
              " 'well',\n",
              " 'made',\n",
              " 'life']"
            ]
          },
          "metadata": {},
          "execution_count": 118
        }
      ]
    },
    {
      "cell_type": "code",
      "source": [
        "' '.join(str(e) for e in query)"
      ],
      "metadata": {
        "colab": {
          "base_uri": "https://localhost:8080/",
          "height": 35
        },
        "id": "z1pm7AWffqBo",
        "outputId": "e8873fc2-d14e-4f40-c32c-c88c3f11fb7b"
      },
      "execution_count": null,
      "outputs": [
        {
          "output_type": "execute_result",
          "data": {
            "application/vnd.google.colaboratory.intrinsic+json": {
              "type": "string"
            },
            "text/plain": [
              "'film one play look see positive know story work character make director little find scene even show people well made life'"
            ]
          },
          "metadata": {},
          "execution_count": 119
        }
      ]
    },
    {
      "cell_type": "code",
      "source": [
        "# Object of automatic summarization.\n",
        "auto_abstractor = AutoAbstractor()\n",
        "# Set tokenizer.\n",
        "auto_abstractor.tokenizable_doc = SimpleTokenizer()\n",
        "# Set delimiter for making a list of sentence.\n",
        "auto_abstractor.delimiter_list = [\".\", \"\\n\"]\n",
        "# Object of abstracting and filtering document.\n",
        "abstractable_doc = TopNRankAbstractor()\n",
        "# Summarize document.\n",
        "result_dict = auto_abstractor.summarize(' '.join(str(e) for e in query), abstractable_doc)\n",
        "\n",
        "# Output result.\n",
        "for sentence in result_dict[\"summarize_result\"]:\n",
        "    print(sentence)"
      ],
      "metadata": {
        "colab": {
          "base_uri": "https://localhost:8080/"
        },
        "id": "eLufhJuhtDZC",
        "outputId": "947da61e-9d12-4827-c576-d49b54dd459b"
      },
      "execution_count": null,
      "outputs": [
        {
          "output_type": "stream",
          "name": "stdout",
          "text": [
            "film one play look see positive know story work character make director little find scene even show people well made life.\n",
            "\n"
          ]
        }
      ]
    },
    {
      "cell_type": "code",
      "source": [
        "result_dict"
      ],
      "metadata": {
        "colab": {
          "base_uri": "https://localhost:8080/"
        },
        "id": "xy6jjABslN2L",
        "outputId": "66158845-b417-4fcd-cda2-647760b555c6"
      },
      "execution_count": null,
      "outputs": [
        {
          "output_type": "execute_result",
          "data": {
            "text/plain": [
              "{'scoring_data': [(0, 20.0)],\n",
              " 'summarize_result': ['film one play look see positive know story work character make director little find scene even show people well made life.\\n']}"
            ]
          },
          "metadata": {},
          "execution_count": 121
        }
      ]
    },
    {
      "cell_type": "code",
      "source": [
        "# summarize_result: The list of summarized sentences \n",
        "# scoring_data:     The list of scores(Rank of importance)"
      ],
      "metadata": {
        "id": "RA9pYhJjiz33"
      },
      "execution_count": null,
      "outputs": []
    }
  ],
  "metadata": {
    "colab": {
      "collapsed_sections": [],
      "name": "NLP_Pipline_ACL_IMDB_sintment_analyses_FINAL.ipynb",
      "provenance": [],
      "include_colab_link": true
    },
    "kernelspec": {
      "display_name": "Python 3",
      "name": "python3"
    },
    "language_info": {
      "name": "python"
    }
  },
  "nbformat": 4,
  "nbformat_minor": 0
}